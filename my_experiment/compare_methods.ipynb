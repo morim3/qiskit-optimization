{
  "nbformat": 4,
  "nbformat_minor": 0,
  "metadata": {
    "colab": {
      "provenance": [],
      "authorship_tag": "ABX9TyMil2SZORLst2M+sbGuUfef",
      "include_colab_link": true
    },
    "kernelspec": {
      "name": "python3",
      "display_name": "Python 3"
    },
    "language_info": {
      "name": "python"
    }
  },
  "cells": [
    {
      "cell_type": "markdown",
      "metadata": {
        "id": "view-in-github",
        "colab_type": "text"
      },
      "source": [
        "<a href=\"https://colab.research.google.com/github/morim3/qiskit-optimization/blob/main/my_experiment/compare_methods.ipynb\" target=\"_parent\"><img src=\"https://colab.research.google.com/assets/colab-badge.svg\" alt=\"Open In Colab\"/></a>"
      ]
    },
    {
      "cell_type": "code",
      "execution_count": 1,
      "metadata": {
        "colab": {
          "base_uri": "https://localhost:8080/"
        },
        "id": "wvF0-Um9Xlaw",
        "outputId": "6add203d-3200-433d-e9b7-2bcdc64fb901"
      },
      "outputs": [
        {
          "output_type": "stream",
          "name": "stdout",
          "text": [
            "Cloning into 'qiskit-optimization'...\n",
            "remote: Enumerating objects: 4195, done.\u001b[K\n",
            "remote: Counting objects: 100% (260/260), done.\u001b[K\n",
            "remote: Compressing objects: 100% (169/169), done.\u001b[K\n",
            "remote: Total 4195 (delta 166), reused 166 (delta 88), pack-reused 3935\u001b[K\n",
            "Receiving objects: 100% (4195/4195), 5.29 MiB | 10.23 MiB/s, done.\n",
            "Resolving deltas: 100% (2779/2779), done.\n"
          ]
        }
      ],
      "source": [
        "!rm -rf qiskit-optimization/\n",
        "!git clone https://github.com/morim3/qiskit-optimization"
      ]
    },
    {
      "cell_type": "code",
      "source": [
        "!nvidia-smi\n",
        "# !pip install -r qiskit-optimization/requirements-dev.txt\n",
        "!pip install qiskit-aer-gpu\n",
        "!pip install docplex\n",
        "!pip install pylatexenc\n",
        "\n",
        "import sys\n",
        "sys.path.append(\"./qiskit-optimization/\")"
      ],
      "metadata": {
        "colab": {
          "base_uri": "https://localhost:8080/"
        },
        "id": "H0tAYDVnXob2",
        "outputId": "d3758fcb-55d2-40b0-f72c-e52f2f201733"
      },
      "execution_count": 2,
      "outputs": [
        {
          "output_type": "stream",
          "name": "stdout",
          "text": [
            "NVIDIA-SMI has failed because it couldn't communicate with the NVIDIA driver. Make sure that the latest NVIDIA driver is installed and running.\n",
            "\n",
            "Looking in indexes: https://pypi.org/simple, https://us-python.pkg.dev/colab-wheels/public/simple/\n",
            "Collecting qiskit-aer-gpu\n",
            "  Downloading qiskit_aer_gpu-0.11.1-cp38-cp38-manylinux_2_12_x86_64.manylinux2010_x86_64.whl (22.8 MB)\n",
            "\u001b[K     |████████████████████████████████| 22.8 MB 1.6 MB/s \n",
            "\u001b[?25hRequirement already satisfied: numpy>=1.16.3 in /usr/local/lib/python3.8/dist-packages (from qiskit-aer-gpu) (1.21.6)\n",
            "Collecting qiskit-terra>=0.21.0\n",
            "  Downloading qiskit_terra-0.22.3-cp38-cp38-manylinux_2_17_x86_64.manylinux2014_x86_64.whl (4.8 MB)\n",
            "\u001b[K     |████████████████████████████████| 4.8 MB 40.5 MB/s \n",
            "\u001b[?25hRequirement already satisfied: scipy>=1.0 in /usr/local/lib/python3.8/dist-packages (from qiskit-aer-gpu) (1.7.3)\n",
            "Requirement already satisfied: python-dateutil>=2.8.0 in /usr/local/lib/python3.8/dist-packages (from qiskit-terra>=0.21.0->qiskit-aer-gpu) (2.8.2)\n",
            "Collecting symengine>=0.9\n",
            "  Downloading symengine-0.9.2-cp38-cp38-manylinux2010_x86_64.whl (37.5 MB)\n",
            "\u001b[K     |████████████████████████████████| 37.5 MB 156 kB/s \n",
            "\u001b[?25hCollecting tweedledum<2.0,>=1.1\n",
            "  Downloading tweedledum-1.1.1-cp38-cp38-manylinux_2_12_x86_64.manylinux2010_x86_64.whl (929 kB)\n",
            "\u001b[K     |████████████████████████████████| 929 kB 52.7 MB/s \n",
            "\u001b[?25hCollecting stevedore>=3.0.0\n",
            "  Downloading stevedore-4.1.1-py3-none-any.whl (50 kB)\n",
            "\u001b[K     |████████████████████████████████| 50 kB 3.1 MB/s \n",
            "\u001b[?25hRequirement already satisfied: psutil>=5 in /usr/local/lib/python3.8/dist-packages (from qiskit-terra>=0.21.0->qiskit-aer-gpu) (5.4.8)\n",
            "Collecting ply>=3.10\n",
            "  Downloading ply-3.11-py2.py3-none-any.whl (49 kB)\n",
            "\u001b[K     |████████████████████████████████| 49 kB 3.4 MB/s \n",
            "\u001b[?25hRequirement already satisfied: dill>=0.3 in /usr/local/lib/python3.8/dist-packages (from qiskit-terra>=0.21.0->qiskit-aer-gpu) (0.3.6)\n",
            "Collecting retworkx>=0.11.0\n",
            "  Downloading retworkx-0.12.1-py3-none-any.whl (10 kB)\n",
            "Requirement already satisfied: sympy>=1.3 in /usr/local/lib/python3.8/dist-packages (from qiskit-terra>=0.21.0->qiskit-aer-gpu) (1.7.1)\n",
            "Requirement already satisfied: six>=1.5 in /usr/local/lib/python3.8/dist-packages (from python-dateutil>=2.8.0->qiskit-terra>=0.21.0->qiskit-aer-gpu) (1.15.0)\n",
            "Collecting rustworkx==0.12.1\n",
            "  Downloading rustworkx-0.12.1-cp38-cp38-manylinux_2_17_x86_64.manylinux2014_x86_64.whl (1.9 MB)\n",
            "\u001b[K     |████████████████████████████████| 1.9 MB 41.5 MB/s \n",
            "\u001b[?25hCollecting pbr!=2.1.0,>=2.0.0\n",
            "  Downloading pbr-5.11.0-py2.py3-none-any.whl (112 kB)\n",
            "\u001b[K     |████████████████████████████████| 112 kB 69.0 MB/s \n",
            "\u001b[?25hRequirement already satisfied: mpmath>=0.19 in /usr/local/lib/python3.8/dist-packages (from sympy>=1.3->qiskit-terra>=0.21.0->qiskit-aer-gpu) (1.2.1)\n",
            "Installing collected packages: rustworkx, pbr, tweedledum, symengine, stevedore, retworkx, ply, qiskit-terra, qiskit-aer-gpu\n",
            "Successfully installed pbr-5.11.0 ply-3.11 qiskit-aer-gpu-0.11.1 qiskit-terra-0.22.3 retworkx-0.12.1 rustworkx-0.12.1 stevedore-4.1.1 symengine-0.9.2 tweedledum-1.1.1\n",
            "Looking in indexes: https://pypi.org/simple, https://us-python.pkg.dev/colab-wheels/public/simple/\n",
            "Collecting docplex\n",
            "  Downloading docplex-2.24.232.tar.gz (640 kB)\n",
            "\u001b[K     |████████████████████████████████| 640 kB 7.4 MB/s \n",
            "\u001b[?25hRequirement already satisfied: six in /usr/local/lib/python3.8/dist-packages (from docplex) (1.15.0)\n",
            "Building wheels for collected packages: docplex\n",
            "  Building wheel for docplex (setup.py) ... \u001b[?25l\u001b[?25hdone\n",
            "  Created wheel for docplex: filename=docplex-2.24.232-py3-none-any.whl size=682306 sha256=d9a5582b21ab5f5dfe3dadb55b8d0e219ce0103c1ba52420b8cd75a3da1dcaca\n",
            "  Stored in directory: /root/.cache/pip/wheels/cd/84/5d/b9c307d9cf361c49d41ddea36761e226bba3afdfd038673dcd\n",
            "Successfully built docplex\n",
            "Installing collected packages: docplex\n",
            "Successfully installed docplex-2.24.232\n",
            "Looking in indexes: https://pypi.org/simple, https://us-python.pkg.dev/colab-wheels/public/simple/\n",
            "Collecting pylatexenc\n",
            "  Downloading pylatexenc-2.10.tar.gz (162 kB)\n",
            "\u001b[K     |████████████████████████████████| 162 kB 6.5 MB/s \n",
            "\u001b[?25hBuilding wheels for collected packages: pylatexenc\n",
            "  Building wheel for pylatexenc (setup.py) ... \u001b[?25l\u001b[?25hdone\n",
            "  Created wheel for pylatexenc: filename=pylatexenc-2.10-py3-none-any.whl size=136833 sha256=77b497786419f81045dfc067af5e3dcf9a6b1db1df460c9ed43fc9bcc91b4335\n",
            "  Stored in directory: /root/.cache/pip/wheels/72/99/be/81d9bcdf5dd5ee5acd8119a9dd5bc07204c9ce205fd341b021\n",
            "Successfully built pylatexenc\n",
            "Installing collected packages: pylatexenc\n",
            "Successfully installed pylatexenc-2.10\n"
          ]
        }
      ]
    },
    {
      "cell_type": "code",
      "source": [
        "%load_ext autoreload\n",
        "%autoreload\n",
        "\n",
        "from qiskit.algorithms import NumPyMinimumEigensolver\n",
        "from qiskit_optimization.algorithms import PQCGroverOptimizer, GroverOptimizer, MinimumEigenOptimizer\n",
        "from qiskit_optimization.algorithms.pqc_grover_optimizer import ProposeDistribution\n",
        "from qiskit_optimization.problems import QuadraticProgram\n",
        "from qiskit_optimization.translators import from_docplex_mp\n",
        "from qiskit import Aer, QuantumCircuit\n",
        "from qiskit.utils import QuantumInstance\n",
        "from qiskit.circuit.library import TwoLocal\n",
        "from docplex.mp.model import Model\n",
        "import numpy as np\n",
        "print(Aer.backends())\n",
        "backend = Aer.get_backend('aer_simulator')\n",
        "backend.set_options(device='GPU')\n",
        "backend_statevector = Aer.get_backend('statevector_simulator')\n",
        "print(backend)"
      ],
      "metadata": {
        "colab": {
          "base_uri": "https://localhost:8080/"
        },
        "id": "10KAuzrZXqEC",
        "outputId": "d4e60a96-7d81-45f7-f36c-efb18c3b417d"
      },
      "execution_count": 3,
      "outputs": [
        {
          "output_type": "stream",
          "name": "stdout",
          "text": [
            "[AerSimulator('aer_simulator'), AerSimulator('aer_simulator_statevector'), AerSimulator('aer_simulator_density_matrix'), AerSimulator('aer_simulator_stabilizer'), AerSimulator('aer_simulator_matrix_product_state'), AerSimulator('aer_simulator_extended_stabilizer'), AerSimulator('aer_simulator_unitary'), AerSimulator('aer_simulator_superop'), QasmSimulator('qasm_simulator'), StatevectorSimulator('statevector_simulator'), UnitarySimulator('unitary_simulator'), PulseSimulator('pulse_simulator')]\n",
            "aer_simulator_gpu\n"
          ]
        }
      ]
    },
    {
      "cell_type": "code",
      "source": [
        "def get_problem(dim):\n",
        "  import itertools\n",
        "  model = Model()\n",
        "  xs = [model.binary_var(name=f\"x{i}\") for i in range(dim)]\n",
        "  objective = sum([np.random.randint(1, 4) * x for x in xs]) + \\\n",
        "      sum([np.random.randint(-4, -1) * x * y \n",
        "      for x, y in itertools.combinations(xs, 2) \n",
        "      if np.random.choice([0, 1], p=[2/3, 1/3])==1])\n",
        "  # objective = (-xs[0]+2*xs[1]-3*xs[2]-2*xs[0]*xs[2]-1*xs[1]*xs[2])\n",
        "  model.minimize(objective)\n",
        "  qp = from_docplex_mp(model)\n",
        "  return qp\n",
        "\n",
        "def eval_num(operation_dict, optimal_iteration):\n",
        "    eval_num = 0\n",
        "    for i, x in enumerate(operation_dict.values()):\n",
        "      if i <= optimal_iteration:\n",
        "        eval_num += x['Q(x)']\n",
        "        if 'Q' in x:\n",
        "            eval_num += x['Q']\n",
        "    return eval_num\n",
        "\n",
        "def exact_solution(qp):\n",
        "  exact_solver = MinimumEigenOptimizer(NumPyMinimumEigensolver())\n",
        "  exact_result = exact_solver.solve(qp)\n",
        "  return exact_result.fval\n",
        "\n",
        "def pqc_optimizer(qp, exact_fval):\n",
        "  num_key_qbits = len(qp.objective.linear.to_array())\n",
        "  init_state = QuantumCircuit(num_key_qbits)\n",
        "  init_state.h(range(num_key_qbits))\n",
        "  ansatz = TwoLocal(num_key_qbits, 'ry', 'crx', 'circular', reps=1,\n",
        "                    insert_barriers=True,\n",
        "                    initial_state=init_state,\n",
        "                    skip_final_rotation_layer=True,\n",
        "                    )\n",
        "  \n",
        "  init_param = np.zeros(ansatz.num_parameters)\n",
        "  propose_distribution = ProposeDistribution(\n",
        "      ansatz,                 \n",
        "      num_key_qbits, \n",
        "      QuantumInstance(backend=backend, shots=1024, seed_simulator=99),\n",
        "      init_param=init_param\n",
        "      )\n",
        "  grover_optimizer = PQCGroverOptimizer(\n",
        "      num_value_qubits=8, \n",
        "      propose_dist=propose_distribution,\n",
        "      num_iterations=15, \n",
        "      quantum_instance=backend,      \n",
        "      sample_num=1, quantile=0.,\n",
        "      threshold_lr=1. ,\n",
        "      positive_train_conf={\"iter\": 5, \"learning_rate\": 0.001},\n",
        "      negative_train_conf={\"iter\": 5, \"learning_rate\": 0.0001})\n",
        "  results = grover_optimizer.solve(qp)\n",
        "  is_optimal = results.intermediate_fval <= exact_fval\n",
        "  eval_num = eval_num(results.operation_counts, results._optimal_iteration)\n",
        "  return is_optimal, eval_num\n",
        "\n",
        "def pbil_optimizer(qp, exact_fval):\n",
        "  grover_optimizer = PBILGroverOptimizer(8, num_iterations=15, quantum_instance=backend, \n",
        "                                       pbil_sample_num=1, quantile=0., lr=0.05, )\n",
        "  results = grover_optimizer.solve(qp)\n",
        "\n",
        "def grover_optimizer(qp, exact_fval):\n",
        "  grover_optimizer = GroverOptimizer(8, num_iterations=15, quantum_instance=backend,)\n",
        "  results = grover_optimizer.solve(qp)\n",
        "  is_optimal = results.intermediate_fval <= exact_fval\n",
        "  eval_num = eval_num(results.operation_counts, results._optimal_iteration)\n",
        "  \n",
        "  return is_optimal, eval_num\n",
        "\n",
        "def pbil_optimizer(qp, exact_fval):\n",
        "  grover_optimizer = PBILGroverOptimizer(8, num_iterations=15, quantum_instance=backend, \n",
        "                                       pbil_sample_num=1, quantile=0., lr=0.05, )\n",
        "  results = grover_optimizer.solve(qp)\n",
        "  is_optimal = results.intermediate_fval <= exact_fval\n",
        "  eval_num = eval_num(results.operation_counts, results._optimal_iteration)\n",
        "  return is_optimal, eval_num\n",
        "  \n",
        "\n",
        "def compere_performance(dim, exp_num):\n",
        "  pqc_evals = []\n",
        "  pbil_evals = []\n",
        "  grover_evals = []\n",
        "  for n_exp in range(exp_num):\n",
        "    qp = get_problem(dim)\n",
        "    exact_fval = exact_solution(qp)\n",
        "\n",
        "    is_optimal, eval_num = pqc_optimizer(qp, exact_fval)\n",
        "    if is_optimal:\n",
        "      pqc_evals.append(eval_num)\n",
        "\n",
        "    is_optimal, eval_num = pbil_optimizer(qp, exact_fval)\n",
        "    if is_optimal:\n",
        "      pbil_evals.append(eval_num)\n",
        "\n",
        "    is_optimal, eval_num = grover_optimizer(qp, exact_fval)\n",
        "    if is_optimal:\n",
        "      grover_evals.append(eval_num)\n",
        "\n",
        "  return np.array(pqc_evals), np.array(pbil_evals), np.array(grover_evals)\n",
        "\n"
      ],
      "metadata": {
        "id": "CzjlEOsQXrqt"
      },
      "execution_count": 4,
      "outputs": []
    },
    {
      "cell_type": "code",
      "source": [
        "results = []\n",
        "for dim in [5, 7, 10, 13]:\n",
        "  results.append(compare_performance(dim, 5))"
      ],
      "metadata": {
        "colab": {
          "base_uri": "https://localhost:8080/",
          "height": 209
        },
        "id": "B4PBBSaLXr0i",
        "outputId": "03fb269d-0289-4f2f-9b1a-1125cfa051e1"
      },
      "execution_count": 5,
      "outputs": [
        {
          "output_type": "error",
          "ename": "NameError",
          "evalue": "ignored",
          "traceback": [
            "\u001b[0;31m---------------------------------------------------------------------------\u001b[0m",
            "\u001b[0;31mNameError\u001b[0m                                 Traceback (most recent call last)",
            "\u001b[0;32m<ipython-input-5-68cae69e95b3>\u001b[0m in \u001b[0;36m<module>\u001b[0;34m\u001b[0m\n\u001b[1;32m      1\u001b[0m \u001b[0mresults\u001b[0m \u001b[0;34m=\u001b[0m \u001b[0;34m[\u001b[0m\u001b[0;34m]\u001b[0m\u001b[0;34m\u001b[0m\u001b[0;34m\u001b[0m\u001b[0m\n\u001b[1;32m      2\u001b[0m \u001b[0;32mfor\u001b[0m \u001b[0mdim\u001b[0m \u001b[0;32min\u001b[0m \u001b[0;34m[\u001b[0m\u001b[0;36m5\u001b[0m\u001b[0;34m,\u001b[0m \u001b[0;36m7\u001b[0m\u001b[0;34m,\u001b[0m \u001b[0;36m10\u001b[0m\u001b[0;34m,\u001b[0m \u001b[0;36m13\u001b[0m\u001b[0;34m]\u001b[0m\u001b[0;34m:\u001b[0m\u001b[0;34m\u001b[0m\u001b[0;34m\u001b[0m\u001b[0m\n\u001b[0;32m----> 3\u001b[0;31m   \u001b[0mresults\u001b[0m\u001b[0;34m.\u001b[0m\u001b[0mappend\u001b[0m\u001b[0;34m(\u001b[0m\u001b[0mcompare_performance\u001b[0m\u001b[0;34m(\u001b[0m\u001b[0mdim\u001b[0m\u001b[0;34m,\u001b[0m \u001b[0;36m5\u001b[0m\u001b[0;34m)\u001b[0m\u001b[0;34m)\u001b[0m\u001b[0;34m\u001b[0m\u001b[0;34m\u001b[0m\u001b[0m\n\u001b[0m",
            "\u001b[0;31mNameError\u001b[0m: name 'compare_performance' is not defined"
          ]
        }
      ]
    },
    {
      "cell_type": "code",
      "source": [],
      "metadata": {
        "id": "MrJXh_8taDyA"
      },
      "execution_count": null,
      "outputs": []
    }
  ]
}