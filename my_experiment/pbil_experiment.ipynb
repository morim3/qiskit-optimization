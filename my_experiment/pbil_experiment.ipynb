{
 "cells": [
  {
   "cell_type": "code",
   "execution_count": null,
   "id": "a9f44d6c",
   "metadata": {},
   "outputs": [],
   "source": []
  },
  {
   "cell_type": "code",
   "execution_count": 16,
   "id": "68681a10",
   "metadata": {},
   "outputs": [
    {
     "name": "stdout",
     "output_type": "stream",
     "text": [
      "The autoreload extension is already loaded. To reload it, use:\n",
      "  %reload_ext autoreload\n"
     ]
    }
   ],
   "source": [
    "%load_ext autoreload\n",
    "%autoreload\n",
    "import sys\n",
    "sys.path.append(\"../\")\n",
    "\n",
    "from qiskit.algorithms import NumPyMinimumEigensolver\n",
    "from qiskit_optimization.algorithms import PBILGroverOptimizer, GroverOptimizer, MinimumEigenOptimizer\n",
    "from qiskit_optimization.problems import QuadraticProgram\n",
    "from qiskit_optimization.translators import from_docplex_mp\n",
    "from qiskit import Aer\n",
    "from docplex.mp.model import Model\n",
    "import numpy as np\n",
    "backend = Aer.get_backend('aer_simulator')\n",
    "backend.set_options(device='GPU')"
   ]
  },
  {
   "cell_type": "code",
   "execution_count": 33,
   "id": "cd72d5ca",
   "metadata": {},
   "outputs": [
    {
     "name": "stdout",
     "output_type": "stream",
     "text": [
      "Problem name: docplex_model6\n",
      "\n",
      "Minimize\n",
      "  2*x0^2 + 3*x0*x1 + 2*x0*x2 - 3*x0*x3 - 3*x0*x4 + 2*x0*x5 - 2*x0*x7 - 2*x0*x8\n",
      "  + x1^2 + x1*x2 + 2*x1*x3 + x1*x4 - x1*x5 + x1*x6 - 3*x1*x7 - 4*x1*x8 - 2*x2^2\n",
      "  - x2*x3 - 4*x2*x4 - 2*x2*x5 + 2*x2*x6 - 3*x2*x8 + 4*x3*x4 - x3*x7 + x3*x8\n",
      "  - x4^2 + 2*x4*x5 + 4*x4*x6 - 2*x4*x7 + 3*x4*x8 + 2*x5*x6 - 4*x5*x8 + 2*x6^2\n",
      "  + x6*x7 - 3*x6*x8 - x7^2 + 2*x8^2 + 2*x0 + 2*x4 + x5 + 2*x6 + x7 + 2*x8\n",
      "\n",
      "Subject to\n",
      "  No constraints\n",
      "\n",
      "  Binary variables (9)\n",
      "    x0 x1 x2 x3 x4 x5 x6 x7 x8\n",
      "\n"
     ]
    }
   ],
   "source": [
    "model = Model()\n",
    "xs = [model.binary_var(name=f\"x{i}\") for i in range(9)]\n",
    "objective = sum([np.random.randint(0, 3) * x for x in xs]) + sum([np.random.randint(-2, 3) * x * y for x in xs for y in xs])\n",
    "# objective = (-xs[0]+2*xs[1]-3*xs[2]-2*xs[0]*xs[2]-1*xs[1]*xs[2])\n",
    "model.minimize(objective)\n",
    "qp = from_docplex_mp(model)\n",
    "print(qp.prettyprint())"
   ]
  },
  {
   "cell_type": "code",
   "execution_count": 34,
   "id": "560910e6",
   "metadata": {},
   "outputs": [
    {
     "name": "stdout",
     "output_type": "stream",
     "text": [
      "objective function value: -12.0\n",
      "variable values: x0=0.0, x1=1.0, x2=1.0, x3=0.0, x4=0.0, x5=1.0, x6=0.0, x7=1.0, x8=1.0\n",
      "status: SUCCESS\n"
     ]
    }
   ],
   "source": [
    "exact_solver = MinimumEigenOptimizer(NumPyMinimumEigensolver())\n",
    "exact_result = exact_solver.solve(qp)\n",
    "print(exact_result.prettyprint())"
   ]
  },
  {
   "cell_type": "code",
   "execution_count": 35,
   "id": "85d3c53c",
   "metadata": {
    "scrolled": true
   },
   "outputs": [
    {
     "name": "stdout",
     "output_type": "stream",
     "text": [
      "sampled [1 1 1 1 1 1 1 0 0]\n",
      "value 21\n",
      "real_val 21.0\n",
      "sampled [1 0 1 0 1 0 0 1 1]\n",
      "value -4\n",
      "real_val -4.0\n",
      "param [0.65 0.35 0.65 0.35 0.65 0.35 0.35 0.65 0.65]\n",
      "threshold -4\n",
      "sampled [1 0 1 0 1 1 0 1 1]\n",
      "value -5\n",
      "real_val -5.0\n",
      "param [0.755 0.245 0.755 0.245 0.755 0.545 0.245 0.755 0.755]\n",
      "threshold -5\n",
      "sampled [1 0 0 1 0 1 0 1 1]\n",
      "value 0\n",
      "real_val 0.0\n",
      "sampled [1 1 0 1 1 0 0 1 1]\n",
      "value 4\n",
      "real_val 4.0\n",
      "sampled [1 0 1 0 1 0 1 1 1]\n",
      "value 4\n",
      "real_val 4.0\n",
      "sampled [1 1 1 1 0 1 0 1 1]\n",
      "value -7\n",
      "real_val -7.0\n",
      "param [0.8285 0.4715 0.8285 0.4715 0.5285 0.6815 0.1715 0.8285 0.8285]\n",
      "threshold -7\n",
      "sampled [1 0 1 1 0 1 0 1 0]\n",
      "value -2\n",
      "real_val -2.0\n",
      "sampled [1 0 0 0 0 1 0 1 1]\n",
      "value 3\n",
      "real_val 3.0\n",
      "sampled [1 0 0 0 1 1 0 1 1]\n",
      "value 4\n",
      "real_val 4.0\n",
      "sampled [0 1 1 0 1 1 0 1 1]\n",
      "value -11\n",
      "real_val -11.0\n",
      "param [0.57995 0.63005 0.87995 0.33005 0.66995 0.77705 0.12005 0.87995 0.87995]\n",
      "threshold -11\n",
      "sampled [0 1 0 1 1 1 0 1 1]\n",
      "value 5\n",
      "real_val 5.0\n",
      "sampled [0 1 1 1 1 1 0 1 1]\n",
      "value -6\n",
      "real_val -6.0\n",
      "sampled [0 1 1 0 1 1 0 1 1]\n",
      "value -11\n",
      "real_val -11.0\n",
      "sampled [0 1 1 0 0 1 0 1 1]\n",
      "value -12\n",
      "real_val -12.0\n",
      "param [0.405965 0.741035 0.915965 0.231035 0.468965 0.843935 0.084035 0.915965\n",
      " 0.915965]\n",
      "threshold -12\n",
      "sampled [0 1 1 1 0 1 0 1 1]\n",
      "value -11\n",
      "real_val -11.0\n",
      "sampled [0 0 1 0 0 1 0 1 1]\n",
      "value -6\n",
      "real_val -6.0\n",
      "sampled [1 1 1 0 0 1 0 1 1]\n",
      "value -5\n",
      "real_val -5.0\n",
      "sampled [0 0 1 0 1 1 0 1 1]\n",
      "value -6\n",
      "real_val -6.0\n",
      "sampled [1 1 0 1 1 1 0 1 1]\n",
      "value 4\n",
      "real_val 4.0\n",
      "sampled [1 1 0 0 0 1 0 1 1]\n",
      "value -1\n",
      "real_val -1.0\n",
      "sampled [0 1 1 0 0 1 0 0 1]\n",
      "value -9\n",
      "real_val -9.0\n",
      "sampled [1 1 1 0 0 1 0 1 1]\n",
      "value -5\n",
      "real_val -5.0\n",
      "sampled [0 1 1 1 1 1 0 1 1]\n",
      "value -6\n",
      "real_val -6.0\n",
      "sampled [1 1 1 0 0 1 0 1 1]\n",
      "value -5\n",
      "real_val -5.0\n",
      "objective function value: -12.0\n",
      "variable values: x0=0.0, x1=1.0, x2=1.0, x3=0.0, x4=0.0, x5=1.0, x6=0.0, x7=1.0, x8=1.0\n",
      "status: SUCCESS\n",
      "{0: OrderedDict([('measure', 18), ('ry', 9), ('Q(x)', 1)]), 1: OrderedDict([('measure', 18), ('ry', 9), ('Q(x)', 1)]), 2: OrderedDict([('measure', 18), ('ry', 9), ('Q(x)', 1)]), 3: OrderedDict([('measure', 18), ('ry', 9), ('Q(x)', 1)]), 4: OrderedDict([('measure', 18), ('ry', 9), ('Q(x)', 1)]), 5: OrderedDict([('measure', 18), ('ry', 9), ('Q(x)', 1)]), 6: OrderedDict([('measure', 18), ('ry', 9), ('Q', 3), ('Q(x)', 1)]), 7: OrderedDict([('measure', 18), ('ry', 9), ('Q(x)', 1)]), 8: OrderedDict([('measure', 18), ('ry', 9), ('Q(x)', 1)]), 9: OrderedDict([('measure', 18), ('ry', 9), ('Q', 2), ('Q(x)', 1)]), 10: OrderedDict([('measure', 18), ('ry', 9), ('Q', 2), ('Q(x)', 1)]), 11: OrderedDict([('measure', 18), ('ry', 9), ('Q(x)', 1)]), 12: OrderedDict([('measure', 18), ('ry', 9), ('Q(x)', 1)]), 13: OrderedDict([('measure', 18), ('ry', 9), ('Q(x)', 1), ('Q', 1)]), 14: OrderedDict([('measure', 18), ('ry', 9), ('Q', 3), ('Q(x)', 1)]), 15: OrderedDict([('measure', 18), ('ry', 9), ('Q(x)', 1)]), 16: OrderedDict([('measure', 18), ('ry', 9), ('Q(x)', 1), ('Q', 1)]), 17: OrderedDict([('measure', 18), ('ry', 9), ('Q(x)', 1), ('Q', 1)]), 18: OrderedDict([('measure', 18), ('ry', 9), ('Q(x)', 1)]), 19: OrderedDict([('measure', 18), ('ry', 9), ('Q', 2), ('Q(x)', 1)]), 20: OrderedDict([('measure', 18), ('ry', 9), ('Q', 4), ('Q(x)', 1)]), 21: OrderedDict([('measure', 18), ('ry', 9), ('Q(x)', 1)]), 22: OrderedDict([('measure', 18), ('ry', 9), ('Q(x)', 1), ('Q', 1)]), 23: OrderedDict([('measure', 18), ('ry', 9), ('Q', 8), ('Q(x)', 1)]), 24: OrderedDict([('measure', 18), ('ry', 9), ('Q', 9), ('Q(x)', 1)])}\n"
     ]
    }
   ],
   "source": [
    "grover_optimizer = PBILGroverOptimizer(8, num_iterations=10, quantum_instance=backend, \n",
    "                                       pbil_sample_num=1, quantile=0., lr=0.3, )\n",
    "results = grover_optimizer.solve(qp)\n",
    "print(results.prettyprint())\n",
    "print(results.operation_counts)"
   ]
  },
  {
   "cell_type": "code",
   "execution_count": 36,
   "id": "d024f39a",
   "metadata": {},
   "outputs": [],
   "source": [
    "def eval_num(operation_dict):\n",
    "    eval_num = 0\n",
    "    for x in operation_dict.values():\n",
    "        eval_num += x['Q(x)']\n",
    "        if 'Q' in x:\n",
    "            eval_num += x['Q']\n",
    "    return eval_num"
   ]
  },
  {
   "cell_type": "code",
   "execution_count": 37,
   "id": "71ee9350",
   "metadata": {},
   "outputs": [
    {
     "data": {
      "text/plain": [
       "62"
      ]
     },
     "execution_count": 37,
     "metadata": {},
     "output_type": "execute_result"
    }
   ],
   "source": [
    "eval_num(results.operation_counts)"
   ]
  },
  {
   "cell_type": "code",
   "execution_count": 38,
   "id": "f5fe0935",
   "metadata": {},
   "outputs": [
    {
     "name": "stdout",
     "output_type": "stream",
     "text": [
      "objective function value: -12.0\n",
      "variable values: x0=0.0, x1=1.0, x2=1.0, x3=0.0, x4=0.0, x5=1.0, x6=0.0, x7=1.0, x8=1.0\n",
      "status: SUCCESS\n",
      "{0: OrderedDict([('measure', 18), ('h', 9), ('Q(x)', 1)]), 1: OrderedDict([('measure', 18), ('h', 9), ('Q(x)', 1)]), 2: OrderedDict([('measure', 18), ('h', 9), ('Q(x)', 1), ('Q', 1)]), 3: OrderedDict([('measure', 18), ('h', 9), ('Q(x)', 1)]), 4: OrderedDict([('measure', 18), ('h', 9), ('Q(x)', 1)]), 5: OrderedDict([('measure', 18), ('h', 9), ('Q(x)', 1)]), 6: OrderedDict([('measure', 18), ('h', 9), ('Q(x)', 1), ('Q', 1)]), 7: OrderedDict([('measure', 18), ('h', 9), ('Q(x)', 1)]), 8: OrderedDict([('measure', 18), ('h', 9), ('Q', 3), ('Q(x)', 1)]), 9: OrderedDict([('measure', 18), ('h', 9), ('Q(x)', 1)]), 10: OrderedDict([('measure', 18), ('h', 9), ('Q(x)', 1)]), 11: OrderedDict([('measure', 18), ('h', 9), ('Q(x)', 1)]), 12: OrderedDict([('measure', 18), ('h', 9), ('Q(x)', 1), ('Q', 1)]), 13: OrderedDict([('measure', 18), ('h', 9), ('Q(x)', 1), ('Q', 1)]), 14: OrderedDict([('measure', 18), ('h', 9), ('Q', 2), ('Q(x)', 1)]), 15: OrderedDict([('measure', 18), ('h', 9), ('Q(x)', 1)]), 16: OrderedDict([('measure', 18), ('h', 9), ('Q(x)', 1), ('Q', 1)]), 17: OrderedDict([('measure', 18), ('h', 9), ('Q', 2), ('Q(x)', 1)]), 18: OrderedDict([('measure', 18), ('h', 9), ('Q', 2), ('Q(x)', 1)]), 19: OrderedDict([('measure', 18), ('h', 9), ('Q(x)', 1), ('Q', 1)]), 20: OrderedDict([('measure', 18), ('h', 9), ('Q(x)', 1), ('Q', 1)]), 21: OrderedDict([('measure', 18), ('h', 9), ('Q', 2), ('Q(x)', 1)]), 22: OrderedDict([('measure', 18), ('h', 9), ('Q', 6), ('Q(x)', 1)]), 23: OrderedDict([('measure', 18), ('h', 9), ('Q', 9), ('Q(x)', 1)]), 24: OrderedDict([('measure', 18), ('h', 9), ('Q', 8), ('Q(x)', 1)])}\n"
     ]
    }
   ],
   "source": [
    "grover_optimizer = GroverOptimizer(8, num_iterations=10, quantum_instance=backend,)\n",
    "results = grover_optimizer.solve(qp)\n",
    "print(results.prettyprint())\n",
    "print(results.operation_counts)"
   ]
  },
  {
   "cell_type": "code",
   "execution_count": 39,
   "id": "5646e073",
   "metadata": {},
   "outputs": [
    {
     "data": {
      "text/plain": [
       "66"
      ]
     },
     "execution_count": 39,
     "metadata": {},
     "output_type": "execute_result"
    }
   ],
   "source": [
    "eval_num(results.operation_counts)"
   ]
  },
  {
   "cell_type": "code",
   "execution_count": 111,
   "id": "72c494d3",
   "metadata": {},
   "outputs": [
    {
     "name": "stdout",
     "output_type": "stream",
     "text": [
      "objective function value: -57.0\n",
      "variable values: x0=0.0, x1=1.0, x2=1.0, x3=1.0, x4=1.0, x5=1.0, x6=0.0, x7=1.0, x8=1.0, x9=1.0\n",
      "status: SUCCESS\n"
     ]
    }
   ],
   "source": []
  },
  {
   "cell_type": "code",
   "execution_count": null,
   "id": "5ffa18ce",
   "metadata": {},
   "outputs": [],
   "source": [
    "grover_optimizer._pbil_param\n",
    "grover_optimizer._threshold"
   ]
  },
  {
   "cell_type": "code",
   "execution_count": 12,
   "id": "c382c6f6",
   "metadata": {},
   "outputs": [
    {
     "data": {
      "text/plain": [
       "docplex.mp.quad.QuadExpr(-0.332x0^2-0.867x0*x1-0.715x0*x2-1.384x0*x3-0.650x0*x4-0.167x0*x5-0.652x0*x6-1.137x0*x7-1.154x0*x8-1.501x0*x9-0.167x1^2-0.950x1*x2-1.070x1*x3-0.809x1*x4-1.145x1*x5-0.446x1*x6-0.326x1*x7-0.954x1*x8-1.285x1*x9-0.646x2^2-0.478x2*x3-0.394x2*x4-1.630x2*x5-0.255x2*x6-0.831x2*x7-1.478x2*x8-1.231x2*x9-0.170x3^2-0.347x3*x4-0.710x3*x5-1.273x3*x6-1.429x3*x7-0.786x3*x8-1.224x3*x9-0.935x4^2-1.334x4*x5-1.073x4*x6-0.728x4*x7-1.189x4*x8-0.887x4*x9-0.666x5^2-0.549x5*x6-0.758x5*x7-0.789x5*x8-0.765x5*x9-0.856x6^2-1.423x6*x7-1.099x6*x8-1.471x6*x9-0.445x7^2-1.026x7*x8-1.879x7*x9-0.080x8^2-1.241x8*x9-0.211x9^2-0.942x0+0.875x1+0.554x2+0.216x3+0.323x4+1.168x5-0.749x6-1.689x7-0.921x8-0.942x9)"
      ]
     },
     "execution_count": 12,
     "metadata": {},
     "output_type": "execute_result"
    }
   ],
   "source": [
    "objective"
   ]
  },
  {
   "cell_type": "code",
   "execution_count": null,
   "id": "fecbc40d",
   "metadata": {},
   "outputs": [],
   "source": []
  }
 ],
 "metadata": {
  "kernelspec": {
   "display_name": "Python 3 (ipykernel)",
   "language": "python",
   "name": "python3"
  },
  "language_info": {
   "codemirror_mode": {
    "name": "ipython",
    "version": 3
   },
   "file_extension": ".py",
   "mimetype": "text/x-python",
   "name": "python",
   "nbconvert_exporter": "python",
   "pygments_lexer": "ipython3",
   "version": "3.8.10"
  }
 },
 "nbformat": 4,
 "nbformat_minor": 5
}
