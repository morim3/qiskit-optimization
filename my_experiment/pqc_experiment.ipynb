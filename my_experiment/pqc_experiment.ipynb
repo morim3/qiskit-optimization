{
  "cells": [
    {
      "cell_type": "code",
      "source": [
        "!rm -rf qiskit-optimization/\n",
        "!git clone https://github.com/morim3/qiskit-optimization"
      ],
      "metadata": {
        "id": "bmSrwE7GfqqU",
        "outputId": "16580089-6856-4441-f06c-6552082941d0",
        "colab": {
          "base_uri": "https://localhost:8080/"
        }
      },
      "id": "bmSrwE7GfqqU",
      "execution_count": 1,
      "outputs": [
        {
          "output_type": "stream",
          "name": "stdout",
          "text": [
            "Cloning into 'qiskit-optimization'...\n",
            "remote: Enumerating objects: 4172, done.\u001b[K\n",
            "remote: Counting objects: 100% (237/237), done.\u001b[K\n",
            "remote: Compressing objects: 100% (154/154), done.\u001b[K\n",
            "remote: Total 4172 (delta 150), reused 154 (delta 80), pack-reused 3935\u001b[K\n",
            "Receiving objects: 100% (4172/4172), 5.08 MiB | 12.01 MiB/s, done.\n",
            "Resolving deltas: 100% (2786/2786), done.\n"
          ]
        }
      ]
    },
    {
      "cell_type": "code",
      "execution_count": 2,
      "id": "a9f44d6c",
      "metadata": {
        "colab": {
          "base_uri": "https://localhost:8080/"
        },
        "id": "a9f44d6c",
        "outputId": "1a255c94-5ee2-4574-93d7-eb2679f08c03"
      },
      "outputs": [
        {
          "output_type": "stream",
          "name": "stdout",
          "text": [
            "Thu Dec  1 19:50:29 2022       \n",
            "+-----------------------------------------------------------------------------+\n",
            "| NVIDIA-SMI 460.32.03    Driver Version: 460.32.03    CUDA Version: 11.2     |\n",
            "|-------------------------------+----------------------+----------------------+\n",
            "| GPU  Name        Persistence-M| Bus-Id        Disp.A | Volatile Uncorr. ECC |\n",
            "| Fan  Temp  Perf  Pwr:Usage/Cap|         Memory-Usage | GPU-Util  Compute M. |\n",
            "|                               |                      |               MIG M. |\n",
            "|===============================+======================+======================|\n",
            "|   0  Tesla T4            Off  | 00000000:00:04.0 Off |                    0 |\n",
            "| N/A   53C    P0    28W /  70W |      0MiB / 15109MiB |      0%      Default |\n",
            "|                               |                      |                  N/A |\n",
            "+-------------------------------+----------------------+----------------------+\n",
            "                                                                               \n",
            "+-----------------------------------------------------------------------------+\n",
            "| Processes:                                                                  |\n",
            "|  GPU   GI   CI        PID   Type   Process name                  GPU Memory |\n",
            "|        ID   ID                                                   Usage      |\n",
            "|=============================================================================|\n",
            "|  No running processes found                                                 |\n",
            "+-----------------------------------------------------------------------------+\n",
            "Looking in indexes: https://pypi.org/simple, https://us-python.pkg.dev/colab-wheels/public/simple/\n",
            "Collecting qiskit-aer-gpu\n",
            "  Downloading qiskit_aer_gpu-0.11.1-cp38-cp38-manylinux_2_12_x86_64.manylinux2010_x86_64.whl (22.8 MB)\n",
            "\u001b[K     |████████████████████████████████| 22.8 MB 1.4 MB/s \n",
            "\u001b[?25hRequirement already satisfied: scipy>=1.0 in /usr/local/lib/python3.8/dist-packages (from qiskit-aer-gpu) (1.7.3)\n",
            "Collecting qiskit-terra>=0.21.0\n",
            "  Downloading qiskit_terra-0.22.3-cp38-cp38-manylinux_2_17_x86_64.manylinux2014_x86_64.whl (4.8 MB)\n",
            "\u001b[K     |████████████████████████████████| 4.8 MB 58.3 MB/s \n",
            "\u001b[?25hRequirement already satisfied: numpy>=1.16.3 in /usr/local/lib/python3.8/dist-packages (from qiskit-aer-gpu) (1.21.6)\n",
            "Collecting ply>=3.10\n",
            "  Downloading ply-3.11-py2.py3-none-any.whl (49 kB)\n",
            "\u001b[K     |████████████████████████████████| 49 kB 7.5 MB/s \n",
            "\u001b[?25hRequirement already satisfied: dill>=0.3 in /usr/local/lib/python3.8/dist-packages (from qiskit-terra>=0.21.0->qiskit-aer-gpu) (0.3.6)\n",
            "Requirement already satisfied: python-dateutil>=2.8.0 in /usr/local/lib/python3.8/dist-packages (from qiskit-terra>=0.21.0->qiskit-aer-gpu) (2.8.2)\n",
            "Collecting tweedledum<2.0,>=1.1\n",
            "  Downloading tweedledum-1.1.1-cp38-cp38-manylinux_2_12_x86_64.manylinux2010_x86_64.whl (929 kB)\n",
            "\u001b[K     |████████████████████████████████| 929 kB 82.7 MB/s \n",
            "\u001b[?25hRequirement already satisfied: sympy>=1.3 in /usr/local/lib/python3.8/dist-packages (from qiskit-terra>=0.21.0->qiskit-aer-gpu) (1.7.1)\n",
            "Collecting stevedore>=3.0.0\n",
            "  Downloading stevedore-4.1.1-py3-none-any.whl (50 kB)\n",
            "\u001b[K     |████████████████████████████████| 50 kB 8.3 MB/s \n",
            "\u001b[?25hCollecting symengine>=0.9\n",
            "  Downloading symengine-0.9.2-cp38-cp38-manylinux2010_x86_64.whl (37.5 MB)\n",
            "\u001b[K     |████████████████████████████████| 37.5 MB 316 kB/s \n",
            "\u001b[?25hRequirement already satisfied: psutil>=5 in /usr/local/lib/python3.8/dist-packages (from qiskit-terra>=0.21.0->qiskit-aer-gpu) (5.4.8)\n",
            "Collecting retworkx>=0.11.0\n",
            "  Downloading retworkx-0.12.1-py3-none-any.whl (10 kB)\n",
            "Requirement already satisfied: six>=1.5 in /usr/local/lib/python3.8/dist-packages (from python-dateutil>=2.8.0->qiskit-terra>=0.21.0->qiskit-aer-gpu) (1.15.0)\n",
            "Collecting rustworkx==0.12.1\n",
            "  Downloading rustworkx-0.12.1-cp38-cp38-manylinux_2_17_x86_64.manylinux2014_x86_64.whl (1.9 MB)\n",
            "\u001b[K     |████████████████████████████████| 1.9 MB 54.0 MB/s \n",
            "\u001b[?25hCollecting pbr!=2.1.0,>=2.0.0\n",
            "  Downloading pbr-5.11.0-py2.py3-none-any.whl (112 kB)\n",
            "\u001b[K     |████████████████████████████████| 112 kB 88.7 MB/s \n",
            "\u001b[?25hRequirement already satisfied: mpmath>=0.19 in /usr/local/lib/python3.8/dist-packages (from sympy>=1.3->qiskit-terra>=0.21.0->qiskit-aer-gpu) (1.2.1)\n",
            "Installing collected packages: rustworkx, pbr, tweedledum, symengine, stevedore, retworkx, ply, qiskit-terra, qiskit-aer-gpu\n",
            "Successfully installed pbr-5.11.0 ply-3.11 qiskit-aer-gpu-0.11.1 qiskit-terra-0.22.3 retworkx-0.12.1 rustworkx-0.12.1 stevedore-4.1.1 symengine-0.9.2 tweedledum-1.1.1\n",
            "Looking in indexes: https://pypi.org/simple, https://us-python.pkg.dev/colab-wheels/public/simple/\n",
            "Collecting docplex\n",
            "  Downloading docplex-2.24.232.tar.gz (640 kB)\n",
            "\u001b[K     |████████████████████████████████| 640 kB 32.5 MB/s \n",
            "\u001b[?25hRequirement already satisfied: six in /usr/local/lib/python3.8/dist-packages (from docplex) (1.15.0)\n",
            "Building wheels for collected packages: docplex\n",
            "  Building wheel for docplex (setup.py) ... \u001b[?25l\u001b[?25hdone\n",
            "  Created wheel for docplex: filename=docplex-2.24.232-py3-none-any.whl size=682306 sha256=5986efe2d0ef8ddb0974fdca9c43dffee938c394769ea65fb6e8a9acc3cadf57\n",
            "  Stored in directory: /root/.cache/pip/wheels/cd/84/5d/b9c307d9cf361c49d41ddea36761e226bba3afdfd038673dcd\n",
            "Successfully built docplex\n",
            "Installing collected packages: docplex\n",
            "Successfully installed docplex-2.24.232\n",
            "Looking in indexes: https://pypi.org/simple, https://us-python.pkg.dev/colab-wheels/public/simple/\n",
            "Collecting pylatexenc\n",
            "  Downloading pylatexenc-2.10.tar.gz (162 kB)\n",
            "\u001b[K     |████████████████████████████████| 162 kB 32.0 MB/s \n",
            "\u001b[?25hBuilding wheels for collected packages: pylatexenc\n",
            "  Building wheel for pylatexenc (setup.py) ... \u001b[?25l\u001b[?25hdone\n",
            "  Created wheel for pylatexenc: filename=pylatexenc-2.10-py3-none-any.whl size=136833 sha256=4b293c5a95ac88a783955c8b3a05c8607640f9b77f78b51485c2b195390846bd\n",
            "  Stored in directory: /root/.cache/pip/wheels/72/99/be/81d9bcdf5dd5ee5acd8119a9dd5bc07204c9ce205fd341b021\n",
            "Successfully built pylatexenc\n",
            "Installing collected packages: pylatexenc\n",
            "Successfully installed pylatexenc-2.10\n"
          ]
        }
      ],
      "source": [
        "!nvidia-smi\n",
        "# !pip install -r qiskit-optimization/requirements-dev.txt\n",
        "!pip install qiskit-aer-gpu\n",
        "!pip install docplex\n",
        "!pip install pylatexenc\n",
        "\n",
        "import sys\n",
        "sys.path.append(\"./qiskit-optimization/\")"
      ]
    },
    {
      "cell_type": "code",
      "execution_count": 3,
      "id": "68681a10",
      "metadata": {
        "colab": {
          "base_uri": "https://localhost:8080/"
        },
        "id": "68681a10",
        "outputId": "3a06ea3c-5569-4c69-d6be-6d5dbc1a50a7"
      },
      "outputs": [
        {
          "output_type": "stream",
          "name": "stdout",
          "text": [
            "[AerSimulator('aer_simulator'), AerSimulator('aer_simulator_statevector'), AerSimulator('aer_simulator_statevector_gpu'), AerSimulator('aer_simulator_density_matrix'), AerSimulator('aer_simulator_density_matrix_gpu'), AerSimulator('aer_simulator_stabilizer'), AerSimulator('aer_simulator_matrix_product_state'), AerSimulator('aer_simulator_extended_stabilizer'), AerSimulator('aer_simulator_unitary'), AerSimulator('aer_simulator_unitary_gpu'), AerSimulator('aer_simulator_superop'), QasmSimulator('qasm_simulator'), StatevectorSimulator('statevector_simulator'), UnitarySimulator('unitary_simulator'), PulseSimulator('pulse_simulator')]\n",
            "aer_simulator_gpu\n"
          ]
        }
      ],
      "source": [
        "%load_ext autoreload\n",
        "%autoreload\n",
        "\n",
        "from qiskit.algorithms import NumPyMinimumEigensolver\n",
        "from qiskit_optimization.algorithms import PQCGroverOptimizer, GroverOptimizer, MinimumEigenOptimizer\n",
        "from qiskit_optimization.algorithms.pqc_grover_optimizer import ProposeDistribution\n",
        "from qiskit_optimization.problems import QuadraticProgram\n",
        "from qiskit_optimization.translators import from_docplex_mp\n",
        "from qiskit import Aer, QuantumCircuit\n",
        "from qiskit.utils import QuantumInstance\n",
        "from qiskit.circuit.library import TwoLocal\n",
        "from docplex.mp.model import Model\n",
        "import numpy as np\n",
        "print(Aer.backends())\n",
        "backend = Aer.get_backend('aer_simulator')\n",
        "backend.set_options(device='GPU')\n",
        "backend_statevector = Aer.get_backend('statevector_simulator')\n",
        "print(backend)"
      ]
    },
    {
      "cell_type": "code",
      "execution_count": 4,
      "id": "cd72d5ca",
      "metadata": {
        "colab": {
          "base_uri": "https://localhost:8080/"
        },
        "id": "cd72d5ca",
        "outputId": "ae340a6c-8d2f-466a-f971-23052273e02b"
      },
      "outputs": [
        {
          "output_type": "stream",
          "name": "stdout",
          "text": [
            "Problem name: docplex_model1\n",
            "\n",
            "Minimize\n",
            "  -4*x0*x2 - 2*x0*x4 - 4*x0*x8 - 3*x1*x14 - 2*x1*x6 - 2*x1*x7 - 4*x10*x12\n",
            "  - 3*x11*x14 - 2*x2*x11 - 3*x2*x14 - 3*x2*x5 - 3*x2*x7 - 2*x2*x8 - 2*x3*x10\n",
            "  - 3*x3*x11 - 4*x3*x14 - 3*x3*x9 - 2*x4*x10 - 4*x4*x12 - 3*x4*x13 - 4*x4*x5\n",
            "  - 3*x4*x6 - 4*x4*x7 - 2*x4*x8 - 4*x5*x10 - 2*x5*x7 - 4*x5*x8 - 3*x6*x10\n",
            "  - 3*x6*x11 - 4*x6*x7 - 4*x6*x8 - 4*x6*x9 - 4*x7*x11 - 2*x7*x13 - 2*x7*x14\n",
            "  - 2*x7*x8 - 2*x8*x13 - 4*x8*x9 - 3*x9*x11 - 2*x9*x12 + 2*x0 + 2*x1 + 2*x10\n",
            "  + x11 + x12 + 2*x13 + x14 + 3*x2 + 3*x3 + 2*x4 + 3*x5 + 2*x6 + 2*x7 + 3*x8\n",
            "  + 3*x9\n",
            "\n",
            "Subject to\n",
            "  No constraints\n",
            "\n",
            "  Binary variables (15)\n",
            "    x0 x1 x2 x3 x4 x5 x6 x7 x8 x9 x10 x11 x12 x13 x14\n",
            "\n"
          ]
        }
      ],
      "source": [
        "import itertools\n",
        "model = Model()\n",
        "xs = [model.binary_var(name=f\"x{i}\") for i in range(15)]\n",
        "objective = sum([np.random.randint(1, 4) * x for x in xs]) + \\\n",
        "     sum([np.random.randint(-4, -1) * x * y \n",
        "     for x, y in itertools.combinations(xs, 2) \n",
        "     if np.random.choice([0, 1], p=[2/3, 1/3])==1])\n",
        "# objective = (-xs[0]+2*xs[1]-3*xs[2]-2*xs[0]*xs[2]-1*xs[1]*xs[2])\n",
        "model.minimize(objective)\n",
        "qp = from_docplex_mp(model)\n",
        "print(qp.prettyprint())"
      ]
    },
    {
      "cell_type": "code",
      "execution_count": 5,
      "id": "560910e6",
      "metadata": {
        "colab": {
          "base_uri": "https://localhost:8080/"
        },
        "id": "560910e6",
        "outputId": "1fee32f8-8e3e-4262-c0be-7dfe0e7aae53"
      },
      "outputs": [
        {
          "output_type": "stream",
          "name": "stdout",
          "text": [
            "objective function value: -88.0\n",
            "variable values: x0=1.0, x1=1.0, x2=1.0, x3=1.0, x4=1.0, x5=1.0, x6=1.0, x7=1.0, x8=1.0, x9=1.0, x10=1.0, x11=1.0, x12=1.0, x13=1.0, x14=1.0\n",
            "status: SUCCESS\n"
          ]
        }
      ],
      "source": [
        "exact_solver = MinimumEigenOptimizer(NumPyMinimumEigensolver())\n",
        "exact_result = exact_solver.solve(qp)\n",
        "print(exact_result.prettyprint())"
      ]
    },
    {
      "cell_type": "code",
      "execution_count": 6,
      "id": "85d3c53c",
      "metadata": {
        "scrolled": true,
        "colab": {
          "base_uri": "https://localhost:8080/",
          "height": 527
        },
        "id": "85d3c53c",
        "outputId": "119b787b-b982-489b-f8f2-9035951ebd8e"
      },
      "outputs": [
        {
          "output_type": "execute_result",
          "data": {
            "text/plain": [
              "<Figure size 1183.32x927.08 with 1 Axes>"
            ],
            "image/png": "[encoded data removed]"
          },
          "metadata": {},
          "execution_count": 6
        }
      ],
      "source": [
        "num_key_qbits = len(qp.objective.linear.to_array())\n",
        "init_state = QuantumCircuit(num_key_qbits)\n",
        "init_state.h(range(num_key_qbits))\n",
        "ansatz = TwoLocal(num_key_qbits, 'ry', 'crx', 'circular', reps=1,\n",
        "                  insert_barriers=True,\n",
        "                  initial_state=init_state,\n",
        "                  skip_final_rotation_layer=True,\n",
        "                  )\n",
        "ansatz.decompose().draw(\"mpl\")\n"
      ]
    },
    {
      "cell_type": "code",
      "source": [
        "# from qiskit import execute, QuantumCircuit, transpile\n",
        "\n",
        "# ansatz_bound = ansatz.assign_parameters(np.array([0.] * num_key_qbits+[np.arcsin(np.sqrt(0.5))*2]*num_key_qbits))\n",
        "\n",
        "# qc = QuantumCircuit(num_key_qbits)\n",
        "# # qc.h(range(num_key_qbits))\n",
        "# qc.compose(ansatz_bound, inplace=True)\n",
        "\n",
        "# qc = transpile(qc, backend=backend_statevector)\n",
        "# result = backend_statevector.run(qc).result()\n",
        "# result.get_statevector(qc)"
      ],
      "metadata": {
        "id": "PRymbtecYGst"
      },
      "id": "PRymbtecYGst",
      "execution_count": 7,
      "outputs": []
    },
    {
      "cell_type": "code",
      "source": [
        "def eval_num(operation_dict):\n",
        "    eval_num = 0\n",
        "    for i, x in enumerate(operation_dict.values()):\n",
        "        eval_num += x['Q(x)']\n",
        "        if 'Q' in x:\n",
        "            eval_num += x['Q']\n",
        "    return eval_num"
      ],
      "metadata": {
        "id": "VM9xgL8cNvvO"
      },
      "id": "VM9xgL8cNvvO",
      "execution_count": 8,
      "outputs": []
    },
    {
      "cell_type": "code",
      "source": [
        "print(ansatz.num_parameters)\n",
        "init_param = np.zeros(ansatz.num_parameters)\n",
        "propose_distribution = ProposeDistribution(\n",
        "    ansatz,                 \n",
        "    num_key_qbits, \n",
        "    QuantumInstance(backend=backend, shots=1024, seed_simulator=99),\n",
        "    init_param=init_param\n",
        "    )\n",
        "grover_optimizer = PQCGroverOptimizer(\n",
        "    num_value_qubits=8, \n",
        "    propose_dist=propose_distribution,\n",
        "    num_iterations=15, \n",
        "    quantum_instance=backend,      \n",
        "    sample_num=1, quantile=0., \n",
        "    positive_train_conf={\"iter\": 5, \"learning_rate\": 0.001},\n",
        "    negative_train_conf={\"iter\": 5, \"learning_rate\": 0.001})\n",
        "results = grover_optimizer.solve(qp)\n",
        "print(results.prettyprint())\n",
        "print(results.operation_counts)"
      ],
      "metadata": {
        "id": "2q3csNEQVLko",
        "outputId": "88107035-ff4e-448b-e17a-9acb10822ca7",
        "colab": {
          "base_uri": "https://localhost:8080/"
        }
      },
      "id": "2q3csNEQVLko",
      "execution_count": null,
      "outputs": [
        {
          "output_type": "stream",
          "name": "stdout",
          "text": [
            "30\n",
            "sampled [1 1 0 1 0 0 1 0 0 0 0 0 0 0 1]\n",
            "value 1\n",
            "real_val 1.0\n",
            "param:  [0. 0. 0. 0. 0. 0. 0. 0. 0. 0. 0. 0. 0. 0. 0. 0. 0. 0. 0. 0. 0. 0. 0. 0.\n",
            " 0. 0. 0. 0. 0. 0.]\n",
            "sampled [0 0 1 0 0 0 0 1 0 1 1 0 1 0 0]\n",
            "value 2\n",
            "real_val 2.0\n",
            "param:  [0. 0. 0. 0. 0. 0. 0. 0. 0. 0. 0. 0. 0. 0. 0. 0. 0. 0. 0. 0. 0. 0. 0. 0.\n",
            " 0. 0. 0. 0. 0. 0.]\n",
            "sampled [0 0 1 1 1 0 0 0 0 1 0 0 0 0 1]\n",
            "value 2\n",
            "real_val 2.0\n",
            "param:  [0. 0. 0. 0. 0. 0. 0. 0. 0. 0. 0. 0. 0. 0. 0. 0. 0. 0. 0. 0. 0. 0. 0. 0.\n",
            " 0. 0. 0. 0. 0. 0.]\n",
            "sampled [1 0 0 1 0 1 0 0 1 0 0 1 1 1 0]\n",
            "value 2\n",
            "real_val 2.0\n",
            "param:  [ 0.09186726  0.09186726 -0.09186726  0.09186726  0.09186726 -0.09186726\n",
            " -0.09186726 -0.09186726 -0.09186726 -0.09186726  0.09186726 -0.09186726\n",
            "  0.09186726  0.09186726 -0.09186726 -0.09186726  0.09186726 -0.09186726\n",
            "  0.09186726  0.09186726 -0.09186726 -0.09186726 -0.09186726  0.09186726\n",
            "  0.09186726  0.09186726 -0.09186726  0.09186726  0.09186726 -0.09186726]\n",
            "sampled [0 0 0 0 0 1 0 1 0 0 1 0 1 0 1]\n",
            "value -3\n",
            "real_val -3.0\n",
            "param:  [ 0.09186726  0.09186726 -0.09186726  0.09186726  0.09186726 -0.09186726\n",
            " -0.09186726 -0.09186726 -0.09186726 -0.09186726  0.09186726 -0.09186726\n",
            "  0.09186726  0.09186726 -0.09186726 -0.09186726  0.09186726 -0.09186726\n",
            "  0.09186726  0.09186726 -0.09186726 -0.09186726 -0.09186726  0.09186726\n",
            "  0.09186726  0.09186726 -0.09186726  0.09186726  0.09186726 -0.09186726]\n",
            "threshold -1\n",
            "sampled [1 1 0 0 0 0 1 1 0 0 0 1 1 1 0]\n",
            "value -5\n",
            "real_val -5.0\n",
            "param:  [ 0.09186726  0.09186726 -0.09186726  0.09186726  0.09186726 -0.09186726\n",
            " -0.09186726 -0.09186726 -0.09186726 -0.09186726  0.09186726 -0.09186726\n",
            "  0.09186726  0.09186726 -0.09186726 -0.09186726  0.09186726 -0.09186726\n",
            "  0.09186726  0.09186726 -0.09186726 -0.09186726 -0.09186726  0.09186726\n",
            "  0.09186726  0.09186726 -0.09186726  0.09186726  0.09186726 -0.09186726]\n",
            "threshold -3\n",
            "sampled [1 1 1 1 1 1 1 1 0 0 0 1 0 0 1]\n",
            "value -39\n",
            "real_val -39.0\n",
            "param:  [ 0.09186726  0.09186726 -0.09186726  0.09186726  0.09186726 -0.09186726\n",
            " -0.09186726 -0.09186726 -0.09186726 -0.09186726  0.09186726 -0.09186726\n",
            "  0.09186726  0.09186726 -0.09186726 -0.09186726  0.09186726 -0.09186726\n",
            "  0.09186726  0.09186726 -0.09186726 -0.09186726 -0.09186726  0.09186726\n",
            "  0.09186726  0.09186726 -0.09186726  0.09186726  0.09186726 -0.09186726]\n",
            "threshold -21\n",
            "sampled [0 0 1 0 0 0 1 1 0 1 1 0 1 0 0]\n",
            "value -7\n",
            "real_val -7.0\n",
            "param:  [ 0.09186726  0.09186726 -0.09186726  0.09186726  0.09186726 -0.09186726\n",
            " -0.09186726 -0.09186726 -0.09186726 -0.09186726  0.09186726 -0.09186726\n",
            "  0.09186726  0.09186726 -0.09186726 -0.09186726  0.09186726 -0.09186726\n",
            "  0.09186726  0.09186726 -0.09186726 -0.09186726 -0.09186726  0.09186726\n",
            "  0.09186726  0.09186726 -0.09186726  0.09186726  0.09186726 -0.09186726]\n",
            "sampled [1 0 1 1 0 0 0 1 0 1 0 1 1 1 0]\n",
            "value -9\n",
            "real_val -9.0\n",
            "param:  [ 0.09186726  0.09186726 -0.09186726  0.09186726  0.09186726 -0.09186726\n",
            " -0.09186726 -0.09186726 -0.09186726 -0.09186726  0.09186726 -0.09186726\n",
            "  0.09186726  0.09186726 -0.09186726 -0.09186726  0.09186726 -0.09186726\n",
            "  0.09186726  0.09186726 -0.09186726 -0.09186726 -0.09186726  0.09186726\n",
            "  0.09186726  0.09186726 -0.09186726  0.09186726  0.09186726 -0.09186726]\n",
            "sampled [0 1 1 0 1 1 0 0 0 0 1 0 1 0 1]\n",
            "value -13\n",
            "real_val -13.0\n",
            "param:  [ 0.09186726  0.09186726 -0.09186726  0.09186726  0.09186726 -0.09186726\n",
            " -0.09186726 -0.09186726 -0.09186726 -0.09186726  0.09186726 -0.09186726\n",
            "  0.09186726  0.09186726 -0.09186726 -0.09186726  0.09186726 -0.09186726\n",
            "  0.09186726  0.09186726 -0.09186726 -0.09186726 -0.09186726  0.09186726\n",
            "  0.09186726  0.09186726 -0.09186726  0.09186726  0.09186726 -0.09186726]\n",
            "sampled [1 1 0 0 1 1 1 1 1 0 1 1 1 0 0]\n",
            "value -43\n",
            "real_val -43.0\n",
            "param:  [ 0.09186726  0.09186726 -0.09186726  0.09186726  0.09186726 -0.09186726\n",
            " -0.09186726 -0.09186726 -0.09186726 -0.09186726  0.09186726 -0.09186726\n",
            "  0.09186726  0.09186726 -0.09186726 -0.09186726  0.09186726 -0.09186726\n",
            "  0.09186726  0.09186726 -0.09186726 -0.09186726 -0.09186726  0.09186726\n",
            "  0.09186726  0.09186726 -0.09186726  0.09186726  0.09186726 -0.09186726]\n",
            "threshold -32\n",
            "sampled [0 0 0 1 1 0 1 0 0 1 0 0 1 1 1]\n",
            "value -9\n",
            "real_val -9.0\n",
            "param:  [ 0.09186726  0.09186726 -0.09186726  0.09186726  0.09186726 -0.09186726\n",
            " -0.09186726 -0.09186726 -0.09186726 -0.09186726  0.09186726 -0.09186726\n",
            "  0.09186726  0.09186726 -0.09186726 -0.09186726  0.09186726 -0.09186726\n",
            "  0.09186726  0.09186726 -0.09186726 -0.09186726 -0.09186726  0.09186726\n",
            "  0.09186726  0.09186726 -0.09186726  0.09186726  0.09186726 -0.09186726]\n",
            "sampled [0 1 0 1 1 0 0 0 0 0 1 1 0 1 0]\n",
            "value 2\n",
            "real_val 2.0\n",
            "param:  [-4.16333634e-17  1.83734525e-01 -1.83734525e-01  1.83734525e-01\n",
            "  1.83734525e-01 -1.83734525e-01 -1.83734525e-01 -1.83734525e-01\n",
            " -1.83734525e-01 -1.83734525e-01  1.83734525e-01 -1.83734525e-01\n",
            "  1.83734525e-01  1.83734525e-01 -1.83734525e-01 -1.83734525e-01\n",
            " -4.16333634e-17  4.16333634e-17 -4.16333634e-17  1.83734525e-01\n",
            " -4.16333634e-17 -1.83734525e-01 -1.83734525e-01  4.16333634e-17\n",
            " -4.16333634e-17  1.83734525e-01 -1.83734525e-01  1.83734525e-01\n",
            "  1.83734525e-01 -1.83734525e-01]\n",
            "sampled [1 1 0 1 1 1 1 0 1 1 1 1 0 1 0]\n",
            "value -36\n",
            "real_val -36.0\n",
            "param:  [-4.16333634e-17  1.83734525e-01 -1.83734525e-01  1.83734525e-01\n",
            "  1.83734525e-01 -1.83734525e-01 -1.83734525e-01 -1.83734525e-01\n",
            " -1.83734525e-01 -1.83734525e-01  1.83734525e-01 -1.83734525e-01\n",
            "  1.83734525e-01  1.83734525e-01 -1.83734525e-01 -1.83734525e-01\n",
            " -4.16333634e-17  4.16333634e-17 -4.16333634e-17  1.83734525e-01\n",
            " -4.16333634e-17 -1.83734525e-01 -1.83734525e-01  4.16333634e-17\n",
            " -4.16333634e-17  1.83734525e-01 -1.83734525e-01  1.83734525e-01\n",
            "  1.83734525e-01 -1.83734525e-01]\n",
            "threshold -34\n",
            "sampled [0 1 1 1 1 0 1 0 1 0 1 0 1 1 0]\n",
            "value -13\n",
            "real_val -13.0\n",
            "param:  [-4.16333634e-17  1.83734525e-01 -1.83734525e-01  1.83734525e-01\n",
            "  1.83734525e-01 -1.83734525e-01 -1.83734525e-01 -1.83734525e-01\n",
            " -1.83734525e-01 -1.83734525e-01  1.83734525e-01 -1.83734525e-01\n",
            "  1.83734525e-01  1.83734525e-01 -1.83734525e-01 -1.83734525e-01\n",
            " -4.16333634e-17  4.16333634e-17 -4.16333634e-17  1.83734525e-01\n",
            " -4.16333634e-17 -1.83734525e-01 -1.83734525e-01  4.16333634e-17\n",
            " -4.16333634e-17  1.83734525e-01 -1.83734525e-01  1.83734525e-01\n",
            "  1.83734525e-01 -1.83734525e-01]\n",
            "sampled [1 1 0 0 1 1 1 0 1 1 0 1 1 0 0]\n",
            "value -26\n",
            "real_val -26.0\n",
            "param:  [-4.16333634e-17  1.83734525e-01 -1.83734525e-01  1.83734525e-01\n",
            "  1.83734525e-01 -1.83734525e-01 -1.83734525e-01 -1.83734525e-01\n",
            " -1.83734525e-01 -1.83734525e-01  1.83734525e-01 -1.83734525e-01\n",
            "  1.83734525e-01  1.83734525e-01 -1.83734525e-01 -1.83734525e-01\n",
            " -4.16333634e-17  4.16333634e-17 -4.16333634e-17  1.83734525e-01\n",
            " -4.16333634e-17 -1.83734525e-01 -1.83734525e-01  4.16333634e-17\n",
            " -4.16333634e-17  1.83734525e-01 -1.83734525e-01  1.83734525e-01\n",
            "  1.83734525e-01 -1.83734525e-01]\n",
            "sampled [1 0 0 1 0 0 0 0 1 0 0 1 1 0 1]\n",
            "value -3\n",
            "real_val -3.0\n",
            "param:  [ 0.09186726  0.09186726 -0.09186726  0.09186726  0.27560179 -0.09186726\n",
            " -0.09186726 -0.09186726 -0.09186726 -0.09186726  0.27560179 -0.27560179\n",
            "  0.09186726  0.09186726 -0.09186726 -0.09186726 -0.09186726 -0.09186726\n",
            " -0.09186726  0.27560179 -0.09186726 -0.09186726 -0.09186726  0.09186726\n",
            "  0.09186726  0.09186726 -0.27560179  0.09186726  0.09186726 -0.27560179]\n",
            "sampled [0 1 1 1 1 0 1 1 1 1 0 1 1 0 0]\n",
            "value -38\n",
            "real_val -38.0\n",
            "param:  [-4.16333634e-17  2.77555756e-17 -1.83734525e-01  2.77555756e-17\n",
            "  3.67469050e-01 -1.83734525e-01 -2.77555756e-17 -1.83734525e-01\n",
            " -1.83734525e-01 -1.83734525e-01  1.83734525e-01 -3.67469050e-01\n",
            "  1.83734525e-01  1.83734525e-01  2.77555756e-17 -1.83734525e-01\n",
            " -1.83734525e-01  4.16333634e-17 -1.83734525e-01  3.67469050e-01\n",
            " -1.83734525e-01  2.77555756e-17  2.77555756e-17  1.83734525e-01\n",
            "  1.83734525e-01  1.83734525e-01 -1.83734525e-01 -2.77555756e-17\n",
            "  1.83734525e-01 -3.67469050e-01]\n",
            "threshold -36\n",
            "sampled [1 0 0 0 1 0 0 0 0 1 1 0 0 1 0]\n",
            "value 4\n",
            "real_val 4.0\n",
            "param:  [-4.16333634e-17  2.77555756e-17 -1.83734525e-01  2.77555756e-17\n",
            "  3.67469050e-01 -1.83734525e-01 -2.77555756e-17 -1.83734525e-01\n",
            " -1.83734525e-01 -1.83734525e-01  1.83734525e-01 -3.67469050e-01\n",
            "  1.83734525e-01  1.83734525e-01  2.77555756e-17 -1.83734525e-01\n",
            " -1.83734525e-01  4.16333634e-17 -1.83734525e-01  3.67469050e-01\n",
            " -1.83734525e-01  2.77555756e-17  2.77555756e-17  1.83734525e-01\n",
            "  1.83734525e-01  1.83734525e-01 -1.83734525e-01 -2.77555756e-17\n",
            "  1.83734525e-01 -3.67469050e-01]\n",
            "sampled [1 1 0 1 1 0 1 0 1 1 0 0 1 1 0]\n",
            "value -19\n",
            "real_val -19.0\n",
            "param:  [-4.16333634e-17  2.77555756e-17 -1.83734525e-01  2.77555756e-17\n",
            "  3.67469050e-01 -1.83734525e-01 -2.77555756e-17 -1.83734525e-01\n",
            " -1.83734525e-01 -1.83734525e-01  1.83734525e-01 -3.67469050e-01\n",
            "  1.83734525e-01  1.83734525e-01  2.77555756e-17 -1.83734525e-01\n",
            " -1.83734525e-01  4.16333634e-17 -1.83734525e-01  3.67469050e-01\n",
            " -1.83734525e-01  2.77555756e-17  2.77555756e-17  1.83734525e-01\n",
            "  1.83734525e-01  1.83734525e-01 -1.83734525e-01 -2.77555756e-17\n",
            "  1.83734525e-01 -3.67469050e-01]\n",
            "sampled [1 0 0 0 0 1 0 0 1 1 0 0 1 1 0]\n",
            "value -2\n",
            "real_val -2.0\n",
            "param:  [-4.16333634e-17  2.77555756e-17 -1.83734525e-01  2.77555756e-17\n",
            "  3.67469050e-01 -1.83734525e-01 -2.77555756e-17 -1.83734525e-01\n",
            " -1.83734525e-01 -1.83734525e-01  1.83734525e-01 -3.67469050e-01\n",
            "  1.83734525e-01  1.83734525e-01  2.77555756e-17 -1.83734525e-01\n",
            " -1.83734525e-01  4.16333634e-17 -1.83734525e-01  3.67469050e-01\n",
            " -1.83734525e-01  2.77555756e-17  2.77555756e-17  1.83734525e-01\n",
            "  1.83734525e-01  1.83734525e-01 -1.83734525e-01 -2.77555756e-17\n",
            "  1.83734525e-01 -3.67469050e-01]\n",
            "sampled [0 0 0 1 1 1 1 1 1 1 1 1 1 1 1]\n",
            "value -65\n",
            "real_val -65.0\n",
            "param:  [-4.16333634e-17  2.77555756e-17 -1.83734525e-01  2.77555756e-17\n",
            "  3.67469050e-01 -1.83734525e-01 -2.77555756e-17 -1.83734525e-01\n",
            " -1.83734525e-01 -1.83734525e-01  1.83734525e-01 -3.67469050e-01\n",
            "  1.83734525e-01  1.83734525e-01  2.77555756e-17 -1.83734525e-01\n",
            " -1.83734525e-01  4.16333634e-17 -1.83734525e-01  3.67469050e-01\n",
            " -1.83734525e-01  2.77555756e-17  2.77555756e-17  1.83734525e-01\n",
            "  1.83734525e-01  1.83734525e-01 -1.83734525e-01 -2.77555756e-17\n",
            "  1.83734525e-01 -3.67469050e-01]\n",
            "threshold -50\n",
            "sampled [0 1 0 0 1 1 0 1 1 0 0 1 0 0 1]\n",
            "value -18\n",
            "real_val -18.0\n",
            "param:  [-4.16333634e-17  2.77555756e-17 -1.83734525e-01  2.77555756e-17\n",
            "  3.67469050e-01 -1.83734525e-01 -2.77555756e-17 -1.83734525e-01\n",
            " -1.83734525e-01 -1.83734525e-01  1.83734525e-01 -3.67469050e-01\n",
            "  1.83734525e-01  1.83734525e-01  2.77555756e-17 -1.83734525e-01\n",
            " -1.83734525e-01  4.16333634e-17 -1.83734525e-01  3.67469050e-01\n",
            " -1.83734525e-01  2.77555756e-17  2.77555756e-17  1.83734525e-01\n",
            "  1.83734525e-01  1.83734525e-01 -1.83734525e-01 -2.77555756e-17\n",
            "  1.83734525e-01 -3.67469050e-01]\n",
            "sampled [0 1 0 1 1 0 1 1 0 0 0 0 1 1 1]\n",
            "value -18\n",
            "real_val -18.0\n",
            "param:  [-4.16333634e-17  2.77555756e-17 -1.83734525e-01  2.77555756e-17\n",
            "  3.67469050e-01 -1.83734525e-01 -2.77555756e-17 -1.83734525e-01\n",
            " -1.83734525e-01 -1.83734525e-01  1.83734525e-01 -3.67469050e-01\n",
            "  1.83734525e-01  1.83734525e-01  2.77555756e-17 -1.83734525e-01\n",
            " -1.83734525e-01  4.16333634e-17 -1.83734525e-01  3.67469050e-01\n",
            " -1.83734525e-01  2.77555756e-17  2.77555756e-17  1.83734525e-01\n",
            "  1.83734525e-01  1.83734525e-01 -1.83734525e-01 -2.77555756e-17\n",
            "  1.83734525e-01 -3.67469050e-01]\n",
            "sampled [0 1 0 1 1 1 1 1 1 1 1 0 1 1 1]\n",
            "value -55\n",
            "real_val -55.0\n",
            "param:  [-0.09186726  0.09186726 -0.27560179  0.09186726  0.27560179 -0.27560179\n",
            " -0.09186726 -0.27560179 -0.09186726 -0.27560179  0.27560179 -0.45933631\n",
            "  0.27560179  0.09186726 -0.09186726 -0.09186726 -0.27560179  0.09186726\n",
            " -0.27560179  0.27560179 -0.27560179  0.09186726 -0.09186726  0.27560179\n",
            "  0.27560179  0.09186726 -0.09186726  0.09186726  0.09186726 -0.45933631]\n",
            "threshold -52\n",
            "sampled [1 1 1 1 1 1 0 0 0 0 0 0 1 1 1]\n",
            "value -11\n",
            "real_val -11.0\n",
            "param:  [-0.09186726  0.09186726 -0.27560179  0.09186726  0.27560179 -0.27560179\n",
            " -0.09186726 -0.27560179 -0.09186726 -0.27560179  0.27560179 -0.45933631\n",
            "  0.27560179  0.09186726 -0.09186726 -0.09186726 -0.27560179  0.09186726\n",
            " -0.27560179  0.27560179 -0.27560179  0.09186726 -0.09186726  0.27560179\n",
            "  0.27560179  0.09186726 -0.09186726  0.09186726  0.09186726 -0.45933631]\n",
            "sampled [1 0 0 1 1 0 1 1 0 1 1 0 1 0 0]\n",
            "value -20\n",
            "real_val -20.0\n",
            "param:  [-0.09186726  0.09186726 -0.27560179  0.09186726  0.27560179 -0.27560179\n",
            " -0.09186726 -0.27560179 -0.09186726 -0.27560179  0.27560179 -0.45933631\n",
            "  0.27560179  0.09186726 -0.09186726 -0.09186726 -0.27560179  0.09186726\n",
            " -0.27560179  0.27560179 -0.27560179  0.09186726 -0.09186726  0.27560179\n",
            "  0.27560179  0.09186726 -0.09186726  0.09186726  0.09186726 -0.45933631]\n",
            "sampled [0 0 1 1 0 0 0 0 1 0 1 0 1 0 0]\n",
            "value 4\n",
            "real_val 4.0\n",
            "param:  [-0.09186726  0.09186726 -0.27560179  0.09186726  0.27560179 -0.27560179\n",
            " -0.09186726 -0.27560179 -0.09186726 -0.27560179  0.27560179 -0.45933631\n",
            "  0.27560179  0.09186726 -0.09186726 -0.09186726 -0.27560179  0.09186726\n",
            " -0.27560179  0.27560179 -0.27560179  0.09186726 -0.09186726  0.27560179\n",
            "  0.27560179  0.09186726 -0.09186726  0.09186726  0.09186726 -0.45933631]\n",
            "sampled [0 0 1 1 1 1 1 1 1 1 1 1 1 1 1]\n",
            "value -75\n",
            "real_val -75.0\n",
            "param:  [-0.09186726  0.09186726 -0.27560179  0.09186726  0.27560179 -0.27560179\n",
            " -0.09186726 -0.27560179 -0.09186726 -0.27560179  0.27560179 -0.45933631\n",
            "  0.27560179  0.09186726 -0.09186726 -0.09186726 -0.27560179  0.09186726\n",
            " -0.27560179  0.27560179 -0.27560179  0.09186726 -0.09186726  0.27560179\n",
            "  0.27560179  0.09186726 -0.09186726  0.09186726  0.09186726 -0.45933631]\n",
            "threshold -63\n",
            "sampled [1 1 0 0 1 0 0 0 0 0 0 0 0 0 1]\n",
            "value 2\n",
            "real_val 2.0\n",
            "param:  [-0.09186726  0.09186726 -0.27560179  0.09186726  0.27560179 -0.27560179\n",
            " -0.09186726 -0.27560179 -0.09186726 -0.27560179  0.27560179 -0.45933631\n",
            "  0.27560179  0.09186726 -0.09186726 -0.09186726 -0.27560179  0.09186726\n",
            " -0.27560179  0.27560179 -0.27560179  0.09186726 -0.09186726  0.27560179\n",
            "  0.27560179  0.09186726 -0.09186726  0.09186726  0.09186726 -0.45933631]\n"
          ]
        }
      ]
    },
    {
      "cell_type": "code",
      "execution_count": null,
      "id": "71ee9350",
      "metadata": {
        "colab": {
          "base_uri": "https://localhost:8080/"
        },
        "id": "71ee9350",
        "outputId": "df593efc-288d-4b62-d456-b01cfa30026e"
      },
      "outputs": [
        {
          "output_type": "execute_result",
          "data": {
            "text/plain": [
              "91"
            ]
          },
          "metadata": {},
          "execution_count": 7
        }
      ],
      "source": [
        "eval_num(results.operation_counts)"
      ]
    },
    {
      "cell_type": "code",
      "execution_count": null,
      "id": "f5fe0935",
      "metadata": {
        "colab": {
          "base_uri": "https://localhost:8080/"
        },
        "id": "f5fe0935",
        "outputId": "f7b1ccad-92d3-4a92-babf-066dc12eab18"
      },
      "outputs": [
        {
          "output_type": "stream",
          "name": "stdout",
          "text": [
            "objective function value: -26.0\n",
            "variable values: x0=1.0, x1=1.0, x2=1.0, x3=1.0, x4=1.0, x5=0.0, x6=1.0, x7=0.0, x8=1.0, x9=0.0, x10=0.0, x11=1.0, x12=0.0, x13=0.0, x14=1.0\n",
            "status: SUCCESS\n",
            "{0: OrderedDict([('measure', 24), ('h', 15), ('Q(x)', 1)]), 1: OrderedDict([('measure', 24), ('h', 15), ('Q(x)', 1)]), 2: OrderedDict([('measure', 24), ('h', 15), ('Q(x)', 1)]), 3: OrderedDict([('measure', 24), ('h', 15), ('Q', 2), ('Q(x)', 1)]), 4: OrderedDict([('measure', 24), ('h', 15), ('Q', 3), ('Q(x)', 1)]), 5: OrderedDict([('measure', 24), ('h', 15), ('Q(x)', 1)]), 6: OrderedDict([('measure', 24), ('h', 15), ('Q(x)', 1), ('Q', 1)]), 7: OrderedDict([('measure', 24), ('h', 15), ('Q(x)', 1)]), 8: OrderedDict([('measure', 24), ('h', 15), ('Q(x)', 1), ('Q', 1)]), 9: OrderedDict([('measure', 24), ('h', 15), ('Q(x)', 1)]), 10: OrderedDict([('measure', 24), ('h', 15), ('Q', 3), ('Q(x)', 1)]), 11: OrderedDict([('measure', 24), ('h', 15), ('Q(x)', 1), ('Q', 1)]), 12: OrderedDict([('measure', 24), ('h', 15), ('Q(x)', 1)]), 13: OrderedDict([('measure', 24), ('h', 15), ('Q(x)', 1)]), 14: OrderedDict([('measure', 24), ('h', 15), ('Q', 2), ('Q(x)', 1)]), 15: OrderedDict([('measure', 24), ('h', 15), ('Q(x)', 1), ('Q', 1)]), 16: OrderedDict([('measure', 24), ('h', 15), ('Q', 4), ('Q(x)', 1)]), 17: OrderedDict([('measure', 24), ('h', 15), ('Q', 3), ('Q(x)', 1)]), 18: OrderedDict([('measure', 24), ('h', 15), ('Q', 2), ('Q(x)', 1)]), 19: OrderedDict([('measure', 24), ('h', 15), ('Q', 6), ('Q(x)', 1)]), 20: OrderedDict([('measure', 24), ('h', 15), ('Q(x)', 1)]), 21: OrderedDict([('measure', 24), ('h', 15), ('Q(x)', 1), ('Q', 1)]), 22: OrderedDict([('measure', 24), ('h', 15), ('Q', 2), ('Q(x)', 1)]), 23: OrderedDict([('measure', 24), ('h', 15), ('Q', 3), ('Q(x)', 1)]), 24: OrderedDict([('measure', 24), ('h', 15), ('Q', 4), ('Q(x)', 1)]), 25: OrderedDict([('measure', 24), ('h', 15), ('Q(x)', 1)]), 26: OrderedDict([('measure', 24), ('h', 15), ('Q', 3), ('Q(x)', 1)]), 27: OrderedDict([('measure', 24), ('h', 15), ('Q', 4), ('Q(x)', 1)]), 28: OrderedDict([('measure', 24), ('h', 15), ('Q', 2), ('Q(x)', 1)]), 29: OrderedDict([('measure', 24), ('h', 15), ('Q', 9), ('Q(x)', 1)]), 30: OrderedDict([('measure', 24), ('h', 15), ('Q', 9), ('Q(x)', 1)]), 31: OrderedDict([('measure', 24), ('h', 15), ('Q', 6), ('Q(x)', 1)]), 32: OrderedDict([('measure', 24), ('h', 15), ('Q', 4), ('Q(x)', 1)]), 33: OrderedDict([('measure', 24), ('h', 15), ('Q', 9), ('Q(x)', 1)])}\n"
          ]
        }
      ],
      "source": [
        "grover_optimizer = GroverOptimizer(8, num_iterations=15, quantum_instance=backend,)\n",
        "results = grover_optimizer.solve(qp)\n",
        "print(results.prettyprint())\n",
        "print(results.operation_counts)"
      ]
    },
    {
      "cell_type": "code",
      "execution_count": null,
      "id": "5646e073",
      "metadata": {
        "colab": {
          "base_uri": "https://localhost:8080/"
        },
        "id": "5646e073",
        "outputId": "203b9e59-e6c3-417d-a40c-0eac8162ff8b"
      },
      "outputs": [
        {
          "output_type": "execute_result",
          "data": {
            "text/plain": [
              "119"
            ]
          },
          "metadata": {},
          "execution_count": 9
        }
      ],
      "source": [
        "eval_num(results.operation_counts)"
      ]
    },
    {
      "cell_type": "code",
      "execution_count": null,
      "id": "fecbc40d",
      "metadata": {
        "id": "fecbc40d"
      },
      "outputs": [],
      "source": []
    }
  ],
  "metadata": {
    "kernelspec": {
      "display_name": "Python 3 (ipykernel)",
      "language": "python",
      "name": "python3"
    },
    "language_info": {
      "codemirror_mode": {
        "name": "ipython",
        "version": 3
      },
      "file_extension": ".py",
      "mimetype": "text/x-python",
      "name": "python",
      "nbconvert_exporter": "python",
      "pygments_lexer": "ipython3",
      "version": "3.8.10"
    },
    "colab": {
      "provenance": []
    },
    "accelerator": "GPU",
    "gpuClass": "standard"
  },
  "nbformat": 4,
  "nbformat_minor": 5
}