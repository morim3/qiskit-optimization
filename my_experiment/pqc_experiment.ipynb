{
  "cells": [
    {
      "cell_type": "markdown",
      "source": [],
      "metadata": {
        "id": "JQT11ULUgE4w"
      },
      "id": "JQT11ULUgE4w"
    },
    {
      "cell_type": "code",
      "source": [
        "!rm -rf qiskit-optimization/\n",
        "!git clone https://github.com/morim3/qiskit-optimization"
      ],
      "metadata": {
        "id": "bmSrwE7GfqqU",
        "outputId": "f64036f2-7e09-43b0-d49a-7289625257cb",
        "colab": {
          "base_uri": "https://localhost:8080/"
        }
      },
      "id": "bmSrwE7GfqqU",
      "execution_count": 5,
      "outputs": [
        {
          "output_type": "stream",
          "name": "stdout",
          "text": [
            "Cloning into 'qiskit-optimization'...\n",
            "remote: Enumerating objects: 4168, done.\u001b[K\n",
            "remote: Counting objects: 100% (233/233), done.\u001b[K\n",
            "remote: Compressing objects: 100% (149/149), done.\u001b[K\n",
            "remote: Total 4168 (delta 146), reused 154 (delta 81), pack-reused 3935\u001b[K\n",
            "Receiving objects: 100% (4168/4168), 5.08 MiB | 13.07 MiB/s, done.\n",
            "Resolving deltas: 100% (2782/2782), done.\n"
          ]
        }
      ]
    },
    {
      "cell_type": "code",
      "execution_count": null,
      "id": "a9f44d6c",
      "metadata": {
        "colab": {
          "base_uri": "https://localhost:8080/"
        },
        "id": "a9f44d6c",
        "outputId": "af6f516b-84da-44f4-8ad1-25150b138021"
      },
      "outputs": [
        {
          "output_type": "stream",
          "name": "stdout",
          "text": [
            "NVIDIA-SMI has failed because it couldn't communicate with the NVIDIA driver. Make sure that the latest NVIDIA driver is installed and running.\n",
            "\n",
            "Looking in indexes: https://pypi.org/simple, https://us-python.pkg.dev/colab-wheels/public/simple/\n",
            "Collecting qiskit-aer-gpu\n",
            "  Downloading qiskit_aer_gpu-0.11.1-cp38-cp38-manylinux_2_12_x86_64.manylinux2010_x86_64.whl (22.8 MB)\n",
            "\u001b[K     |████████████████████████████████| 22.8 MB 85.9 MB/s \n",
            "\u001b[?25hRequirement already satisfied: scipy>=1.0 in /usr/local/lib/python3.8/dist-packages (from qiskit-aer-gpu) (1.7.3)\n",
            "Requirement already satisfied: numpy>=1.16.3 in /usr/local/lib/python3.8/dist-packages (from qiskit-aer-gpu) (1.21.6)\n",
            "Collecting qiskit-terra>=0.21.0\n",
            "  Downloading qiskit_terra-0.22.3-cp38-cp38-manylinux_2_17_x86_64.manylinux2014_x86_64.whl (4.8 MB)\n",
            "\u001b[K     |████████████████████████████████| 4.8 MB 36.3 MB/s \n",
            "\u001b[?25hCollecting tweedledum<2.0,>=1.1\n",
            "  Downloading tweedledum-1.1.1-cp38-cp38-manylinux_2_12_x86_64.manylinux2010_x86_64.whl (929 kB)\n",
            "\u001b[K     |████████████████████████████████| 929 kB 54.4 MB/s \n",
            "\u001b[?25hRequirement already satisfied: dill>=0.3 in /usr/local/lib/python3.8/dist-packages (from qiskit-terra>=0.21.0->qiskit-aer-gpu) (0.3.6)\n",
            "Requirement already satisfied: sympy>=1.3 in /usr/local/lib/python3.8/dist-packages (from qiskit-terra>=0.21.0->qiskit-aer-gpu) (1.7.1)\n",
            "Requirement already satisfied: psutil>=5 in /usr/local/lib/python3.8/dist-packages (from qiskit-terra>=0.21.0->qiskit-aer-gpu) (5.4.8)\n",
            "Collecting symengine>=0.9\n",
            "  Downloading symengine-0.9.2-cp38-cp38-manylinux2010_x86_64.whl (37.5 MB)\n",
            "\u001b[K     |████████████████████████████████| 37.5 MB 515 kB/s \n",
            "\u001b[?25hCollecting stevedore>=3.0.0\n",
            "  Downloading stevedore-4.1.1-py3-none-any.whl (50 kB)\n",
            "\u001b[K     |████████████████████████████████| 50 kB 6.7 MB/s \n",
            "\u001b[?25hCollecting ply>=3.10\n",
            "  Downloading ply-3.11-py2.py3-none-any.whl (49 kB)\n",
            "\u001b[K     |████████████████████████████████| 49 kB 217 kB/s \n",
            "\u001b[?25hCollecting retworkx>=0.11.0\n",
            "  Downloading retworkx-0.12.1-py3-none-any.whl (10 kB)\n",
            "Requirement already satisfied: python-dateutil>=2.8.0 in /usr/local/lib/python3.8/dist-packages (from qiskit-terra>=0.21.0->qiskit-aer-gpu) (2.8.2)\n",
            "Requirement already satisfied: six>=1.5 in /usr/local/lib/python3.8/dist-packages (from python-dateutil>=2.8.0->qiskit-terra>=0.21.0->qiskit-aer-gpu) (1.15.0)\n",
            "Collecting rustworkx==0.12.1\n",
            "  Downloading rustworkx-0.12.1-cp38-cp38-manylinux_2_17_x86_64.manylinux2014_x86_64.whl (1.9 MB)\n",
            "\u001b[K     |████████████████████████████████| 1.9 MB 41.8 MB/s \n",
            "\u001b[?25hCollecting pbr!=2.1.0,>=2.0.0\n",
            "  Downloading pbr-5.11.0-py2.py3-none-any.whl (112 kB)\n",
            "\u001b[K     |████████████████████████████████| 112 kB 60.8 MB/s \n",
            "\u001b[?25hRequirement already satisfied: mpmath>=0.19 in /usr/local/lib/python3.8/dist-packages (from sympy>=1.3->qiskit-terra>=0.21.0->qiskit-aer-gpu) (1.2.1)\n",
            "Installing collected packages: rustworkx, pbr, tweedledum, symengine, stevedore, retworkx, ply, qiskit-terra, qiskit-aer-gpu\n"
          ]
        }
      ],
      "source": [
        "!nvidia-smi\n",
        "# !pip install -r qiskit-optimization/requirements-dev.txt\n",
        "!pip install qiskit-aer-gpu\n",
        "!pip install docplex\n",
        "!pip install pylatexenc\n",
        "\n",
        "import sys\n",
        "sys.path.append(\"./qiskit-optimization/\")"
      ]
    },
    {
      "cell_type": "code",
      "execution_count": null,
      "id": "68681a10",
      "metadata": {
        "id": "68681a10"
      },
      "outputs": [],
      "source": [
        "%load_ext autoreload\n",
        "%autoreload\n",
        "\n",
        "from qiskit.algorithms import NumPyMinimumEigensolver\n",
        "from qiskit_optimization.algorithms import PQCGroverOptimizer, GroverOptimizer, MinimumEigenOptimizer\n",
        "from qiskit_optimization.algorithms.pqc_grover_optimizer import ProposeDistribution\n",
        "from qiskit_optimization.problems import QuadraticProgram\n",
        "from qiskit_optimization.translators import from_docplex_mp\n",
        "from qiskit import Aer\n",
        "from qiskit.utils import QuantumInstance\n",
        "from qiskit.circuit.library import TwoLocal\n",
        "from docplex.mp.model import Model\n",
        "import numpy as np\n",
        "print(Aer.backends())\n",
        "backend = Aer.get_backend('aer_simulator')\n",
        "backend.set_options(device='GPU')\n",
        "backend_statevector = Aer.get_backend('statevector_simulator')\n",
        "print(backend)"
      ]
    },
    {
      "cell_type": "code",
      "execution_count": null,
      "id": "cd72d5ca",
      "metadata": {
        "id": "cd72d5ca"
      },
      "outputs": [],
      "source": [
        "import itertools\n",
        "model = Model()\n",
        "xs = [model.binary_var(name=f\"x{i}\") for i in range(15)]\n",
        "objective = sum([np.random.randint(1, 4) * x for x in xs]) + \\\n",
        "     sum([np.random.randint(-4, -1) * x * y \n",
        "     for x, y in itertools.combinations(xs, 2) \n",
        "     if np.random.choice([0, 1], p=[2/3, 1/3])==1])\n",
        "# objective = (-xs[0]+2*xs[1]-3*xs[2]-2*xs[0]*xs[2]-1*xs[1]*xs[2])\n",
        "model.minimize(objective)\n",
        "qp = from_docplex_mp(model)\n",
        "print(qp.prettyprint())"
      ]
    },
    {
      "cell_type": "code",
      "execution_count": 185,
      "id": "560910e6",
      "metadata": {
        "colab": {
          "base_uri": "https://localhost:8080/"
        },
        "id": "560910e6",
        "outputId": "8c631ca1-ee54-4fde-c0c1-35d13a5980be"
      },
      "outputs": [
        {
          "output_type": "stream",
          "name": "stdout",
          "text": [
            "objective function value: -86.0\n",
            "variable values: x0=1.0, x1=1.0, x2=1.0, x3=1.0, x4=1.0, x5=1.0, x6=1.0, x7=1.0, x8=1.0, x9=1.0, x10=1.0, x11=1.0, x12=1.0, x13=1.0, x14=1.0\n",
            "status: SUCCESS\n"
          ]
        }
      ],
      "source": [
        "exact_solver = MinimumEigenOptimizer(NumPyMinimumEigensolver())\n",
        "exact_result = exact_solver.solve(qp)\n",
        "print(exact_result.prettyprint())"
      ]
    },
    {
      "cell_type": "code",
      "execution_count": 4,
      "id": "85d3c53c",
      "metadata": {
        "scrolled": true,
        "colab": {
          "base_uri": "https://localhost:8080/",
          "height": 245
        },
        "id": "85d3c53c",
        "outputId": "bf1dd333-d865-46e0-cfd6-aa17cdd32e9c"
      },
      "outputs": [
        {
          "output_type": "error",
          "ename": "NameError",
          "evalue": "ignored",
          "traceback": [
            "\u001b[0;31m---------------------------------------------------------------------------\u001b[0m",
            "\u001b[0;31mNameError\u001b[0m                                 Traceback (most recent call last)",
            "\u001b[0;32m<ipython-input-4-b32ad6471bcd>\u001b[0m in \u001b[0;36m<module>\u001b[0;34m\u001b[0m\n\u001b[0;32m----> 1\u001b[0;31m \u001b[0mnum_key_qbits\u001b[0m \u001b[0;34m=\u001b[0m \u001b[0mlen\u001b[0m\u001b[0;34m(\u001b[0m\u001b[0mqp\u001b[0m\u001b[0;34m.\u001b[0m\u001b[0mobjective\u001b[0m\u001b[0;34m.\u001b[0m\u001b[0mlinear\u001b[0m\u001b[0;34m.\u001b[0m\u001b[0mto_array\u001b[0m\u001b[0;34m(\u001b[0m\u001b[0;34m)\u001b[0m\u001b[0;34m)\u001b[0m\u001b[0;34m\u001b[0m\u001b[0;34m\u001b[0m\u001b[0m\n\u001b[0m\u001b[1;32m      2\u001b[0m \u001b[0minit_state\u001b[0m \u001b[0;34m=\u001b[0m \u001b[0mQuantumCircuit\u001b[0m\u001b[0;34m(\u001b[0m\u001b[0mnum_key_qbits\u001b[0m\u001b[0;34m)\u001b[0m\u001b[0;34m\u001b[0m\u001b[0;34m\u001b[0m\u001b[0m\n\u001b[1;32m      3\u001b[0m \u001b[0minit_state\u001b[0m\u001b[0;34m.\u001b[0m\u001b[0mh\u001b[0m\u001b[0;34m(\u001b[0m\u001b[0mrange\u001b[0m\u001b[0;34m(\u001b[0m\u001b[0mnum_key_qbits\u001b[0m\u001b[0;34m)\u001b[0m\u001b[0;34m)\u001b[0m\u001b[0;34m\u001b[0m\u001b[0;34m\u001b[0m\u001b[0m\n\u001b[1;32m      4\u001b[0m ansatz = TwoLocal(num_key_qbits, 'ry', 'crx', 'circular', reps=1,\n\u001b[1;32m      5\u001b[0m                   \u001b[0minsert_barriers\u001b[0m\u001b[0;34m=\u001b[0m\u001b[0;32mTrue\u001b[0m\u001b[0;34m,\u001b[0m\u001b[0;34m\u001b[0m\u001b[0;34m\u001b[0m\u001b[0m\n",
            "\u001b[0;31mNameError\u001b[0m: name 'qp' is not defined"
          ]
        }
      ],
      "source": [
        "num_key_qbits = len(qp.objective.linear.to_array())\n",
        "init_state = QuantumCircuit(num_key_qbits)\n",
        "init_state.h(range(num_key_qbits))\n",
        "ansatz = TwoLocal(num_key_qbits, 'ry', 'crx', 'circular', reps=1,\n",
        "                  insert_barriers=True,\n",
        "                  initial_state=init_state,\n",
        "                  skip_final_rotation_layer=True,\n",
        "                  )\n",
        "ansatz.decompose().draw(\"mpl\")\n"
      ]
    },
    {
      "cell_type": "code",
      "source": [
        "# from qiskit import execute, QuantumCircuit, transpile\n",
        "\n",
        "# ansatz_bound = ansatz.assign_parameters(np.array([0.] * num_key_qbits+[np.arcsin(np.sqrt(0.5))*2]*num_key_qbits))\n",
        "\n",
        "# qc = QuantumCircuit(num_key_qbits)\n",
        "# # qc.h(range(num_key_qbits))\n",
        "# qc.compose(ansatz_bound, inplace=True)\n",
        "\n",
        "# qc = transpile(qc, backend=backend_statevector)\n",
        "# result = backend_statevector.run(qc).result()\n",
        "# result.get_statevector(qc)"
      ],
      "metadata": {
        "id": "PRymbtecYGst"
      },
      "id": "PRymbtecYGst",
      "execution_count": null,
      "outputs": []
    },
    {
      "cell_type": "code",
      "source": [
        "print(ansatz.num_parameters)\n",
        "init_param = np.zeros(ansatz.num_parameters)\n",
        "propose_distribution = ProposeDistribution(\n",
        "    ansatz,                 \n",
        "    num_key_qbits, \n",
        "    QuantumInstance(backend=backend, shots=1024, seed_simulator=99),\n",
        "    init_param=init_param\n",
        "    )\n",
        "grover_optimizer = PQCGroverOptimizer(\n",
        "    num_value_qubits=8, \n",
        "    propose_dist=propose_distribution,\n",
        "    num_iterations=15, \n",
        "    quantum_instance=backend,      \n",
        "    sample_num=1, quantile=0., \n",
        "    positive_train_conf={\"iter\": 5, \"learning_rate\": 0.001},\n",
        "    negative_train_conf={\"iter\": 5, \"learning_rate\": 0.001})\n",
        "results = grover_optimizer.solve(qp)\n",
        "print(results.prettyprint())\n",
        "print(results.operation_counts)"
      ],
      "metadata": {
        "id": "2q3csNEQVLko",
        "outputId": "79887385-5c11-4dae-d070-83dce9b1e5d1",
        "colab": {
          "base_uri": "https://localhost:8080/",
          "height": 245
        }
      },
      "id": "2q3csNEQVLko",
      "execution_count": 1,
      "outputs": [
        {
          "output_type": "error",
          "ename": "NameError",
          "evalue": "ignored",
          "traceback": [
            "\u001b[0;31m---------------------------------------------------------------------------\u001b[0m",
            "\u001b[0;31mNameError\u001b[0m                                 Traceback (most recent call last)",
            "\u001b[0;32m<ipython-input-1-87ab1fd503e2>\u001b[0m in \u001b[0;36m<module>\u001b[0;34m\u001b[0m\n\u001b[0;32m----> 1\u001b[0;31m \u001b[0mprint\u001b[0m\u001b[0;34m(\u001b[0m\u001b[0mansatz\u001b[0m\u001b[0;34m.\u001b[0m\u001b[0mnum_parameters\u001b[0m\u001b[0;34m)\u001b[0m\u001b[0;34m\u001b[0m\u001b[0;34m\u001b[0m\u001b[0m\n\u001b[0m\u001b[1;32m      2\u001b[0m \u001b[0minit_param\u001b[0m \u001b[0;34m=\u001b[0m \u001b[0mnp\u001b[0m\u001b[0;34m.\u001b[0m\u001b[0mzeros\u001b[0m\u001b[0;34m(\u001b[0m\u001b[0mansatz\u001b[0m\u001b[0;34m.\u001b[0m\u001b[0mnum_parameters\u001b[0m\u001b[0;34m)\u001b[0m\u001b[0;34m\u001b[0m\u001b[0;34m\u001b[0m\u001b[0m\n\u001b[1;32m      3\u001b[0m propose_distribution = ProposeDistribution(\n\u001b[1;32m      4\u001b[0m     \u001b[0mansatz\u001b[0m\u001b[0;34m,\u001b[0m\u001b[0;34m\u001b[0m\u001b[0;34m\u001b[0m\u001b[0m\n\u001b[1;32m      5\u001b[0m     \u001b[0mnum_key_qbits\u001b[0m\u001b[0;34m,\u001b[0m\u001b[0;34m\u001b[0m\u001b[0;34m\u001b[0m\u001b[0m\n",
            "\u001b[0;31mNameError\u001b[0m: name 'ansatz' is not defined"
          ]
        }
      ]
    },
    {
      "cell_type": "code",
      "execution_count": null,
      "id": "d024f39a",
      "metadata": {
        "id": "d024f39a"
      },
      "outputs": [],
      "source": [
        "def eval_num(operation_dict):\n",
        "    eval_num = 0\n",
        "    for x in operation_dict.values():\n",
        "        eval_num += x['Q(x)']\n",
        "        if 'Q' in x:\n",
        "            eval_num += x['Q']\n",
        "    return eval_num"
      ]
    },
    {
      "cell_type": "code",
      "execution_count": null,
      "id": "71ee9350",
      "metadata": {
        "colab": {
          "base_uri": "https://localhost:8080/"
        },
        "id": "71ee9350",
        "outputId": "df593efc-288d-4b62-d456-b01cfa30026e"
      },
      "outputs": [
        {
          "output_type": "execute_result",
          "data": {
            "text/plain": [
              "91"
            ]
          },
          "metadata": {},
          "execution_count": 7
        }
      ],
      "source": [
        "eval_num(results.operation_counts)"
      ]
    },
    {
      "cell_type": "code",
      "execution_count": null,
      "id": "f5fe0935",
      "metadata": {
        "colab": {
          "base_uri": "https://localhost:8080/"
        },
        "id": "f5fe0935",
        "outputId": "f7b1ccad-92d3-4a92-babf-066dc12eab18"
      },
      "outputs": [
        {
          "output_type": "stream",
          "name": "stdout",
          "text": [
            "objective function value: -26.0\n",
            "variable values: x0=1.0, x1=1.0, x2=1.0, x3=1.0, x4=1.0, x5=0.0, x6=1.0, x7=0.0, x8=1.0, x9=0.0, x10=0.0, x11=1.0, x12=0.0, x13=0.0, x14=1.0\n",
            "status: SUCCESS\n",
            "{0: OrderedDict([('measure', 24), ('h', 15), ('Q(x)', 1)]), 1: OrderedDict([('measure', 24), ('h', 15), ('Q(x)', 1)]), 2: OrderedDict([('measure', 24), ('h', 15), ('Q(x)', 1)]), 3: OrderedDict([('measure', 24), ('h', 15), ('Q', 2), ('Q(x)', 1)]), 4: OrderedDict([('measure', 24), ('h', 15), ('Q', 3), ('Q(x)', 1)]), 5: OrderedDict([('measure', 24), ('h', 15), ('Q(x)', 1)]), 6: OrderedDict([('measure', 24), ('h', 15), ('Q(x)', 1), ('Q', 1)]), 7: OrderedDict([('measure', 24), ('h', 15), ('Q(x)', 1)]), 8: OrderedDict([('measure', 24), ('h', 15), ('Q(x)', 1), ('Q', 1)]), 9: OrderedDict([('measure', 24), ('h', 15), ('Q(x)', 1)]), 10: OrderedDict([('measure', 24), ('h', 15), ('Q', 3), ('Q(x)', 1)]), 11: OrderedDict([('measure', 24), ('h', 15), ('Q(x)', 1), ('Q', 1)]), 12: OrderedDict([('measure', 24), ('h', 15), ('Q(x)', 1)]), 13: OrderedDict([('measure', 24), ('h', 15), ('Q(x)', 1)]), 14: OrderedDict([('measure', 24), ('h', 15), ('Q', 2), ('Q(x)', 1)]), 15: OrderedDict([('measure', 24), ('h', 15), ('Q(x)', 1), ('Q', 1)]), 16: OrderedDict([('measure', 24), ('h', 15), ('Q', 4), ('Q(x)', 1)]), 17: OrderedDict([('measure', 24), ('h', 15), ('Q', 3), ('Q(x)', 1)]), 18: OrderedDict([('measure', 24), ('h', 15), ('Q', 2), ('Q(x)', 1)]), 19: OrderedDict([('measure', 24), ('h', 15), ('Q', 6), ('Q(x)', 1)]), 20: OrderedDict([('measure', 24), ('h', 15), ('Q(x)', 1)]), 21: OrderedDict([('measure', 24), ('h', 15), ('Q(x)', 1), ('Q', 1)]), 22: OrderedDict([('measure', 24), ('h', 15), ('Q', 2), ('Q(x)', 1)]), 23: OrderedDict([('measure', 24), ('h', 15), ('Q', 3), ('Q(x)', 1)]), 24: OrderedDict([('measure', 24), ('h', 15), ('Q', 4), ('Q(x)', 1)]), 25: OrderedDict([('measure', 24), ('h', 15), ('Q(x)', 1)]), 26: OrderedDict([('measure', 24), ('h', 15), ('Q', 3), ('Q(x)', 1)]), 27: OrderedDict([('measure', 24), ('h', 15), ('Q', 4), ('Q(x)', 1)]), 28: OrderedDict([('measure', 24), ('h', 15), ('Q', 2), ('Q(x)', 1)]), 29: OrderedDict([('measure', 24), ('h', 15), ('Q', 9), ('Q(x)', 1)]), 30: OrderedDict([('measure', 24), ('h', 15), ('Q', 9), ('Q(x)', 1)]), 31: OrderedDict([('measure', 24), ('h', 15), ('Q', 6), ('Q(x)', 1)]), 32: OrderedDict([('measure', 24), ('h', 15), ('Q', 4), ('Q(x)', 1)]), 33: OrderedDict([('measure', 24), ('h', 15), ('Q', 9), ('Q(x)', 1)])}\n"
          ]
        }
      ],
      "source": [
        "grover_optimizer = GroverOptimizer(8, num_iterations=15, quantum_instance=backend,)\n",
        "results = grover_optimizer.solve(qp)\n",
        "print(results.prettyprint())\n",
        "print(results.operation_counts)"
      ]
    },
    {
      "cell_type": "code",
      "execution_count": null,
      "id": "5646e073",
      "metadata": {
        "colab": {
          "base_uri": "https://localhost:8080/"
        },
        "id": "5646e073",
        "outputId": "203b9e59-e6c3-417d-a40c-0eac8162ff8b"
      },
      "outputs": [
        {
          "output_type": "execute_result",
          "data": {
            "text/plain": [
              "119"
            ]
          },
          "metadata": {},
          "execution_count": 9
        }
      ],
      "source": [
        "eval_num(results.operation_counts)"
      ]
    },
    {
      "cell_type": "code",
      "execution_count": null,
      "id": "fecbc40d",
      "metadata": {
        "id": "fecbc40d"
      },
      "outputs": [],
      "source": []
    }
  ],
  "metadata": {
    "kernelspec": {
      "display_name": "Python 3 (ipykernel)",
      "language": "python",
      "name": "python3"
    },
    "language_info": {
      "codemirror_mode": {
        "name": "ipython",
        "version": 3
      },
      "file_extension": ".py",
      "mimetype": "text/x-python",
      "name": "python",
      "nbconvert_exporter": "python",
      "pygments_lexer": "ipython3",
      "version": "3.8.10"
    },
    "colab": {
      "provenance": []
    },
    "accelerator": "GPU",
    "gpuClass": "standard"
  },
  "nbformat": 4,
  "nbformat_minor": 5
}