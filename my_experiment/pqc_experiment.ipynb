{
  "cells": [
    {
      "cell_type": "markdown",
      "source": [],
      "metadata": {
        "id": "JQT11ULUgE4w"
      },
      "id": "JQT11ULUgE4w"
    },
    {
      "cell_type": "code",
      "source": [
        "!rm -rf qiskit-optimization/\n",
        "!git clone https://github.com/morim3/qiskit-optimization"
      ],
      "metadata": {
        "id": "bmSrwE7GfqqU",
        "outputId": "13faa331-a866-41eb-ed43-769bf1ca21dc",
        "colab": {
          "base_uri": "https://localhost:8080/"
        }
      },
      "id": "bmSrwE7GfqqU",
      "execution_count": 155,
      "outputs": [
        {
          "output_type": "stream",
          "name": "stdout",
          "text": [
            "Cloning into 'qiskit-optimization'...\n",
            "remote: Enumerating objects: 4104, done.\u001b[K\n",
            "remote: Counting objects: 100% (169/169), done.\u001b[K\n",
            "remote: Compressing objects: 100% (106/106), done.\u001b[K\n",
            "remote: Total 4104 (delta 95), reused 123 (delta 60), pack-reused 3935\u001b[K\n",
            "Receiving objects: 100% (4104/4104), 5.16 MiB | 20.33 MiB/s, done.\n",
            "Resolving deltas: 100% (2708/2708), done.\n"
          ]
        }
      ]
    },
    {
      "cell_type": "code",
      "execution_count": 116,
      "id": "a9f44d6c",
      "metadata": {
        "colab": {
          "base_uri": "https://localhost:8080/"
        },
        "id": "a9f44d6c",
        "outputId": "88c8f62d-4e05-48db-f127-dcf4ad710ead"
      },
      "outputs": [
        {
          "output_type": "stream",
          "name": "stdout",
          "text": [
            "Thu Dec  1 16:23:59 2022       \n",
            "+-----------------------------------------------------------------------------+\n",
            "| NVIDIA-SMI 460.32.03    Driver Version: 460.32.03    CUDA Version: 11.2     |\n",
            "|-------------------------------+----------------------+----------------------+\n",
            "| GPU  Name        Persistence-M| Bus-Id        Disp.A | Volatile Uncorr. ECC |\n",
            "| Fan  Temp  Perf  Pwr:Usage/Cap|         Memory-Usage | GPU-Util  Compute M. |\n",
            "|                               |                      |               MIG M. |\n",
            "|===============================+======================+======================|\n",
            "|   0  Tesla T4            Off  | 00000000:00:04.0 Off |                    0 |\n",
            "| N/A   77C    P0    36W /  70W |    106MiB / 15109MiB |      0%      Default |\n",
            "|                               |                      |                  N/A |\n",
            "+-------------------------------+----------------------+----------------------+\n",
            "                                                                               \n",
            "+-----------------------------------------------------------------------------+\n",
            "| Processes:                                                                  |\n",
            "|  GPU   GI   CI        PID   Type   Process name                  GPU Memory |\n",
            "|        ID   ID                                                   Usage      |\n",
            "|=============================================================================|\n",
            "+-----------------------------------------------------------------------------+\n",
            "Looking in indexes: https://pypi.org/simple, https://us-python.pkg.dev/colab-wheels/public/simple/\n",
            "Requirement already satisfied: qiskit-aer-gpu in /usr/local/lib/python3.8/dist-packages (0.11.1)\n",
            "Requirement already satisfied: numpy>=1.16.3 in /usr/local/lib/python3.8/dist-packages (from qiskit-aer-gpu) (1.21.6)\n",
            "Requirement already satisfied: scipy>=1.0 in /usr/local/lib/python3.8/dist-packages (from qiskit-aer-gpu) (1.7.3)\n",
            "Requirement already satisfied: qiskit-terra>=0.21.0 in /usr/local/lib/python3.8/dist-packages (from qiskit-aer-gpu) (0.22.3)\n",
            "Requirement already satisfied: sympy>=1.3 in /usr/local/lib/python3.8/dist-packages (from qiskit-terra>=0.21.0->qiskit-aer-gpu) (1.7.1)\n",
            "Requirement already satisfied: symengine>=0.9 in /usr/local/lib/python3.8/dist-packages (from qiskit-terra>=0.21.0->qiskit-aer-gpu) (0.9.2)\n",
            "Requirement already satisfied: tweedledum<2.0,>=1.1 in /usr/local/lib/python3.8/dist-packages (from qiskit-terra>=0.21.0->qiskit-aer-gpu) (1.1.1)\n",
            "Requirement already satisfied: ply>=3.10 in /usr/local/lib/python3.8/dist-packages (from qiskit-terra>=0.21.0->qiskit-aer-gpu) (3.11)\n",
            "Requirement already satisfied: psutil>=5 in /usr/local/lib/python3.8/dist-packages (from qiskit-terra>=0.21.0->qiskit-aer-gpu) (5.4.8)\n",
            "Requirement already satisfied: dill>=0.3 in /usr/local/lib/python3.8/dist-packages (from qiskit-terra>=0.21.0->qiskit-aer-gpu) (0.3.6)\n",
            "Requirement already satisfied: python-dateutil>=2.8.0 in /usr/local/lib/python3.8/dist-packages (from qiskit-terra>=0.21.0->qiskit-aer-gpu) (2.8.2)\n",
            "Requirement already satisfied: stevedore>=3.0.0 in /usr/local/lib/python3.8/dist-packages (from qiskit-terra>=0.21.0->qiskit-aer-gpu) (4.1.1)\n",
            "Requirement already satisfied: retworkx>=0.11.0 in /usr/local/lib/python3.8/dist-packages (from qiskit-terra>=0.21.0->qiskit-aer-gpu) (0.12.1)\n",
            "Requirement already satisfied: six>=1.5 in /usr/local/lib/python3.8/dist-packages (from python-dateutil>=2.8.0->qiskit-terra>=0.21.0->qiskit-aer-gpu) (1.15.0)\n",
            "Requirement already satisfied: rustworkx==0.12.1 in /usr/local/lib/python3.8/dist-packages (from retworkx>=0.11.0->qiskit-terra>=0.21.0->qiskit-aer-gpu) (0.12.1)\n",
            "Requirement already satisfied: pbr!=2.1.0,>=2.0.0 in /usr/local/lib/python3.8/dist-packages (from stevedore>=3.0.0->qiskit-terra>=0.21.0->qiskit-aer-gpu) (5.11.0)\n",
            "Requirement already satisfied: mpmath>=0.19 in /usr/local/lib/python3.8/dist-packages (from sympy>=1.3->qiskit-terra>=0.21.0->qiskit-aer-gpu) (1.2.1)\n",
            "Looking in indexes: https://pypi.org/simple, https://us-python.pkg.dev/colab-wheels/public/simple/\n",
            "Requirement already satisfied: docplex in /usr/local/lib/python3.8/dist-packages (2.24.232)\n",
            "Requirement already satisfied: six in /usr/local/lib/python3.8/dist-packages (from docplex) (1.15.0)\n",
            "Looking in indexes: https://pypi.org/simple, https://us-python.pkg.dev/colab-wheels/public/simple/\n",
            "Requirement already satisfied: pylatexenc in /usr/local/lib/python3.8/dist-packages (2.10)\n"
          ]
        }
      ],
      "source": [
        "!nvidia-smi\n",
        "# !pip install -r qiskit-optimization/requirements-dev.txt\n",
        "!pip install qiskit-aer-gpu\n",
        "!pip install docplex\n",
        "!pip install pylatexenc\n",
        "\n",
        "import sys\n",
        "sys.path.append(\"./qiskit-optimization/\")"
      ]
    },
    {
      "cell_type": "code",
      "execution_count": 156,
      "id": "68681a10",
      "metadata": {
        "colab": {
          "base_uri": "https://localhost:8080/"
        },
        "id": "68681a10",
        "outputId": "0f705c6e-8140-4608-eee1-63a6de648f67"
      },
      "outputs": [
        {
          "output_type": "stream",
          "name": "stdout",
          "text": [
            "The autoreload extension is already loaded. To reload it, use:\n",
            "  %reload_ext autoreload\n",
            "[AerSimulator('aer_simulator'), AerSimulator('aer_simulator_statevector'), AerSimulator('aer_simulator_statevector_gpu'), AerSimulator('aer_simulator_density_matrix'), AerSimulator('aer_simulator_density_matrix_gpu'), AerSimulator('aer_simulator_stabilizer'), AerSimulator('aer_simulator_matrix_product_state'), AerSimulator('aer_simulator_extended_stabilizer'), AerSimulator('aer_simulator_unitary'), AerSimulator('aer_simulator_unitary_gpu'), AerSimulator('aer_simulator_superop'), QasmSimulator('qasm_simulator'), StatevectorSimulator('statevector_simulator'), UnitarySimulator('unitary_simulator'), PulseSimulator('pulse_simulator')]\n",
            "aer_simulator_gpu\n"
          ]
        }
      ],
      "source": [
        "%load_ext autoreload\n",
        "%autoreload\n",
        "\n",
        "from qiskit.algorithms import NumPyMinimumEigensolver\n",
        "from qiskit_optimization.algorithms import PQCGroverOptimizer, GroverOptimizer, MinimumEigenOptimizer\n",
        "from qiskit_optimization.algorithms.pqc_grover_optimizer import ProposeDistribution\n",
        "from qiskit_optimization.problems import QuadraticProgram\n",
        "from qiskit_optimization.translators import from_docplex_mp\n",
        "from qiskit import Aer\n",
        "from qiskit.utils import QuantumInstance\n",
        "from qiskit.circuit.library import TwoLocal\n",
        "from docplex.mp.model import Model\n",
        "import numpy as np\n",
        "print(Aer.backends())\n",
        "backend = Aer.get_backend('aer_simulator')\n",
        "backend.set_options(device='GPU')\n",
        "backend_statevector = Aer.get_backend('statevector_simulator')\n",
        "print(backend)"
      ]
    },
    {
      "cell_type": "code",
      "execution_count": 157,
      "id": "cd72d5ca",
      "metadata": {
        "colab": {
          "base_uri": "https://localhost:8080/"
        },
        "id": "cd72d5ca",
        "outputId": "cb241180-bd71-4972-b8d3-d274d81f121b"
      },
      "outputs": [
        {
          "output_type": "stream",
          "name": "stdout",
          "text": [
            "Problem name: docplex_model9\n",
            "\n",
            "Minimize\n",
            "  x0^2 - 2*x0*x1 - x0*x11 - x0*x12 - 4*x0*x13 + x0*x14 - 2*x0*x2 - 4*x0*x3\n",
            "  + 2*x0*x4 + x0*x5 - x0*x8 - x1^2 + 2*x1*x10 + 2*x1*x11 + 2*x1*x12 - x1*x13\n",
            "  + x1*x2 + 2*x1*x3 - x1*x5 - x1*x6 + 2*x1*x7 - 2*x1*x8 - 4*x1*x9 - 2*x10*x11\n",
            "  - 2*x10*x12 + 2*x10*x13 + x11*x12 - 2*x11*x13 + 4*x11*x14 - 2*x12^2\n",
            "  + 3*x12*x14 - x13^2 - x13*x14 + x2*x10 + 3*x2*x13 - x2*x14 - x2^2 + 3*x2*x4\n",
            "  + 2*x2*x6 + 2*x2*x8 + x2*x9 - 4*x3*x10 - x3*x11 + x3*x12 - x3*x14 + 2*x3^2\n",
            "  + x3*x4 + 2*x3*x5 + x3*x6 + 3*x3*x7 + x3*x8 + x3*x9 + 4*x4*x10 + 2*x4*x11\n",
            "  - x4*x13 - 4*x4*x14 + x4^2 - x4*x5 + 3*x4*x6 - 3*x5*x10 - x5*x11 - x5*x12\n",
            "  - 3*x5*x13 - 3*x5*x14 + 2*x5^2 - x5*x6 - x5*x7 - 2*x5*x9 + 2*x6*x10 + 2*x6*x12\n",
            "  - 3*x6*x13 - 2*x6*x14 + 2*x6^2 + x6*x7 + 4*x6*x8 - x6*x9 + 4*x7*x10 - x7*x11\n",
            "  - x7*x12 + x7*x13 + 2*x7^2 + x7*x8 - 2*x8*x10 + x8*x11 - x8*x13 + 3*x8*x14\n",
            "  + 2*x8^2 - 2*x8*x9 + 4*x9*x10 + x9*x12 + 3*x9*x13 + 2*x9*x14 + x9^2 + x1 + x12\n",
            "  + x13 + 2*x14 + 2*x2 + x4 + 2*x7 + 2*x8\n",
            "\n",
            "Subject to\n",
            "  No constraints\n",
            "\n",
            "  Binary variables (15)\n",
            "    x0 x1 x2 x3 x4 x5 x6 x7 x8 x9 x10 x11 x12 x13 x14\n",
            "\n"
          ]
        }
      ],
      "source": [
        "model = Model()\n",
        "xs = [model.binary_var(name=f\"x{i}\") for i in range(15)]\n",
        "objective = sum([np.random.randint(0, 3) * x for x in xs]) + sum([np.random.randint(-2, 3) * x * y for x in xs for y in xs])\n",
        "# objective = (-xs[0]+2*xs[1]-3*xs[2]-2*xs[0]*xs[2]-1*xs[1]*xs[2])\n",
        "model.minimize(objective)\n",
        "qp = from_docplex_mp(model)\n",
        "print(qp.prettyprint())"
      ]
    },
    {
      "cell_type": "code",
      "execution_count": 147,
      "id": "560910e6",
      "metadata": {
        "colab": {
          "base_uri": "https://localhost:8080/"
        },
        "id": "560910e6",
        "outputId": "282ee71a-348b-43ca-f577-65256eec422c"
      },
      "outputs": [
        {
          "output_type": "stream",
          "name": "stdout",
          "text": [
            "objective function value: -23.0\n",
            "variable values: x0=1.0, x1=1.0, x2=0.0, x3=0.0, x4=1.0, x5=0.0, x6=1.0, x7=0.0, x8=0.0, x9=1.0, x10=1.0, x11=0.0, x12=1.0, x13=1.0, x14=0.0\n",
            "status: SUCCESS\n"
          ]
        }
      ],
      "source": [
        "exact_solver = MinimumEigenOptimizer(NumPyMinimumEigensolver())\n",
        "exact_result = exact_solver.solve(qp)\n",
        "print(exact_result.prettyprint())"
      ]
    },
    {
      "cell_type": "code",
      "execution_count": 148,
      "id": "85d3c53c",
      "metadata": {
        "scrolled": true,
        "colab": {
          "base_uri": "https://localhost:8080/",
          "height": 690
        },
        "id": "85d3c53c",
        "outputId": "fbfb91c5-9368-47c8-8506-04c02e3b7a91"
      },
      "outputs": [
        {
          "output_type": "execute_result",
          "data": {
            "text/plain": [
              "<Figure size 1183.32x927.08 with 1 Axes>"
            ],
            "image/png": "[encoded data removed]"
          },
          "metadata": {},
          "execution_count": 148
        }
      ],
      "source": [
        "num_key_qbits = len(qp.objective.linear.to_array())\n",
        "ansatz = TwoLocal(num_key_qbits, 'ry', 'cz', 'linear', reps=1, insert_barriers=True)\n",
        "ansatz.decompose().draw(\"mpl\")\n"
      ]
    },
    {
      "cell_type": "code",
      "source": [
        "# from qiskit import execute, QuantumCircuit, transpile\n",
        "\n",
        "# ansatz_bound = ansatz.assign_parameters(np.array([0.] * num_key_qbits+[np.arcsin(np.sqrt(0.5))*2]*num_key_qbits))\n",
        "\n",
        "# qc = QuantumCircuit(num_key_qbits)\n",
        "# # qc.h(range(num_key_qbits))\n",
        "# qc.compose(ansatz_bound, inplace=True)\n",
        "\n",
        "# qc = transpile(qc, backend=backend_statevector)\n",
        "# result = backend_statevector.run(qc).result()\n",
        "# result.get_statevector(qc)"
      ],
      "metadata": {
        "id": "PRymbtecYGst"
      },
      "id": "PRymbtecYGst",
      "execution_count": 149,
      "outputs": []
    },
    {
      "cell_type": "code",
      "source": [
        "print(ansatz.num_parameters)\n",
        "propose_distribution = ProposeDistribution(\n",
        "    ansatz,                 \n",
        "    num_key_qbits, \n",
        "    QuantumInstance(backend=backend, shots=100, seed_simulator=99),\n",
        "    init_param=np.array([0.] * num_key_qbits+[np.arcsin(np.sqrt(0.5))*2]*num_key_qbits)\n",
        "    )\n",
        "grover_optimizer = PQCGroverOptimizer(\n",
        "    num_value_qubits=8, \n",
        "    propose_dist=propose_distribution,\n",
        "    num_iterations=15, \n",
        "    quantum_instance=backend,      \n",
        "    sample_num=1, quantile=0., )\n",
        "results = grover_optimizer.solve(qp)\n",
        "print(results.prettyprint())\n",
        "print(results.operation_counts)"
      ],
      "metadata": {
        "id": "2q3csNEQVLko",
        "outputId": "882a02c1-c916-42a7-9820-effc7d51a932",
        "colab": {
          "base_uri": "https://localhost:8080/",
          "height": 1000
        }
      },
      "id": "2q3csNEQVLko",
      "execution_count": 159,
      "outputs": [
        {
          "output_type": "stream",
          "name": "stdout",
          "text": [
            "30\n",
            "sampled [0 1 0 0 1 1 1 1 0 0 0 1 1 0 0]\n",
            "value 15\n",
            "real_val 15.0\n",
            "sampled [0 0 0 0 0 0 0 0 0 1 0 1 0 1 0]\n",
            "value 2\n",
            "real_val 2.0\n",
            "sampled [0 0 1 1 1 1 1 0 1 0 1 1 1 1 0]\n",
            "value 22\n",
            "real_val 22.0\n",
            "sampled [1 1 0 1 0 0 1 0 0 1 0 1 0 1 1]\n",
            "value -4\n",
            "real_val -4.0\n"
          ]
        },
        {
          "output_type": "error",
          "ename": "ValueError",
          "evalue": "ignored",
          "traceback": [
            "\u001b[0;31m---------------------------------------------------------------------------\u001b[0m",
            "\u001b[0;31mValueError\u001b[0m                                Traceback (most recent call last)",
            "\u001b[0;32m<ipython-input-159-d3e2c8ecc13f>\u001b[0m in \u001b[0;36m<module>\u001b[0;34m\u001b[0m\n\u001b[1;32m     12\u001b[0m     \u001b[0mquantum_instance\u001b[0m\u001b[0;34m=\u001b[0m\u001b[0mbackend\u001b[0m\u001b[0;34m,\u001b[0m\u001b[0;34m\u001b[0m\u001b[0;34m\u001b[0m\u001b[0m\n\u001b[1;32m     13\u001b[0m     sample_num=1, quantile=0., )\n\u001b[0;32m---> 14\u001b[0;31m \u001b[0mresults\u001b[0m \u001b[0;34m=\u001b[0m \u001b[0mgrover_optimizer\u001b[0m\u001b[0;34m.\u001b[0m\u001b[0msolve\u001b[0m\u001b[0;34m(\u001b[0m\u001b[0mqp\u001b[0m\u001b[0;34m)\u001b[0m\u001b[0;34m\u001b[0m\u001b[0;34m\u001b[0m\u001b[0m\n\u001b[0m\u001b[1;32m     15\u001b[0m \u001b[0mprint\u001b[0m\u001b[0;34m(\u001b[0m\u001b[0mresults\u001b[0m\u001b[0;34m.\u001b[0m\u001b[0mprettyprint\u001b[0m\u001b[0;34m(\u001b[0m\u001b[0;34m)\u001b[0m\u001b[0;34m)\u001b[0m\u001b[0;34m\u001b[0m\u001b[0;34m\u001b[0m\u001b[0m\n\u001b[1;32m     16\u001b[0m \u001b[0mprint\u001b[0m\u001b[0;34m(\u001b[0m\u001b[0mresults\u001b[0m\u001b[0;34m.\u001b[0m\u001b[0moperation_counts\u001b[0m\u001b[0;34m)\u001b[0m\u001b[0;34m\u001b[0m\u001b[0;34m\u001b[0m\u001b[0m\n",
            "\u001b[0;32m/content/./qiskit-optimization/qiskit_optimization/algorithms/pqc_grover_optimizer.py\u001b[0m in \u001b[0;36msolve\u001b[0;34m(self, problem)\u001b[0m\n\u001b[1;32m    425\u001b[0m             \u001b[0;32mif\u001b[0m \u001b[0;32mnot\u001b[0m \u001b[0moptimum_found\u001b[0m\u001b[0;34m:\u001b[0m\u001b[0;34m\u001b[0m\u001b[0;34m\u001b[0m\u001b[0m\n\u001b[1;32m    426\u001b[0m                 \u001b[0;31m# update parameter\u001b[0m\u001b[0;34m\u001b[0m\u001b[0;34m\u001b[0m\u001b[0;34m\u001b[0m\u001b[0m\n\u001b[0;32m--> 427\u001b[0;31m                 \u001b[0mself\u001b[0m\u001b[0;34m.\u001b[0m\u001b[0mpropose_distribution\u001b[0m\u001b[0;34m.\u001b[0m\u001b[0mfit\u001b[0m\u001b[0;34m(\u001b[0m\u001b[0mgood_samples\u001b[0m\u001b[0;34m)\u001b[0m\u001b[0;34m\u001b[0m\u001b[0;34m\u001b[0m\u001b[0m\n\u001b[0m\u001b[1;32m    428\u001b[0m                 \u001b[0;31m# TODO: importance sampling\u001b[0m\u001b[0;34m\u001b[0m\u001b[0;34m\u001b[0m\u001b[0;34m\u001b[0m\u001b[0m\n\u001b[1;32m    429\u001b[0m                 \u001b[0mself\u001b[0m\u001b[0;34m.\u001b[0m\u001b[0m_threshold\u001b[0m \u001b[0;34m=\u001b[0m \u001b[0mint\u001b[0m\u001b[0;34m(\u001b[0m\u001b[0mnp\u001b[0m\u001b[0;34m.\u001b[0m\u001b[0mquantile\u001b[0m\u001b[0;34m(\u001b[0m\u001b[0mgood_sample_values\u001b[0m\u001b[0;34m,\u001b[0m \u001b[0mself\u001b[0m\u001b[0;34m.\u001b[0m\u001b[0mquantile\u001b[0m\u001b[0;34m)\u001b[0m\u001b[0;34m)\u001b[0m\u001b[0;34m\u001b[0m\u001b[0;34m\u001b[0m\u001b[0m\n",
            "\u001b[0;32m/content/./qiskit-optimization/qiskit_optimization/algorithms/pqc_grover_optimizer.py\u001b[0m in \u001b[0;36mfit\u001b[0;34m(self, samples, weights, iter, learning_rate, perturb)\u001b[0m\n\u001b[1;32m     70\u001b[0m                    \u001b[0mlearning_rate\u001b[0m\u001b[0;34m=\u001b[0m\u001b[0mlearning_rate\u001b[0m\u001b[0;34m,\u001b[0m\u001b[0;34m\u001b[0m\u001b[0;34m\u001b[0m\u001b[0m\n\u001b[1;32m     71\u001b[0m                    perturbation=perturb)\n\u001b[0;32m---> 72\u001b[0;31m         result = spsa.optimize(self.circuit.num_parameters, \n\u001b[0m\u001b[1;32m     73\u001b[0m                                self.get_objective_function(samples, weights), initial_point=self.param)\n\u001b[1;32m     74\u001b[0m         \u001b[0mself\u001b[0m\u001b[0;34m.\u001b[0m\u001b[0mparam\u001b[0m \u001b[0;34m=\u001b[0m \u001b[0mresult\u001b[0m\u001b[0;34m[\u001b[0m\u001b[0;36m0\u001b[0m\u001b[0;34m]\u001b[0m\u001b[0;34m\u001b[0m\u001b[0;34m\u001b[0m\u001b[0m\n",
            "\u001b[0;32m/usr/local/lib/python3.8/dist-packages/qiskit/utils/deprecation.py\u001b[0m in \u001b[0;36mwrapper\u001b[0;34m(*args, **kwargs)\u001b[0m\n\u001b[1;32m     49\u001b[0m         \u001b[0;32mdef\u001b[0m \u001b[0mwrapper\u001b[0m\u001b[0;34m(\u001b[0m\u001b[0;34m*\u001b[0m\u001b[0margs\u001b[0m\u001b[0;34m,\u001b[0m \u001b[0;34m**\u001b[0m\u001b[0mkwargs\u001b[0m\u001b[0;34m)\u001b[0m\u001b[0;34m:\u001b[0m\u001b[0;34m\u001b[0m\u001b[0;34m\u001b[0m\u001b[0m\n\u001b[1;32m     50\u001b[0m             \u001b[0mwarnings\u001b[0m\u001b[0;34m.\u001b[0m\u001b[0mwarn\u001b[0m\u001b[0;34m(\u001b[0m\u001b[0mmsg\u001b[0m\u001b[0;34m,\u001b[0m \u001b[0mcategory\u001b[0m\u001b[0;34m=\u001b[0m\u001b[0mcategory\u001b[0m\u001b[0;34m,\u001b[0m \u001b[0mstacklevel\u001b[0m\u001b[0;34m=\u001b[0m\u001b[0mstacklevel\u001b[0m\u001b[0;34m)\u001b[0m\u001b[0;34m\u001b[0m\u001b[0;34m\u001b[0m\u001b[0m\n\u001b[0;32m---> 51\u001b[0;31m             \u001b[0;32mreturn\u001b[0m \u001b[0mfunc\u001b[0m\u001b[0;34m(\u001b[0m\u001b[0;34m*\u001b[0m\u001b[0margs\u001b[0m\u001b[0;34m,\u001b[0m \u001b[0;34m**\u001b[0m\u001b[0mkwargs\u001b[0m\u001b[0;34m)\u001b[0m\u001b[0;34m\u001b[0m\u001b[0;34m\u001b[0m\u001b[0m\n\u001b[0m\u001b[1;32m     52\u001b[0m \u001b[0;34m\u001b[0m\u001b[0m\n\u001b[1;32m     53\u001b[0m         \u001b[0;32mreturn\u001b[0m \u001b[0mwrapper\u001b[0m\u001b[0;34m\u001b[0m\u001b[0;34m\u001b[0m\u001b[0m\n",
            "\u001b[0;32m/usr/local/lib/python3.8/dist-packages/qiskit/algorithms/optimizers/spsa.py\u001b[0m in \u001b[0;36moptimize\u001b[0;34m(self, num_vars, objective_function, gradient_function, variable_bounds, initial_point)\u001b[0m\n\u001b[1;32m    677\u001b[0m                \u001b[0mnfev\u001b[0m\u001b[0;34m:\u001b[0m \u001b[0mnumber\u001b[0m \u001b[0mof\u001b[0m \u001b[0mobjective\u001b[0m \u001b[0mfunction\u001b[0m \u001b[0mcalls\u001b[0m \u001b[0mmade\u001b[0m \u001b[0;32mif\u001b[0m \u001b[0mavailable\u001b[0m \u001b[0;32mor\u001b[0m \u001b[0;32mNone\u001b[0m\u001b[0;34m\u001b[0m\u001b[0;34m\u001b[0m\u001b[0m\n\u001b[1;32m    678\u001b[0m         \"\"\"\n\u001b[0;32m--> 679\u001b[0;31m         \u001b[0mresult\u001b[0m \u001b[0;34m=\u001b[0m \u001b[0mself\u001b[0m\u001b[0;34m.\u001b[0m\u001b[0mminimize\u001b[0m\u001b[0;34m(\u001b[0m\u001b[0mobjective_function\u001b[0m\u001b[0;34m,\u001b[0m \u001b[0minitial_point\u001b[0m\u001b[0;34m)\u001b[0m\u001b[0;34m\u001b[0m\u001b[0;34m\u001b[0m\u001b[0m\n\u001b[0m\u001b[1;32m    680\u001b[0m         \u001b[0;32mreturn\u001b[0m \u001b[0mresult\u001b[0m\u001b[0;34m.\u001b[0m\u001b[0mx\u001b[0m\u001b[0;34m,\u001b[0m \u001b[0mresult\u001b[0m\u001b[0;34m.\u001b[0m\u001b[0mfun\u001b[0m\u001b[0;34m,\u001b[0m \u001b[0mresult\u001b[0m\u001b[0;34m.\u001b[0m\u001b[0mnfev\u001b[0m\u001b[0;34m\u001b[0m\u001b[0;34m\u001b[0m\u001b[0m\n\u001b[1;32m    681\u001b[0m \u001b[0;34m\u001b[0m\u001b[0m\n",
            "\u001b[0;32m/usr/local/lib/python3.8/dist-packages/qiskit/algorithms/optimizers/spsa.py\u001b[0m in \u001b[0;36mminimize\u001b[0;34m(self, fun, x0, jac, bounds)\u001b[0m\n\u001b[1;32m    554\u001b[0m             \u001b[0miteration_start\u001b[0m \u001b[0;34m=\u001b[0m \u001b[0mtime\u001b[0m\u001b[0;34m(\u001b[0m\u001b[0;34m)\u001b[0m\u001b[0;34m\u001b[0m\u001b[0;34m\u001b[0m\u001b[0m\n\u001b[1;32m    555\u001b[0m             \u001b[0;31m# compute update\u001b[0m\u001b[0;34m\u001b[0m\u001b[0;34m\u001b[0m\u001b[0;34m\u001b[0m\u001b[0m\n\u001b[0;32m--> 556\u001b[0;31m             \u001b[0mfx_estimate\u001b[0m\u001b[0;34m,\u001b[0m \u001b[0mupdate\u001b[0m \u001b[0;34m=\u001b[0m \u001b[0mself\u001b[0m\u001b[0;34m.\u001b[0m\u001b[0m_compute_update\u001b[0m\u001b[0;34m(\u001b[0m\u001b[0mfun\u001b[0m\u001b[0;34m,\u001b[0m \u001b[0mx\u001b[0m\u001b[0;34m,\u001b[0m \u001b[0mk\u001b[0m\u001b[0;34m,\u001b[0m \u001b[0mnext\u001b[0m\u001b[0;34m(\u001b[0m\u001b[0meps\u001b[0m\u001b[0;34m)\u001b[0m\u001b[0;34m,\u001b[0m \u001b[0mlse_solver\u001b[0m\u001b[0;34m)\u001b[0m\u001b[0;34m\u001b[0m\u001b[0;34m\u001b[0m\u001b[0m\n\u001b[0m\u001b[1;32m    557\u001b[0m \u001b[0;34m\u001b[0m\u001b[0m\n\u001b[1;32m    558\u001b[0m             \u001b[0;31m# trust region\u001b[0m\u001b[0;34m\u001b[0m\u001b[0;34m\u001b[0m\u001b[0;34m\u001b[0m\u001b[0m\n",
            "\u001b[0;32m/usr/local/lib/python3.8/dist-packages/qiskit/algorithms/optimizers/spsa.py\u001b[0m in \u001b[0;36m_compute_update\u001b[0;34m(self, loss, x, k, eps, lse_solver)\u001b[0m\n\u001b[1;32m    485\u001b[0m \u001b[0;34m\u001b[0m\u001b[0m\n\u001b[1;32m    486\u001b[0m         \u001b[0;31m# accumulate the number of samples\u001b[0m\u001b[0;34m\u001b[0m\u001b[0;34m\u001b[0m\u001b[0;34m\u001b[0m\u001b[0m\n\u001b[0;32m--> 487\u001b[0;31m         \u001b[0mvalue\u001b[0m\u001b[0;34m,\u001b[0m \u001b[0mgradient\u001b[0m\u001b[0;34m,\u001b[0m \u001b[0mhessian\u001b[0m \u001b[0;34m=\u001b[0m \u001b[0mself\u001b[0m\u001b[0;34m.\u001b[0m\u001b[0m_point_estimate\u001b[0m\u001b[0;34m(\u001b[0m\u001b[0mloss\u001b[0m\u001b[0;34m,\u001b[0m \u001b[0mx\u001b[0m\u001b[0;34m,\u001b[0m \u001b[0meps\u001b[0m\u001b[0;34m,\u001b[0m \u001b[0mnum_samples\u001b[0m\u001b[0;34m)\u001b[0m\u001b[0;34m\u001b[0m\u001b[0;34m\u001b[0m\u001b[0m\n\u001b[0m\u001b[1;32m    488\u001b[0m \u001b[0;34m\u001b[0m\u001b[0m\n\u001b[1;32m    489\u001b[0m         \u001b[0;31m# precondition gradient with inverse Hessian, if specified\u001b[0m\u001b[0;34m\u001b[0m\u001b[0;34m\u001b[0m\u001b[0;34m\u001b[0m\u001b[0m\n",
            "\u001b[0;32m/usr/local/lib/python3.8/dist-packages/qiskit/algorithms/optimizers/spsa.py\u001b[0m in \u001b[0;36m_point_estimate\u001b[0;34m(self, loss, x, eps, num_samples)\u001b[0m\n\u001b[1;32m    462\u001b[0m             \u001b[0mdelta2\u001b[0m \u001b[0;34m=\u001b[0m \u001b[0mdeltas2\u001b[0m\u001b[0;34m[\u001b[0m\u001b[0mi\u001b[0m\u001b[0;34m]\u001b[0m \u001b[0;32mif\u001b[0m \u001b[0mself\u001b[0m\u001b[0;34m.\u001b[0m\u001b[0msecond_order\u001b[0m \u001b[0;32melse\u001b[0m \u001b[0;32mNone\u001b[0m\u001b[0;34m\u001b[0m\u001b[0;34m\u001b[0m\u001b[0m\n\u001b[1;32m    463\u001b[0m \u001b[0;34m\u001b[0m\u001b[0m\n\u001b[0;32m--> 464\u001b[0;31m             value_sample, gradient_sample, hessian_sample = self._point_sample(\n\u001b[0m\u001b[1;32m    465\u001b[0m                 \u001b[0mloss\u001b[0m\u001b[0;34m,\u001b[0m \u001b[0mx\u001b[0m\u001b[0;34m,\u001b[0m \u001b[0meps\u001b[0m\u001b[0;34m,\u001b[0m \u001b[0mdelta1\u001b[0m\u001b[0;34m,\u001b[0m \u001b[0mdelta2\u001b[0m\u001b[0;34m\u001b[0m\u001b[0;34m\u001b[0m\u001b[0m\n\u001b[1;32m    466\u001b[0m             )\n",
            "\u001b[0;32m/usr/local/lib/python3.8/dist-packages/qiskit/algorithms/optimizers/spsa.py\u001b[0m in \u001b[0;36m_point_sample\u001b[0;34m(self, loss, x, eps, delta1, delta2)\u001b[0m\n\u001b[1;32m    427\u001b[0m         \u001b[0mplus\u001b[0m \u001b[0;34m=\u001b[0m \u001b[0mvalues\u001b[0m\u001b[0;34m[\u001b[0m\u001b[0;36m0\u001b[0m\u001b[0;34m]\u001b[0m\u001b[0;34m\u001b[0m\u001b[0;34m\u001b[0m\u001b[0m\n\u001b[1;32m    428\u001b[0m         \u001b[0mminus\u001b[0m \u001b[0;34m=\u001b[0m \u001b[0mvalues\u001b[0m\u001b[0;34m[\u001b[0m\u001b[0;36m1\u001b[0m\u001b[0;34m]\u001b[0m\u001b[0;34m\u001b[0m\u001b[0;34m\u001b[0m\u001b[0m\n\u001b[0;32m--> 429\u001b[0;31m         \u001b[0mgradient_sample\u001b[0m \u001b[0;34m=\u001b[0m \u001b[0;34m(\u001b[0m\u001b[0mplus\u001b[0m \u001b[0;34m-\u001b[0m \u001b[0mminus\u001b[0m\u001b[0;34m)\u001b[0m \u001b[0;34m/\u001b[0m \u001b[0;34m(\u001b[0m\u001b[0;36m2\u001b[0m \u001b[0;34m*\u001b[0m \u001b[0meps\u001b[0m\u001b[0;34m)\u001b[0m \u001b[0;34m*\u001b[0m \u001b[0mdelta1\u001b[0m\u001b[0;34m\u001b[0m\u001b[0;34m\u001b[0m\u001b[0m\n\u001b[0m\u001b[1;32m    430\u001b[0m \u001b[0;34m\u001b[0m\u001b[0m\n\u001b[1;32m    431\u001b[0m         \u001b[0mhessian_sample\u001b[0m \u001b[0;34m=\u001b[0m \u001b[0;32mNone\u001b[0m\u001b[0;34m\u001b[0m\u001b[0;34m\u001b[0m\u001b[0m\n",
            "\u001b[0;31mValueError\u001b[0m: operands could not be broadcast together with shapes (15,) (30,) "
          ]
        }
      ]
    },
    {
      "cell_type": "code",
      "execution_count": null,
      "id": "d024f39a",
      "metadata": {
        "id": "d024f39a"
      },
      "outputs": [],
      "source": [
        "def eval_num(operation_dict):\n",
        "    eval_num = 0\n",
        "    for x in operation_dict.values():\n",
        "        eval_num += x['Q(x)']\n",
        "        if 'Q' in x:\n",
        "            eval_num += x['Q']\n",
        "    return eval_num"
      ]
    },
    {
      "cell_type": "code",
      "execution_count": null,
      "id": "71ee9350",
      "metadata": {
        "colab": {
          "base_uri": "https://localhost:8080/"
        },
        "id": "71ee9350",
        "outputId": "df593efc-288d-4b62-d456-b01cfa30026e"
      },
      "outputs": [
        {
          "output_type": "execute_result",
          "data": {
            "text/plain": [
              "91"
            ]
          },
          "metadata": {},
          "execution_count": 7
        }
      ],
      "source": [
        "eval_num(results.operation_counts)"
      ]
    },
    {
      "cell_type": "code",
      "execution_count": null,
      "id": "f5fe0935",
      "metadata": {
        "colab": {
          "base_uri": "https://localhost:8080/"
        },
        "id": "f5fe0935",
        "outputId": "f7b1ccad-92d3-4a92-babf-066dc12eab18"
      },
      "outputs": [
        {
          "output_type": "stream",
          "name": "stdout",
          "text": [
            "objective function value: -26.0\n",
            "variable values: x0=1.0, x1=1.0, x2=1.0, x3=1.0, x4=1.0, x5=0.0, x6=1.0, x7=0.0, x8=1.0, x9=0.0, x10=0.0, x11=1.0, x12=0.0, x13=0.0, x14=1.0\n",
            "status: SUCCESS\n",
            "{0: OrderedDict([('measure', 24), ('h', 15), ('Q(x)', 1)]), 1: OrderedDict([('measure', 24), ('h', 15), ('Q(x)', 1)]), 2: OrderedDict([('measure', 24), ('h', 15), ('Q(x)', 1)]), 3: OrderedDict([('measure', 24), ('h', 15), ('Q', 2), ('Q(x)', 1)]), 4: OrderedDict([('measure', 24), ('h', 15), ('Q', 3), ('Q(x)', 1)]), 5: OrderedDict([('measure', 24), ('h', 15), ('Q(x)', 1)]), 6: OrderedDict([('measure', 24), ('h', 15), ('Q(x)', 1), ('Q', 1)]), 7: OrderedDict([('measure', 24), ('h', 15), ('Q(x)', 1)]), 8: OrderedDict([('measure', 24), ('h', 15), ('Q(x)', 1), ('Q', 1)]), 9: OrderedDict([('measure', 24), ('h', 15), ('Q(x)', 1)]), 10: OrderedDict([('measure', 24), ('h', 15), ('Q', 3), ('Q(x)', 1)]), 11: OrderedDict([('measure', 24), ('h', 15), ('Q(x)', 1), ('Q', 1)]), 12: OrderedDict([('measure', 24), ('h', 15), ('Q(x)', 1)]), 13: OrderedDict([('measure', 24), ('h', 15), ('Q(x)', 1)]), 14: OrderedDict([('measure', 24), ('h', 15), ('Q', 2), ('Q(x)', 1)]), 15: OrderedDict([('measure', 24), ('h', 15), ('Q(x)', 1), ('Q', 1)]), 16: OrderedDict([('measure', 24), ('h', 15), ('Q', 4), ('Q(x)', 1)]), 17: OrderedDict([('measure', 24), ('h', 15), ('Q', 3), ('Q(x)', 1)]), 18: OrderedDict([('measure', 24), ('h', 15), ('Q', 2), ('Q(x)', 1)]), 19: OrderedDict([('measure', 24), ('h', 15), ('Q', 6), ('Q(x)', 1)]), 20: OrderedDict([('measure', 24), ('h', 15), ('Q(x)', 1)]), 21: OrderedDict([('measure', 24), ('h', 15), ('Q(x)', 1), ('Q', 1)]), 22: OrderedDict([('measure', 24), ('h', 15), ('Q', 2), ('Q(x)', 1)]), 23: OrderedDict([('measure', 24), ('h', 15), ('Q', 3), ('Q(x)', 1)]), 24: OrderedDict([('measure', 24), ('h', 15), ('Q', 4), ('Q(x)', 1)]), 25: OrderedDict([('measure', 24), ('h', 15), ('Q(x)', 1)]), 26: OrderedDict([('measure', 24), ('h', 15), ('Q', 3), ('Q(x)', 1)]), 27: OrderedDict([('measure', 24), ('h', 15), ('Q', 4), ('Q(x)', 1)]), 28: OrderedDict([('measure', 24), ('h', 15), ('Q', 2), ('Q(x)', 1)]), 29: OrderedDict([('measure', 24), ('h', 15), ('Q', 9), ('Q(x)', 1)]), 30: OrderedDict([('measure', 24), ('h', 15), ('Q', 9), ('Q(x)', 1)]), 31: OrderedDict([('measure', 24), ('h', 15), ('Q', 6), ('Q(x)', 1)]), 32: OrderedDict([('measure', 24), ('h', 15), ('Q', 4), ('Q(x)', 1)]), 33: OrderedDict([('measure', 24), ('h', 15), ('Q', 9), ('Q(x)', 1)])}\n"
          ]
        }
      ],
      "source": [
        "grover_optimizer = GroverOptimizer(8, num_iterations=15, quantum_instance=backend,)\n",
        "results = grover_optimizer.solve(qp)\n",
        "print(results.prettyprint())\n",
        "print(results.operation_counts)"
      ]
    },
    {
      "cell_type": "code",
      "execution_count": null,
      "id": "5646e073",
      "metadata": {
        "colab": {
          "base_uri": "https://localhost:8080/"
        },
        "id": "5646e073",
        "outputId": "203b9e59-e6c3-417d-a40c-0eac8162ff8b"
      },
      "outputs": [
        {
          "output_type": "execute_result",
          "data": {
            "text/plain": [
              "119"
            ]
          },
          "metadata": {},
          "execution_count": 9
        }
      ],
      "source": [
        "eval_num(results.operation_counts)"
      ]
    },
    {
      "cell_type": "code",
      "execution_count": null,
      "id": "fecbc40d",
      "metadata": {
        "id": "fecbc40d"
      },
      "outputs": [],
      "source": []
    }
  ],
  "metadata": {
    "kernelspec": {
      "display_name": "Python 3 (ipykernel)",
      "language": "python",
      "name": "python3"
    },
    "language_info": {
      "codemirror_mode": {
        "name": "ipython",
        "version": 3
      },
      "file_extension": ".py",
      "mimetype": "text/x-python",
      "name": "python",
      "nbconvert_exporter": "python",
      "pygments_lexer": "ipython3",
      "version": "3.8.10"
    },
    "colab": {
      "provenance": []
    },
    "accelerator": "GPU",
    "gpuClass": "standard"
  },
  "nbformat": 4,
  "nbformat_minor": 5
}