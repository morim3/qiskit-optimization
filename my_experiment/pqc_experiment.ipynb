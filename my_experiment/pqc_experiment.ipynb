{
  "cells": [
    {
      "cell_type": "code",
      "source": [
        "!rm -rf qiskit-optimization/\n",
        "!git clone https://github.com/morim3/qiskit-optimization"
      ],
      "metadata": {
        "id": "bmSrwE7GfqqU",
        "outputId": "726a3199-59f6-4f4b-d446-33a53b0e5ff5",
        "colab": {
          "base_uri": "https://localhost:8080/"
        }
      },
      "id": "bmSrwE7GfqqU",
      "execution_count": 28,
      "outputs": [
        {
          "output_type": "stream",
          "name": "stdout",
          "text": [
            "Cloning into 'qiskit-optimization'...\n",
            "remote: Enumerating objects: 4184, done.\u001b[K\n",
            "remote: Counting objects: 100% (249/249), done.\u001b[K\n",
            "remote: Compressing objects: 100% (161/161), done.\u001b[K\n",
            "remote: Total 4184 (delta 159), reused 161 (delta 85), pack-reused 3935\u001b[K\n",
            "Receiving objects: 100% (4184/4184), 5.26 MiB | 19.02 MiB/s, done.\n",
            "Resolving deltas: 100% (2772/2772), done.\n"
          ]
        }
      ]
    },
    {
      "cell_type": "code",
      "execution_count": 2,
      "id": "a9f44d6c",
      "metadata": {
        "colab": {
          "base_uri": "https://localhost:8080/"
        },
        "id": "a9f44d6c",
        "outputId": "1a255c94-5ee2-4574-93d7-eb2679f08c03"
      },
      "outputs": [
        {
          "output_type": "stream",
          "name": "stdout",
          "text": [
            "Thu Dec  1 19:50:29 2022       \n",
            "+-----------------------------------------------------------------------------+\n",
            "| NVIDIA-SMI 460.32.03    Driver Version: 460.32.03    CUDA Version: 11.2     |\n",
            "|-------------------------------+----------------------+----------------------+\n",
            "| GPU  Name        Persistence-M| Bus-Id        Disp.A | Volatile Uncorr. ECC |\n",
            "| Fan  Temp  Perf  Pwr:Usage/Cap|         Memory-Usage | GPU-Util  Compute M. |\n",
            "|                               |                      |               MIG M. |\n",
            "|===============================+======================+======================|\n",
            "|   0  Tesla T4            Off  | 00000000:00:04.0 Off |                    0 |\n",
            "| N/A   53C    P0    28W /  70W |      0MiB / 15109MiB |      0%      Default |\n",
            "|                               |                      |                  N/A |\n",
            "+-------------------------------+----------------------+----------------------+\n",
            "                                                                               \n",
            "+-----------------------------------------------------------------------------+\n",
            "| Processes:                                                                  |\n",
            "|  GPU   GI   CI        PID   Type   Process name                  GPU Memory |\n",
            "|        ID   ID                                                   Usage      |\n",
            "|=============================================================================|\n",
            "|  No running processes found                                                 |\n",
            "+-----------------------------------------------------------------------------+\n",
            "Looking in indexes: https://pypi.org/simple, https://us-python.pkg.dev/colab-wheels/public/simple/\n",
            "Collecting qiskit-aer-gpu\n",
            "  Downloading qiskit_aer_gpu-0.11.1-cp38-cp38-manylinux_2_12_x86_64.manylinux2010_x86_64.whl (22.8 MB)\n",
            "\u001b[K     |████████████████████████████████| 22.8 MB 1.4 MB/s \n",
            "\u001b[?25hRequirement already satisfied: scipy>=1.0 in /usr/local/lib/python3.8/dist-packages (from qiskit-aer-gpu) (1.7.3)\n",
            "Collecting qiskit-terra>=0.21.0\n",
            "  Downloading qiskit_terra-0.22.3-cp38-cp38-manylinux_2_17_x86_64.manylinux2014_x86_64.whl (4.8 MB)\n",
            "\u001b[K     |████████████████████████████████| 4.8 MB 58.3 MB/s \n",
            "\u001b[?25hRequirement already satisfied: numpy>=1.16.3 in /usr/local/lib/python3.8/dist-packages (from qiskit-aer-gpu) (1.21.6)\n",
            "Collecting ply>=3.10\n",
            "  Downloading ply-3.11-py2.py3-none-any.whl (49 kB)\n",
            "\u001b[K     |████████████████████████████████| 49 kB 7.5 MB/s \n",
            "\u001b[?25hRequirement already satisfied: dill>=0.3 in /usr/local/lib/python3.8/dist-packages (from qiskit-terra>=0.21.0->qiskit-aer-gpu) (0.3.6)\n",
            "Requirement already satisfied: python-dateutil>=2.8.0 in /usr/local/lib/python3.8/dist-packages (from qiskit-terra>=0.21.0->qiskit-aer-gpu) (2.8.2)\n",
            "Collecting tweedledum<2.0,>=1.1\n",
            "  Downloading tweedledum-1.1.1-cp38-cp38-manylinux_2_12_x86_64.manylinux2010_x86_64.whl (929 kB)\n",
            "\u001b[K     |████████████████████████████████| 929 kB 82.7 MB/s \n",
            "\u001b[?25hRequirement already satisfied: sympy>=1.3 in /usr/local/lib/python3.8/dist-packages (from qiskit-terra>=0.21.0->qiskit-aer-gpu) (1.7.1)\n",
            "Collecting stevedore>=3.0.0\n",
            "  Downloading stevedore-4.1.1-py3-none-any.whl (50 kB)\n",
            "\u001b[K     |████████████████████████████████| 50 kB 8.3 MB/s \n",
            "\u001b[?25hCollecting symengine>=0.9\n",
            "  Downloading symengine-0.9.2-cp38-cp38-manylinux2010_x86_64.whl (37.5 MB)\n",
            "\u001b[K     |████████████████████████████████| 37.5 MB 316 kB/s \n",
            "\u001b[?25hRequirement already satisfied: psutil>=5 in /usr/local/lib/python3.8/dist-packages (from qiskit-terra>=0.21.0->qiskit-aer-gpu) (5.4.8)\n",
            "Collecting retworkx>=0.11.0\n",
            "  Downloading retworkx-0.12.1-py3-none-any.whl (10 kB)\n",
            "Requirement already satisfied: six>=1.5 in /usr/local/lib/python3.8/dist-packages (from python-dateutil>=2.8.0->qiskit-terra>=0.21.0->qiskit-aer-gpu) (1.15.0)\n",
            "Collecting rustworkx==0.12.1\n",
            "  Downloading rustworkx-0.12.1-cp38-cp38-manylinux_2_17_x86_64.manylinux2014_x86_64.whl (1.9 MB)\n",
            "\u001b[K     |████████████████████████████████| 1.9 MB 54.0 MB/s \n",
            "\u001b[?25hCollecting pbr!=2.1.0,>=2.0.0\n",
            "  Downloading pbr-5.11.0-py2.py3-none-any.whl (112 kB)\n",
            "\u001b[K     |████████████████████████████████| 112 kB 88.7 MB/s \n",
            "\u001b[?25hRequirement already satisfied: mpmath>=0.19 in /usr/local/lib/python3.8/dist-packages (from sympy>=1.3->qiskit-terra>=0.21.0->qiskit-aer-gpu) (1.2.1)\n",
            "Installing collected packages: rustworkx, pbr, tweedledum, symengine, stevedore, retworkx, ply, qiskit-terra, qiskit-aer-gpu\n",
            "Successfully installed pbr-5.11.0 ply-3.11 qiskit-aer-gpu-0.11.1 qiskit-terra-0.22.3 retworkx-0.12.1 rustworkx-0.12.1 stevedore-4.1.1 symengine-0.9.2 tweedledum-1.1.1\n",
            "Looking in indexes: https://pypi.org/simple, https://us-python.pkg.dev/colab-wheels/public/simple/\n",
            "Collecting docplex\n",
            "  Downloading docplex-2.24.232.tar.gz (640 kB)\n",
            "\u001b[K     |████████████████████████████████| 640 kB 32.5 MB/s \n",
            "\u001b[?25hRequirement already satisfied: six in /usr/local/lib/python3.8/dist-packages (from docplex) (1.15.0)\n",
            "Building wheels for collected packages: docplex\n",
            "  Building wheel for docplex (setup.py) ... \u001b[?25l\u001b[?25hdone\n",
            "  Created wheel for docplex: filename=docplex-2.24.232-py3-none-any.whl size=682306 sha256=5986efe2d0ef8ddb0974fdca9c43dffee938c394769ea65fb6e8a9acc3cadf57\n",
            "  Stored in directory: /root/.cache/pip/wheels/cd/84/5d/b9c307d9cf361c49d41ddea36761e226bba3afdfd038673dcd\n",
            "Successfully built docplex\n",
            "Installing collected packages: docplex\n",
            "Successfully installed docplex-2.24.232\n",
            "Looking in indexes: https://pypi.org/simple, https://us-python.pkg.dev/colab-wheels/public/simple/\n",
            "Collecting pylatexenc\n",
            "  Downloading pylatexenc-2.10.tar.gz (162 kB)\n",
            "\u001b[K     |████████████████████████████████| 162 kB 32.0 MB/s \n",
            "\u001b[?25hBuilding wheels for collected packages: pylatexenc\n",
            "  Building wheel for pylatexenc (setup.py) ... \u001b[?25l\u001b[?25hdone\n",
            "  Created wheel for pylatexenc: filename=pylatexenc-2.10-py3-none-any.whl size=136833 sha256=4b293c5a95ac88a783955c8b3a05c8607640f9b77f78b51485c2b195390846bd\n",
            "  Stored in directory: /root/.cache/pip/wheels/72/99/be/81d9bcdf5dd5ee5acd8119a9dd5bc07204c9ce205fd341b021\n",
            "Successfully built pylatexenc\n",
            "Installing collected packages: pylatexenc\n",
            "Successfully installed pylatexenc-2.10\n"
          ]
        }
      ],
      "source": [
        "!nvidia-smi\n",
        "# !pip install -r qiskit-optimization/requirements-dev.txt\n",
        "!pip install qiskit-aer-gpu\n",
        "!pip install docplex\n",
        "!pip install pylatexenc\n",
        "\n",
        "import sys\n",
        "sys.path.append(\"./qiskit-optimization/\")"
      ]
    },
    {
      "cell_type": "code",
      "execution_count": 29,
      "id": "68681a10",
      "metadata": {
        "colab": {
          "base_uri": "https://localhost:8080/"
        },
        "id": "68681a10",
        "outputId": "9c02c8a4-d17a-4de0-e9a6-e9662addc30f"
      },
      "outputs": [
        {
          "output_type": "stream",
          "name": "stdout",
          "text": [
            "The autoreload extension is already loaded. To reload it, use:\n",
            "  %reload_ext autoreload\n",
            "[AerSimulator('aer_simulator'), AerSimulator('aer_simulator_statevector'), AerSimulator('aer_simulator_statevector_gpu'), AerSimulator('aer_simulator_density_matrix'), AerSimulator('aer_simulator_density_matrix_gpu'), AerSimulator('aer_simulator_stabilizer'), AerSimulator('aer_simulator_matrix_product_state'), AerSimulator('aer_simulator_extended_stabilizer'), AerSimulator('aer_simulator_unitary'), AerSimulator('aer_simulator_unitary_gpu'), AerSimulator('aer_simulator_superop'), QasmSimulator('qasm_simulator'), StatevectorSimulator('statevector_simulator'), UnitarySimulator('unitary_simulator'), PulseSimulator('pulse_simulator')]\n",
            "aer_simulator_gpu\n"
          ]
        }
      ],
      "source": [
        "%load_ext autoreload\n",
        "%autoreload\n",
        "\n",
        "from qiskit.algorithms import NumPyMinimumEigensolver\n",
        "from qiskit_optimization.algorithms import PQCGroverOptimizer, GroverOptimizer, MinimumEigenOptimizer\n",
        "from qiskit_optimization.algorithms.pqc_grover_optimizer import ProposeDistribution\n",
        "from qiskit_optimization.problems import QuadraticProgram\n",
        "from qiskit_optimization.translators import from_docplex_mp\n",
        "from qiskit import Aer, QuantumCircuit\n",
        "from qiskit.utils import QuantumInstance\n",
        "from qiskit.circuit.library import TwoLocal\n",
        "from docplex.mp.model import Model\n",
        "import numpy as np\n",
        "print(Aer.backends())\n",
        "backend = Aer.get_backend('aer_simulator')\n",
        "backend.set_options(device='GPU')\n",
        "backend_statevector = Aer.get_backend('statevector_simulator')\n",
        "print(backend)"
      ]
    },
    {
      "cell_type": "code",
      "execution_count": 40,
      "id": "cd72d5ca",
      "metadata": {
        "colab": {
          "base_uri": "https://localhost:8080/"
        },
        "id": "cd72d5ca",
        "outputId": "320db713-26a9-42d4-830c-2ca4ebe0c0f4"
      },
      "outputs": [
        {
          "output_type": "stream",
          "name": "stdout",
          "text": [
            "Problem name: docplex_model4\n",
            "\n",
            "Minimize\n",
            "  -3*x0*x1 - 2*x0*x2 - 3*x0*x3 - 2*x1*x2 - 2*x1*x3 - 3*x1*x5 - 4*x1*x8 - 4*x1*x9\n",
            "  - 2*x2*x3 - 3*x2*x4 - 2*x2*x8 - 4*x3*x9 - 4*x4*x5 - 4*x4*x6 - 3*x4*x7\n",
            "  - 2*x4*x8 - 4*x5*x6 - 4*x5*x9 - 3*x6*x7 - 3*x6*x8 - 4*x6*x9 - 4*x7*x9 + 2*x0\n",
            "  + x1 + 3*x2 + x3 + x4 + 2*x5 + 3*x6 + x7 + 2*x8 + x9\n",
            "\n",
            "Subject to\n",
            "  No constraints\n",
            "\n",
            "  Binary variables (10)\n",
            "    x0 x1 x2 x3 x4 x5 x6 x7 x8 x9\n",
            "\n"
          ]
        }
      ],
      "source": [
        "import itertools\n",
        "model = Model()\n",
        "xs = [model.binary_var(name=f\"x{i}\") for i in range(10)]\n",
        "objective = sum([np.random.randint(1, 4) * x for x in xs]) + \\\n",
        "     sum([np.random.randint(-4, -1) * x * y \n",
        "     for x, y in itertools.combinations(xs, 2) \n",
        "     if np.random.choice([0, 1], p=[2/3, 1/3])==1])\n",
        "# objective = (-xs[0]+2*xs[1]-3*xs[2]-2*xs[0]*xs[2]-1*xs[1]*xs[2])\n",
        "model.minimize(objective)\n",
        "qp = from_docplex_mp(model)\n",
        "print(qp.prettyprint())"
      ]
    },
    {
      "cell_type": "code",
      "execution_count": 49,
      "id": "560910e6",
      "metadata": {
        "colab": {
          "base_uri": "https://localhost:8080/"
        },
        "id": "560910e6",
        "outputId": "27a2635e-a45a-4057-fdcf-09df91431792"
      },
      "outputs": [
        {
          "output_type": "stream",
          "name": "stdout",
          "text": [
            "objective function value: -52.0\n",
            "variable values: x0=1.0, x1=1.0, x2=1.0, x3=1.0, x4=1.0, x5=1.0, x6=1.0, x7=1.0, x8=1.0, x9=1.0\n",
            "status: SUCCESS\n",
            "-52.0\n"
          ]
        }
      ],
      "source": [
        "exact_solver = MinimumEigenOptimizer(NumPyMinimumEigensolver())\n",
        "exact_result = exact_solver.solve(qp)\n",
        "print(exact_result.prettyprint())\n",
        "print(exact_result.fval)"
      ]
    },
    {
      "cell_type": "code",
      "execution_count": 42,
      "id": "85d3c53c",
      "metadata": {
        "scrolled": true,
        "colab": {
          "base_uri": "https://localhost:8080/",
          "height": 488
        },
        "id": "85d3c53c",
        "outputId": "c9439f9f-dd70-4642-e198-535c1713a334"
      },
      "outputs": [
        {
          "output_type": "execute_result",
          "data": {
            "text/plain": [
              "<Figure size 869.197x626.08 with 1 Axes>"
            ],
            "image/png": "[encoded data removed]"
          },
          "metadata": {},
          "execution_count": 42
        }
      ],
      "source": [
        "num_key_qbits = len(qp.objective.linear.to_array())\n",
        "init_state = QuantumCircuit(num_key_qbits)\n",
        "init_state.h(range(num_key_qbits))\n",
        "ansatz = TwoLocal(num_key_qbits, 'ry', 'crx', 'circular', reps=1,\n",
        "                  insert_barriers=True,\n",
        "                  initial_state=init_state,\n",
        "                  skip_final_rotation_layer=True,\n",
        "                  )\n",
        "ansatz.decompose().draw(\"mpl\")\n"
      ]
    },
    {
      "cell_type": "code",
      "source": [
        "# from qiskit import execute, QuantumCircuit, transpile\n",
        "\n",
        "# ansatz_bound = ansatz.assign_parameters(np.array([0.] * num_key_qbits+[np.arcsin(np.sqrt(0.5))*2]*num_key_qbits))\n",
        "\n",
        "# qc = QuantumCircuit(num_key_qbits)\n",
        "# # qc.h(range(num_key_qbits))\n",
        "# qc.compose(ansatz_bound, inplace=True)\n",
        "\n",
        "# qc = transpile(qc, backend=backend_statevector)\n",
        "# result = backend_statevector.run(qc).result()\n",
        "# result.get_statevector(qc)"
      ],
      "metadata": {
        "id": "PRymbtecYGst"
      },
      "id": "PRymbtecYGst",
      "execution_count": 43,
      "outputs": []
    },
    {
      "cell_type": "code",
      "source": [
        "def eval_num(operation_dict, optimal_iteration):\n",
        "    eval_num = 0\n",
        "    for i, x in enumerate(operation_dict.values()):\n",
        "      if i <= optimal_iteration:\n",
        "        eval_num += x['Q(x)']\n",
        "        if 'Q' in x:\n",
        "            eval_num += x['Q']\n",
        "    return eval_num"
      ],
      "metadata": {
        "id": "VM9xgL8cNvvO"
      },
      "id": "VM9xgL8cNvvO",
      "execution_count": 44,
      "outputs": []
    },
    {
      "cell_type": "code",
      "source": [
        "print(ansatz.num_parameters)\n",
        "init_param = np.zeros(ansatz.num_parameters)\n",
        "propose_distribution = ProposeDistribution(\n",
        "    ansatz,                 \n",
        "    num_key_qbits, \n",
        "    QuantumInstance(backend=backend, shots=1024, seed_simulator=99),\n",
        "    init_param=init_param\n",
        "    )\n",
        "grover_optimizer = PQCGroverOptimizer(\n",
        "    num_value_qubits=8, \n",
        "    propose_dist=propose_distribution,\n",
        "    num_iterations=15, \n",
        "    quantum_instance=backend,      \n",
        "    sample_num=1, quantile=0.,\n",
        "    threshold_lr=1. ,\n",
        "    positive_train_conf={\"iter\": 5, \"learning_rate\": 0.001},\n",
        "    negative_train_conf={\"iter\": 5, \"learning_rate\": 0.0001})\n",
        "results = grover_optimizer.solve(qp)\n",
        "print(results.prettyprint())\n",
        "print(results.operation_counts)"
      ],
      "metadata": {
        "id": "2q3csNEQVLko",
        "outputId": "378a2fb9-fc90-49c4-9d66-4575f3704843",
        "colab": {
          "base_uri": "https://localhost:8080/"
        }
      },
      "id": "2q3csNEQVLko",
      "execution_count": 45,
      "outputs": [
        {
          "output_type": "stream",
          "name": "stdout",
          "text": [
            "20\n",
            "sampled [0 0 0 0 1 0 0 1 0 0]\n",
            "value -1\n",
            "real_val -1.0\n",
            "param:  [-0.21263637 -0.21263637 -0.01503992 -0.21263637  0.00693096  0.01503992\n",
            "  0.21263637  0.19066548 -0.19066548 -0.21263637  0.21263637  0.00693096\n",
            "  0.01503992  0.19066548  0.01503992  0.00693096 -0.00693096 -0.01503992\n",
            " -0.19066548  0.21263637]\n",
            "threshold -1\n",
            "sampled [0 1 0 0 1 1 1 0 1 1]\n",
            "value -26\n",
            "real_val -26.0\n",
            "param:  [-0.02890184 -0.39637089 -0.19877445 -0.02890184 -0.17680356  0.19877445\n",
            "  0.21263637  0.19066548 -0.37440001 -0.02890184  0.21263637  0.00693096\n",
            "  0.19877445  0.19066548 -0.1686946   0.00693096 -0.19066548 -0.01503992\n",
            " -0.19066548  0.21263637]\n",
            "threshold -26\n",
            "sampled [1 1 0 1 1 1 0 1 1 1]\n",
            "value -29\n",
            "real_val -29.0\n",
            "param:  [-0.02890184 -0.39637089 -0.19877445 -0.02890184 -0.17680356  0.19877445\n",
            "  0.21263637  0.19066548 -0.37440001 -0.02890184  0.21263637  0.00693096\n",
            "  0.19877445  0.19066548 -0.1686946   0.00693096 -0.19066548 -0.01503992\n",
            " -0.19066548  0.21263637]\n",
            "threshold -29\n",
            "sampled [0 1 1 1 1 1 1 1 0 1]\n",
            "value -37\n",
            "real_val -37.0\n",
            "param:  [-0.02890184 -0.39637089 -0.38250897 -0.02890184 -0.17680356  0.19877445\n",
            "  0.21263637  0.19066548 -0.55813453 -0.21263637  0.02890184 -0.17680356\n",
            "  0.19877445  0.37440001  0.01503992  0.00693096 -0.19066548 -0.19877445\n",
            " -0.19066548  0.39637089]\n",
            "threshold -37\n",
            "sampled [0 1 0 0 1 1 1 1 0 1]\n",
            "value -28\n",
            "real_val -28.0\n",
            "param:  [-0.03808857 -0.40555762 -0.3916957  -0.03808857 -0.16761684  0.20796117\n",
            "  0.22182309  0.18147876 -0.56732126 -0.20344964  0.01971511 -0.18599029\n",
            "  0.18958772  0.38358674  0.02422665  0.01611769 -0.19985221 -0.20796117\n",
            " -0.19985221  0.38718416]\n",
            "sampled [0 1 1 1 0 1 1 0 1 0]\n",
            "value -10\n",
            "real_val -10.0\n",
            "param:  [-0.03808857 -0.40555762 -0.41006915 -0.01971511 -0.18599029  0.18958772\n",
            "  0.24019654  0.18147876 -0.56732126 -0.22182309  0.01971511 -0.18599029\n",
            "  0.18958772  0.36521328  0.02422665  0.01611769 -0.21822566 -0.18958772\n",
            " -0.18147876  0.38718416]\n",
            "sampled [1 0 1 0 0 1 1 0 0 0]\n",
            "value 4\n",
            "real_val 4.0\n",
            "param:  [-0.01971511 -0.38718416 -0.40868296 -0.03808857 -0.16623065  0.20796117\n",
            "  0.2204369   0.16310531 -0.56870745 -0.24019654  0.01832892 -0.18737648\n",
            "  0.20796117  0.36521328  0.04398629 -0.00225577 -0.21961186 -0.19097391\n",
            " -0.18009257  0.38718416]\n",
            "sampled [1 1 1 0 1 1 0 1 1 0]\n",
            "value -16\n",
            "real_val -16.0\n",
            "param:  [-0.02890184 -0.39637089 -0.43624314 -0.04727529 -0.13867047  0.19877445\n",
            "  0.21125017  0.17229203 -0.54114727 -0.23100982  0.02751565 -0.19656321\n",
            "  0.2171479   0.3376531   0.03479957  0.00693096 -0.22879858 -0.18178718\n",
            " -0.15253239  0.39637089]\n",
            "sampled [1 1 1 0 0 0 0 0 1 1]\n",
            "value -8\n",
            "real_val -8.0\n",
            "param:  [-0.03808857 -0.40555762 -0.42705641 -0.03808857 -0.12948374  0.20796117\n",
            "  0.2204369   0.16310531 -0.550334   -0.24019654  0.03670237 -0.18737648\n",
            "  0.22633462  0.32846638  0.02561284 -0.00225577 -0.23798531 -0.17260046\n",
            " -0.14334566  0.38718416]\n",
            "sampled [0 1 0 1 1 1 1 1 1 0]\n",
            "value -21\n",
            "real_val -21.0\n",
            "param:  [-0.01052839 -0.39637089 -0.43624314 -0.04727529 -0.13867047  0.19877445\n",
            "  0.21125017  0.17229203 -0.57789418 -0.21263637  0.02751565 -0.1598163\n",
            "  0.23552135  0.35602656  0.03479957 -0.01144249 -0.24717203 -0.20016064\n",
            " -0.15253239  0.37799744]\n",
            "sampled [1 0 0 0 0 1 1 1 0 1]\n",
            "value -10\n",
            "real_val -10.0\n",
            "param:  [-3.80885666e-02 -3.87184164e-01 -4.27056410e-01 -5.64620191e-02\n",
            " -1.29483742e-01  1.71214267e-01  2.02063447e-01  1.44731853e-01\n",
            " -5.50334000e-01 -1.85076186e-01 -4.45303112e-05 -1.69003031e-01\n",
            "  2.44708077e-01  3.65213283e-01  2.56128389e-02 -2.25576640e-03\n",
            " -2.56358760e-01 -1.90973911e-01 -1.43345661e-01  3.68810711e-01]\n",
            "sampled [1 0 0 0 1 1 0 1 1 1]\n",
            "value -8\n",
            "real_val -8.0\n",
            "param:  [-3.80885666e-02 -3.87184164e-01 -4.27056410e-01 -5.64620191e-02\n",
            " -1.29483742e-01  1.71214267e-01  2.02063447e-01  1.44731853e-01\n",
            " -5.50334000e-01 -1.85076186e-01 -4.45303112e-05 -1.69003031e-01\n",
            "  2.44708077e-01  3.65213283e-01  2.56128389e-02 -2.25576640e-03\n",
            " -2.56358760e-01 -1.90973911e-01 -1.43345661e-01  3.68810711e-01]\n",
            "sampled [0 1 0 1 1 1 1 1 1 1]\n",
            "value -40\n",
            "real_val -40.0\n",
            "param:  [-0.12995583 -0.2953169  -0.51892367  0.03540524 -0.03761648  0.079347\n",
            "  0.11019618  0.23659912 -0.64220126 -0.27694345  0.09182273 -0.07713577\n",
            "  0.33657534  0.27334602  0.1174801   0.0896115  -0.1644915  -0.09910665\n",
            " -0.23521292  0.46067797]\n",
            "threshold -40\n",
            "sampled [0 1 1 0 1 1 0 1 0 1]\n",
            "value -18\n",
            "real_val -18.0\n",
            "param:  [-0.13914256 -0.28613018 -0.5281104   0.02621852 -0.04680321  0.07016028\n",
            "  0.11938291  0.22741239 -0.65138799 -0.28613018  0.08263601 -0.06794904\n",
            "  0.32738861  0.26415929  0.10829338  0.08042477 -0.17367822 -0.10829338\n",
            " -0.24439965  0.4698647 ]\n",
            "sampled [0 1 0 1 0 1 0 1 1 0]\n",
            "value -2\n",
            "real_val -2.0\n",
            "param:  [-0.16670273 -0.27694345 -0.53729712  0.03540524 -0.01924303  0.06097355\n",
            "  0.12856964  0.23659912 -0.66057471 -0.2953169   0.05507583 -0.04038886\n",
            "  0.29982843  0.23659912  0.0807332   0.0896115  -0.18286495 -0.09910665\n",
            " -0.23521292  0.44230452]\n",
            "sampled [1 1 1 0 0 0 0 1 0 1]\n",
            "value -7\n",
            "real_val -7.0\n",
            "param:  [-0.15751601 -0.26775672 -0.54648385  0.02621852 -0.0100563   0.05178683\n",
            "  0.11938291  0.22741239 -0.66976144 -0.30450363  0.0458891  -0.03120214\n",
            "  0.29064171  0.22741239  0.08991992  0.08042477 -0.17367822 -0.08991992\n",
            " -0.24439965  0.45149125]\n",
            "sampled [0 0 0 0 1 0 1 1 0 0]\n",
            "value -5\n",
            "real_val -5.0\n",
            "param:  [-0.15751601 -0.24938327 -0.54648385  0.04597816 -0.01144249  0.07016028\n",
            "  0.09962327  0.20903894 -0.66976144 -0.26637053  0.04450291 -0.04957559\n",
            "  0.29064171  0.22741239  0.08991992  0.09879822 -0.19343787 -0.08853373\n",
            " -0.24301346  0.43311779]\n",
            "sampled [0 1 0 1 1 1 1 0 0 0]\n",
            "value -9\n",
            "real_val -9.0\n",
            "param:  [-0.14792383 -0.25816455 -0.55607602  0.05475944 -0.02103467  0.07975245\n",
            "  0.09003109  0.21863111 -0.66098016 -0.25677836  0.03572163 -0.05916776\n",
            "  0.28186043  0.23619367  0.0987012   0.1075795  -0.20303004 -0.07894156\n",
            " -0.23342128  0.42352562]\n",
            "sampled [0 0 0 0 1 0 0 1 0 0]\n",
            "value -1\n",
            "real_val -1.0\n",
            "param:  [-0.16450565 -0.27694345 -0.57404403  0.05516489 -0.02144011  0.06317064\n",
            "  0.07344928  0.19846602 -0.67975906 -0.27694345  0.01694273 -0.0609594\n",
            "  0.29982843  0.21602858  0.0807332   0.10578786 -0.18286495 -0.06016266\n",
            " -0.23382673  0.40474672]\n",
            "sampled [0 1 0 0 0 1 1 1 0 0]\n",
            "value -3\n",
            "real_val -3.0\n",
            "param:  [-0.15531892 -0.26775672 -0.5648573   0.04597816 -0.03062684  0.07235737\n",
            "  0.08263601  0.20765275 -0.68894579 -0.26775672  0.02612946 -0.05177268\n",
            "  0.29064171  0.2252153   0.08991992  0.11497459 -0.19205168 -0.05097593\n",
            " -0.22464001  0.39555999]\n",
            "sampled [0 0 0 0 0 1 0 1 0 0]\n",
            "value 3\n",
            "real_val 3.0\n",
            "param:  [-0.18426529 -0.29670309 -0.57543022  0.03540524 -0.03981357  0.06178445\n",
            "  0.11019618  0.23521292 -0.66138561 -0.23881035  0.01555654 -0.04258595\n",
            "  0.30121463  0.23301584  0.09910665  0.08602822 -0.19985221 -0.06154885\n",
            " -0.23244054  0.38498708]\n",
            "sampled [0 1 1 0 1 0 0 1 0 0]\n",
            "value -2\n",
            "real_val -2.0\n",
            "param:  [-0.19345202 -0.28751637 -0.58461695  0.04459197 -0.04900029  0.05259772\n",
            "  0.10100946  0.24439965 -0.67057234 -0.22962363  0.02474326 -0.03339923\n",
            "  0.2920279   0.24220256  0.08991992  0.05846804 -0.19066548 -0.05236212\n",
            " -0.20488036  0.3574269 ]\n",
            "sampled [1 1 0 0 1 1 0 0 1 0]\n",
            "value -8\n",
            "real_val -8.0\n",
            "param:  [-0.1828791  -0.2953169  -0.59380367  0.0523925  -0.05680083  0.06039826\n",
            "  0.09182273  0.25497257 -0.67975906 -0.22182309  0.0325438  -0.04397214\n",
            "  0.30260082  0.23301584  0.079347    0.04928131 -0.2012384  -0.04456159\n",
            " -0.21406709  0.34685398]\n",
            "sampled [1 0 1 1 1 1 0 0 0 1]\n",
            "value -12\n",
            "real_val -12.0\n",
            "param:  [-0.18205248 -0.29439269 -0.59467161  0.05433833 -0.05736047  0.05916568\n",
            "  0.09032318  0.25477757 -0.67919949 -0.22407722  0.03310344 -0.04247259\n",
            "  0.30454665  0.2321479   0.08048192  0.04903004 -0.20067876 -0.04614278\n",
            " -0.21529966  0.34629441]\n",
            "sampled [1 0 0 1 0 0 0 1 0 0]\n",
            "value 1\n",
            "real_val 1.0\n",
            "param:  [-0.1912392  -0.30357942 -0.60385834  0.06352506 -0.06654719  0.06835241\n",
            "  0.08113645  0.26396429 -0.65163931 -0.23326395  0.04229016 -0.03328586\n",
            "  0.31373338  0.25970808  0.08966865  0.07659022 -0.19149204 -0.05532951\n",
            " -0.20611293  0.37385459]\n",
            "sampled [0 1 1 1 0 0 0 1 0 1]\n",
            "value -11\n",
            "real_val -11.0\n",
            "param:  [-0.20042593 -0.29439269 -0.59467161  0.07271179 -0.05736047  0.05916568\n",
            "  0.09032318  0.27315102 -0.64245259 -0.22407722  0.05147689 -0.04247259\n",
            "  0.30454665  0.25052135  0.08048192  0.08577694 -0.20067876 -0.06451623\n",
            " -0.21529966  0.36466786]\n",
            "sampled [1 1 1 1 1 1 1 1 0 1]\n",
            "value -43\n",
            "real_val -43.0\n",
            "param:  [-0.20042593 -0.29439269 -0.41093708  0.07271179 -0.05736047  0.05916568\n",
            "  0.2740577   0.08941649 -0.45871806 -0.22407722  0.05147689 -0.04247259\n",
            "  0.48828117  0.25052135 -0.1032526   0.26951147 -0.20067876 -0.24825076\n",
            " -0.21529966  0.36466786]\n",
            "threshold -43\n",
            "sampled [0 0 0 0 1 1 1 0 1 1]\n",
            "value -16\n",
            "real_val -16.0\n",
            "param:  [-0.20111903 -0.2936996  -0.43000363  0.05364524 -0.05666737  0.07823223\n",
            "  0.27336461  0.0887234  -0.45941116 -0.20639686  0.05078379 -0.06153914\n",
            "  0.50596153  0.26820171 -0.10255951  0.25183111 -0.19998567 -0.26731731\n",
            " -0.23436621  0.36536096]\n",
            "sampled [1 1 0 1 0 1 0 0 1 0]\n",
            "value -7\n",
            "real_val -7.0\n",
            "param:  [-0.20961266 -0.32195287 -0.42012381  0.06213887 -0.04678755  0.06835241\n",
            "  0.30161788  0.11697667 -0.46929098 -0.23465014  0.02253052 -0.05304551\n",
            "  0.51584135  0.25832189 -0.13081278  0.24195129 -0.19010585 -0.27719713\n",
            " -0.22448639  0.35548113]\n",
            "sampled [0 1 0 1 1 1 1 1 0 0]\n",
            "value -14\n",
            "real_val -14.0\n",
            "param:  [-0.20111903 -0.31345924 -0.44837709  0.07201869  0.00122537  0.07684604\n",
            "  0.29312425  0.10709685 -0.45941116 -0.22615651  0.03379653 -0.04316569\n",
            "  0.50596153  0.28796135 -0.12093296  0.23207147 -0.18022602 -0.28846314\n",
            " -0.23436621  0.36674715]\n",
            "sampled [0 0 0 1 1 0 1 1 0 0]\n",
            "value -4\n",
            "real_val -4.0\n",
            "param:  [-0.20220516 -0.31156221 -0.45166031  0.0728941   0.00071458  0.07515979\n",
            "  0.29421038  0.10980472 -0.45971122 -0.22344863  0.03349648 -0.04542728\n",
            "  0.50924475  0.28928304 -0.12282999  0.23017444 -0.18029053 -0.28954928\n",
            " -0.23626324  0.36762255]\n",
            "sampled [1 0 1 0 1 1 0 0 1 0]\n",
            "value -3\n",
            "real_val -3.0\n",
            "param:  [-0.20220516 -0.31156221 -0.43328685  0.09126755  0.03746149  0.09353324\n",
            "  0.31258384  0.12817818 -0.45971122 -0.22344863  0.03349648 -0.08217419\n",
            "  0.5276182   0.27090958 -0.12282999  0.23017444 -0.18029053 -0.25280237\n",
            " -0.25463669  0.36762255]\n",
            "sampled [0 0 0 0 1 0 1 1 0 0]\n",
            "value -5\n",
            "real_val -5.0\n",
            "objective function value: -43.0\n",
            "variable values: x0=1.0, x1=1.0, x2=1.0, x3=1.0, x4=1.0, x5=1.0, x6=1.0, x7=1.0, x8=0.0, x9=1.0\n",
            "status: SUCCESS\n",
            "{0: OrderedDict([('measure', 19), ('TwoLocal', 1), ('Q(x)', 1)]), 1: OrderedDict([('measure', 19), ('TwoLocal', 1), ('Q(x)', 1)]), 2: OrderedDict([('measure', 19), ('TwoLocal', 1), ('Q(x)', 1)]), 3: OrderedDict([('measure', 19), ('TwoLocal', 1), ('Q(x)', 1)]), 4: OrderedDict([('measure', 19), ('TwoLocal', 1), ('Q(x)', 1)]), 5: OrderedDict([('measure', 19), ('TwoLocal', 1), ('Q(x)', 1)]), 6: OrderedDict([('measure', 19), ('Q', 2), ('TwoLocal', 1), ('Q(x)', 1)]), 7: OrderedDict([('measure', 19), ('TwoLocal', 1), ('Q(x)', 1)]), 8: OrderedDict([('measure', 19), ('Q', 4), ('TwoLocal', 1), ('Q(x)', 1)]), 9: OrderedDict([('measure', 19), ('TwoLocal', 1), ('Q(x)', 1), ('Q', 1)]), 10: OrderedDict([('measure', 19), ('TwoLocal', 1), ('Q(x)', 1)]), 11: OrderedDict([('measure', 19), ('Q', 2), ('TwoLocal', 1), ('Q(x)', 1)]), 12: OrderedDict([('measure', 19), ('Q', 9), ('TwoLocal', 1), ('Q(x)', 1)]), 13: OrderedDict([('measure', 19), ('TwoLocal', 1), ('Q(x)', 1)]), 14: OrderedDict([('measure', 19), ('TwoLocal', 1), ('Q(x)', 1)]), 15: OrderedDict([('measure', 19), ('TwoLocal', 1), ('Q(x)', 1)]), 16: OrderedDict([('measure', 19), ('Q', 2), ('TwoLocal', 1), ('Q(x)', 1)]), 17: OrderedDict([('measure', 19), ('TwoLocal', 1), ('Q(x)', 1), ('Q', 1)]), 18: OrderedDict([('measure', 19), ('Q', 3), ('TwoLocal', 1), ('Q(x)', 1)]), 19: OrderedDict([('measure', 19), ('TwoLocal', 1), ('Q(x)', 1)]), 20: OrderedDict([('measure', 19), ('Q', 6), ('TwoLocal', 1), ('Q(x)', 1)]), 21: OrderedDict([('measure', 19), ('TwoLocal', 1), ('Q(x)', 1), ('Q', 1)]), 22: OrderedDict([('measure', 19), ('Q', 9), ('TwoLocal', 1), ('Q(x)', 1)]), 23: OrderedDict([('measure', 19), ('Q', 4), ('TwoLocal', 1), ('Q(x)', 1)]), 24: OrderedDict([('measure', 19), ('Q', 2), ('TwoLocal', 1), ('Q(x)', 1)]), 25: OrderedDict([('measure', 19), ('Q', 8), ('TwoLocal', 1), ('Q(x)', 1)]), 26: OrderedDict([('measure', 19), ('Q', 17), ('TwoLocal', 1), ('Q(x)', 1)]), 27: OrderedDict([('measure', 19), ('TwoLocal', 1), ('Q(x)', 1)]), 28: OrderedDict([('measure', 19), ('TwoLocal', 1), ('Q(x)', 1)]), 29: OrderedDict([('measure', 19), ('TwoLocal', 1), ('Q(x)', 1)]), 30: OrderedDict([('measure', 19), ('TwoLocal', 1), ('Q(x)', 1)]), 31: OrderedDict([('measure', 19), ('Q', 3), ('TwoLocal', 1), ('Q(x)', 1)]), 32: OrderedDict([('measure', 19), ('Q', 5), ('TwoLocal', 1), ('Q(x)', 1)])}\n"
          ]
        }
      ]
    },
    {
      "cell_type": "code",
      "execution_count": 46,
      "id": "71ee9350",
      "metadata": {
        "colab": {
          "base_uri": "https://localhost:8080/"
        },
        "id": "71ee9350",
        "outputId": "6e0c59de-d42a-4e8a-873e-cd7d72d344ce"
      },
      "outputs": [
        {
          "output_type": "execute_result",
          "data": {
            "text/plain": [
              "98"
            ]
          },
          "metadata": {},
          "execution_count": 46
        }
      ],
      "source": [
        "eval_num(results.operation_counts, results._optimal_iteration)"
      ]
    },
    {
      "cell_type": "code",
      "execution_count": 47,
      "id": "f5fe0935",
      "metadata": {
        "colab": {
          "base_uri": "https://localhost:8080/"
        },
        "id": "f5fe0935",
        "outputId": "6a27d1c0-8096-4c24-ea2f-fb3f0eac7ade"
      },
      "outputs": [
        {
          "output_type": "stream",
          "name": "stdout",
          "text": [
            "objective function value: -52.0\n",
            "variable values: x0=1.0, x1=1.0, x2=1.0, x3=1.0, x4=1.0, x5=1.0, x6=1.0, x7=1.0, x8=1.0, x9=1.0\n",
            "status: SUCCESS\n",
            "{0: OrderedDict([('measure', 19), ('h', 10), ('Q(x)', 1)]), 1: OrderedDict([('measure', 19), ('h', 10), ('Q(x)', 1)]), 2: OrderedDict([('measure', 19), ('h', 10), ('Q(x)', 1), ('Q', 1)]), 3: OrderedDict([('measure', 19), ('h', 10), ('Q(x)', 1)]), 4: OrderedDict([('measure', 19), ('h', 10), ('Q(x)', 1)]), 5: OrderedDict([('measure', 19), ('h', 10), ('Q(x)', 1)]), 6: OrderedDict([('measure', 19), ('h', 10), ('Q(x)', 1)]), 7: OrderedDict([('measure', 19), ('h', 10), ('Q', 2), ('Q(x)', 1)]), 8: OrderedDict([('measure', 19), ('h', 10), ('Q(x)', 1)]), 9: OrderedDict([('measure', 19), ('h', 10), ('Q(x)', 1), ('Q', 1)]), 10: OrderedDict([('measure', 19), ('h', 10), ('Q(x)', 1), ('Q', 1)]), 11: OrderedDict([('measure', 19), ('h', 10), ('Q(x)', 1)]), 12: OrderedDict([('measure', 19), ('h', 10), ('Q(x)', 1)]), 13: OrderedDict([('measure', 19), ('h', 10), ('Q(x)', 1)]), 14: OrderedDict([('measure', 19), ('h', 10), ('Q(x)', 1)]), 15: OrderedDict([('measure', 19), ('h', 10), ('Q', 2), ('Q(x)', 1)]), 16: OrderedDict([('measure', 19), ('h', 10), ('Q(x)', 1)]), 17: OrderedDict([('measure', 19), ('h', 10), ('Q(x)', 1)]), 18: OrderedDict([('measure', 19), ('h', 10), ('Q', 2), ('Q(x)', 1)]), 19: OrderedDict([('measure', 19), ('h', 10), ('Q(x)', 1)]), 20: OrderedDict([('measure', 19), ('h', 10), ('Q(x)', 1)]), 21: OrderedDict([('measure', 19), ('h', 10), ('Q(x)', 1)]), 22: OrderedDict([('measure', 19), ('h', 10), ('Q(x)', 1)]), 23: OrderedDict([('measure', 19), ('h', 10), ('Q(x)', 1), ('Q', 1)]), 24: OrderedDict([('measure', 19), ('h', 10), ('Q(x)', 1)]), 25: OrderedDict([('measure', 19), ('h', 10), ('Q(x)', 1), ('Q', 1)]), 26: OrderedDict([('measure', 19), ('h', 10), ('Q', 5), ('Q(x)', 1)]), 27: OrderedDict([('measure', 19), ('h', 10), ('Q', 4), ('Q(x)', 1)]), 28: OrderedDict([('measure', 19), ('h', 10), ('Q(x)', 1)]), 29: OrderedDict([('measure', 19), ('h', 10), ('Q(x)', 1), ('Q', 1)]), 30: OrderedDict([('measure', 19), ('h', 10), ('Q(x)', 1), ('Q', 1)]), 31: OrderedDict([('measure', 19), ('h', 10), ('Q', 2), ('Q(x)', 1)]), 32: OrderedDict([('measure', 19), ('h', 10), ('Q', 4), ('Q(x)', 1)]), 33: OrderedDict([('measure', 19), ('h', 10), ('Q', 2), ('Q(x)', 1)]), 34: OrderedDict([('measure', 19), ('h', 10), ('Q', 4), ('Q(x)', 1)]), 35: OrderedDict([('measure', 19), ('h', 10), ('Q', 5), ('Q(x)', 1)]), 36: OrderedDict([('measure', 19), ('h', 10), ('Q', 8), ('Q(x)', 1)]), 37: OrderedDict([('measure', 19), ('h', 10), ('Q(x)', 1)]), 38: OrderedDict([('measure', 19), ('h', 10), ('Q(x)', 1)]), 39: OrderedDict([('measure', 19), ('h', 10), ('Q', 2), ('Q(x)', 1)]), 40: OrderedDict([('measure', 19), ('h', 10), ('Q', 3), ('Q(x)', 1)]), 41: OrderedDict([('measure', 19), ('h', 10), ('Q', 3), ('Q(x)', 1)]), 42: OrderedDict([('measure', 19), ('h', 10), ('Q(x)', 1), ('Q', 1)]), 43: OrderedDict([('measure', 19), ('h', 10), ('Q', 2), ('Q(x)', 1)]), 44: OrderedDict([('measure', 19), ('h', 10), ('Q', 5), ('Q(x)', 1)]), 45: OrderedDict([('measure', 19), ('h', 10), ('Q', 2), ('Q(x)', 1)]), 46: OrderedDict([('measure', 19), ('h', 10), ('Q', 3), ('Q(x)', 1)]), 47: OrderedDict([('measure', 19), ('h', 10), ('Q(x)', 1)]), 48: OrderedDict([('measure', 19), ('h', 10), ('Q(x)', 1), ('Q', 1)]), 49: OrderedDict([('measure', 19), ('Q', 17), ('h', 10), ('Q(x)', 1)]), 50: OrderedDict([('measure', 19), ('h', 10), ('Q(x)', 1)])}\n"
          ]
        }
      ],
      "source": [
        "grover_optimizer = GroverOptimizer(8, num_iterations=15, quantum_instance=backend,)\n",
        "results = grover_optimizer.solve(qp)\n",
        "print(results.prettyprint())\n",
        "print(results.operation_counts)"
      ]
    },
    {
      "cell_type": "code",
      "execution_count": 48,
      "id": "5646e073",
      "metadata": {
        "colab": {
          "base_uri": "https://localhost:8080/"
        },
        "id": "5646e073",
        "outputId": "4292f075-927f-4723-e19a-81c031784e6a"
      },
      "outputs": [
        {
          "output_type": "execute_result",
          "data": {
            "text/plain": [
              "136"
            ]
          },
          "metadata": {},
          "execution_count": 48
        }
      ],
      "source": [
        "eval_num(results.operation_counts, results._optimal_iteration)"
      ]
    },
    {
      "cell_type": "markdown",
      "source": [
        "performance compare"
      ],
      "metadata": {
        "id": "_C0Ah87XVRVy"
      },
      "id": "_C0Ah87XVRVy"
    },
    {
      "cell_type": "code",
      "execution_count": null,
      "id": "fecbc40d",
      "metadata": {
        "id": "fecbc40d"
      },
      "outputs": [],
      "source": []
    }
  ],
  "metadata": {
    "kernelspec": {
      "display_name": "Python 3 (ipykernel)",
      "language": "python",
      "name": "python3"
    },
    "language_info": {
      "codemirror_mode": {
        "name": "ipython",
        "version": 3
      },
      "file_extension": ".py",
      "mimetype": "text/x-python",
      "name": "python",
      "nbconvert_exporter": "python",
      "pygments_lexer": "ipython3",
      "version": "3.8.10"
    },
    "colab": {
      "provenance": []
    },
    "accelerator": "GPU",
    "gpuClass": "standard"
  },
  "nbformat": 4,
  "nbformat_minor": 5
}